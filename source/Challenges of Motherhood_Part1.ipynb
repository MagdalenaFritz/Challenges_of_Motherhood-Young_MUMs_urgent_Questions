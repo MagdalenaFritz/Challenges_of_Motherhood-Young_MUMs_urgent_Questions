{
 "cells": [
  {
   "cell_type": "markdown",
   "metadata": {},
   "source": [
    "# <center> Challenges of motherhood - Young MUM’s urgent questions - Part 1: Data Import, Data Cleaning, Preprocessing and Exploration"
   ]
  },
  {
   "cell_type": "code",
   "execution_count": 2,
   "metadata": {},
   "outputs": [],
   "source": [
    "# importing needed packages\n",
    "import pandas as pd\n",
    "import nltk\n",
    "from collections import Counter\n",
    "import time\n",
    "import string\n",
    "from nltk.corpus import stopwords\n",
    "import re\n",
    "from nltk.stem import PorterStemmer\n",
    "porter = PorterStemmer()\n",
    "import statistics\n",
    "import warnings\n",
    "import numpy as np\n",
    "from random import sample\n",
    "import fasttext"
   ]
  },
  {
   "cell_type": "markdown",
   "metadata": {},
   "source": [
    "## Data import"
   ]
  },
  {
   "cell_type": "markdown",
   "metadata": {},
   "source": [
    "The data has been split into mulitple files, since CrowdTangle can only export maximal 300.000 posts at once. Since there is a limited number of keywords one can search for with CrowdTangle, the keywords must have been split into 2 parts. Therefore duplicates can appear and have to be removed later."
   ]
  },
  {
   "cell_type": "code",
   "execution_count": 2,
   "metadata": {},
   "outputs": [],
   "source": [
    "#importing data\n",
    "part1_2019 = pd.read_csv('../data_new/2019_Part_1_Keywords.csv',low_memory=False)\n",
    "part1_2020 = pd.read_csv('../data_new/2020_Part_1_Keywords.csv',low_memory=False)\n",
    "part1_2021 = pd.read_csv('../data_new/2021_Part_1_Keywords.csv',low_memory=False)\n",
    "\n",
    "part2_2019 = pd.read_csv('../data_new/2019_Part_2_Keywords.csv',low_memory=False)\n",
    "part2_2020 = pd.read_csv('../data_new/2020_Part_2_Keywords.csv',low_memory=False)\n",
    "part2_2021_1 = pd.read_csv('../data_new/2021_01_06_Part_2_Keywords.csv',low_memory=False)\n",
    "part2_2021_2 = pd.read_csv('../data_new/2021_07_12_Part_2_Keywords.csv',low_memory=False)"
   ]
  },
  {
   "cell_type": "code",
   "execution_count": 3,
   "metadata": {},
   "outputs": [],
   "source": [
    "data_2019 = pd.concat([part1_2019,part2_2019],ignore_index=True)\n",
    "data_2020 = pd.concat([part1_2020,part2_2020],ignore_index=True)\n",
    "data_2021 = pd.concat([part1_2021,part2_2021_1,part2_2021_2],ignore_index=True)\n",
    "\n",
    "data_total = pd.concat([data_2019,data_2020,data_2021],ignore_index=True)"
   ]
  },
  {
   "cell_type": "code",
   "execution_count": 4,
   "metadata": {},
   "outputs": [
    {
     "name": "stdout",
     "output_type": "stream",
     "text": [
      "(292455, 41)\n",
      "(316513, 41)\n",
      "(376944, 41)\n",
      "(985912, 41)\n"
     ]
    }
   ],
   "source": [
    "print(data_2019.shape)\n",
    "print(data_2020.shape)\n",
    "print(data_2021.shape)\n",
    "print(data_total.shape)"
   ]
  },
  {
   "cell_type": "markdown",
   "metadata": {},
   "source": [
    "### Removing duplicates\n",
    "We are removing duplicated rows (where all column values are the same)."
   ]
  },
  {
   "cell_type": "code",
   "execution_count": 5,
   "metadata": {},
   "outputs": [],
   "source": [
    "dup_2019 = data_2019.duplicated()\n",
    "dup_2020 = data_2020.duplicated()\n",
    "dup_2021 = data_2021.duplicated()\n",
    "dup_total = data_total.duplicated()"
   ]
  },
  {
   "cell_type": "code",
   "execution_count": 6,
   "metadata": {},
   "outputs": [
    {
     "name": "stdout",
     "output_type": "stream",
     "text": [
      "41382\n",
      "44973\n",
      "55171\n",
      "141526\n"
     ]
    }
   ],
   "source": [
    "print(sum(dup_2019))\n",
    "print(sum(dup_2020))\n",
    "print(sum(dup_2021))\n",
    "print(sum(dup_total))"
   ]
  },
  {
   "cell_type": "code",
   "execution_count": 7,
   "metadata": {},
   "outputs": [],
   "source": [
    "# removing duplicates\n",
    "data_2019 = data_2019.drop_duplicates()\n",
    "data_2020 = data_2020.drop_duplicates()\n",
    "data_2021 = data_2021.drop_duplicates()\n",
    "data_total = data_total.drop_duplicates()"
   ]
  },
  {
   "cell_type": "code",
   "execution_count": 8,
   "metadata": {},
   "outputs": [
    {
     "name": "stdout",
     "output_type": "stream",
     "text": [
      "(251073, 41)\n",
      "(271540, 41)\n",
      "(321773, 41)\n",
      "(844386, 41)\n"
     ]
    }
   ],
   "source": [
    "print(data_2019.shape)\n",
    "print(data_2020.shape)\n",
    "print(data_2021.shape)\n",
    "print(data_total.shape)"
   ]
  },
  {
   "cell_type": "code",
   "execution_count": 9,
   "metadata": {},
   "outputs": [],
   "source": [
    "# reset index\n",
    "data_total = data_total.reset_index(drop=True)"
   ]
  },
  {
   "cell_type": "markdown",
   "metadata": {},
   "source": [
    "### First look at the dataset"
   ]
  },
  {
   "cell_type": "code",
   "execution_count": 10,
   "metadata": {},
   "outputs": [
    {
     "name": "stdout",
     "output_type": "stream",
     "text": [
      "(844386, 41)\n"
     ]
    }
   ],
   "source": [
    "print(data_total.shape)"
   ]
  },
  {
   "cell_type": "code",
   "execution_count": 11,
   "metadata": {},
   "outputs": [
    {
     "data": {
      "text/plain": [
       "Index(['Page Name', 'User Name', 'Facebook Id', 'Page Category',\n",
       "       'Page Admin Top Country', 'Page Description', 'Page Created',\n",
       "       'Likes at Posting', 'Followers at Posting', 'Post Created',\n",
       "       'Post Created Date', 'Post Created Time', 'Type', 'Total Interactions',\n",
       "       'Likes', 'Comments', 'Shares', 'Love', 'Wow', 'Haha', 'Sad', 'Angry',\n",
       "       'Care', 'Video Share Status', 'Is Video Owner?', 'Post Views',\n",
       "       'Total Views', 'Total Views For All Crossposts', 'Video Length', 'URL',\n",
       "       'Message', 'Link', 'Final Link', 'Image Text', 'Link Text',\n",
       "       'Description', 'Sponsor Id', 'Sponsor Name', 'Sponsor Category',\n",
       "       'Total Interactions (weighted  —  Likes 1x Shares 1x Comments 1x Love 1x Wow 1x Haha 1x Sad 1x Angry 1x Care 1x )',\n",
       "       'Overperforming Score'],\n",
       "      dtype='object')"
      ]
     },
     "execution_count": 11,
     "metadata": {},
     "output_type": "execute_result"
    }
   ],
   "source": [
    "data_total.columns"
   ]
  },
  {
   "cell_type": "code",
   "execution_count": 12,
   "metadata": {},
   "outputs": [
    {
     "data": {
      "text/html": [
       "<div>\n",
       "<style scoped>\n",
       "    .dataframe tbody tr th:only-of-type {\n",
       "        vertical-align: middle;\n",
       "    }\n",
       "\n",
       "    .dataframe tbody tr th {\n",
       "        vertical-align: top;\n",
       "    }\n",
       "\n",
       "    .dataframe thead th {\n",
       "        text-align: right;\n",
       "    }\n",
       "</style>\n",
       "<table border=\"1\" class=\"dataframe\">\n",
       "  <thead>\n",
       "    <tr style=\"text-align: right;\">\n",
       "      <th></th>\n",
       "      <th>Page Name</th>\n",
       "      <th>User Name</th>\n",
       "      <th>Facebook Id</th>\n",
       "      <th>Page Category</th>\n",
       "      <th>Page Admin Top Country</th>\n",
       "      <th>Page Description</th>\n",
       "      <th>Page Created</th>\n",
       "      <th>Likes at Posting</th>\n",
       "      <th>Followers at Posting</th>\n",
       "      <th>Post Created</th>\n",
       "      <th>...</th>\n",
       "      <th>Link</th>\n",
       "      <th>Final Link</th>\n",
       "      <th>Image Text</th>\n",
       "      <th>Link Text</th>\n",
       "      <th>Description</th>\n",
       "      <th>Sponsor Id</th>\n",
       "      <th>Sponsor Name</th>\n",
       "      <th>Sponsor Category</th>\n",
       "      <th>Total Interactions (weighted  —  Likes 1x Shares 1x Comments 1x Love 1x Wow 1x Haha 1x Sad 1x Angry 1x Care 1x )</th>\n",
       "      <th>Overperforming Score</th>\n",
       "    </tr>\n",
       "  </thead>\n",
       "  <tbody>\n",
       "    <tr>\n",
       "      <th>0</th>\n",
       "      <td>Animal Equality Germany</td>\n",
       "      <td>AnimalEqualityGermany</td>\n",
       "      <td>259770724096761</td>\n",
       "      <td>NON_PROFIT</td>\n",
       "      <td>DE</td>\n",
       "      <td>Animal Equality ist eine internationale Organi...</td>\n",
       "      <td>2012-01-26 02:21:30</td>\n",
       "      <td>256981.0</td>\n",
       "      <td>248129.0</td>\n",
       "      <td>2019-12-19 19:45:00 CET</td>\n",
       "      <td>...</td>\n",
       "      <td>NaN</td>\n",
       "      <td>NaN</td>\n",
       "      <td>NaN</td>\n",
       "      <td>NaN</td>\n",
       "      <td>NaN</td>\n",
       "      <td>NaN</td>\n",
       "      <td>NaN</td>\n",
       "      <td>NaN</td>\n",
       "      <td>37.175</td>\n",
       "      <td>128,19</td>\n",
       "    </tr>\n",
       "    <tr>\n",
       "      <th>1</th>\n",
       "      <td>DKMS Deutschland</td>\n",
       "      <td>DKMS.de</td>\n",
       "      <td>100064736678801</td>\n",
       "      <td>NON_PROFIT</td>\n",
       "      <td>DE</td>\n",
       "      <td>Einfach online registrieren und Leben retten: ...</td>\n",
       "      <td>2009-06-19 09:59:49</td>\n",
       "      <td>1165498.0</td>\n",
       "      <td>1120027.0</td>\n",
       "      <td>2019-09-14 09:13:00 CEST</td>\n",
       "      <td>...</td>\n",
       "      <td>https://www.facebook.com/92723147978/photos/a....</td>\n",
       "      <td>NaN</td>\n",
       "      <td>NaN</td>\n",
       "      <td>NaN</td>\n",
       "      <td>NaN</td>\n",
       "      <td>NaN</td>\n",
       "      <td>NaN</td>\n",
       "      <td>NaN</td>\n",
       "      <td>37.019</td>\n",
       "      <td>8,71</td>\n",
       "    </tr>\n",
       "  </tbody>\n",
       "</table>\n",
       "<p>2 rows × 41 columns</p>\n",
       "</div>"
      ],
      "text/plain": [
       "                 Page Name              User Name      Facebook Id  \\\n",
       "0  Animal Equality Germany  AnimalEqualityGermany  259770724096761   \n",
       "1         DKMS Deutschland                DKMS.de  100064736678801   \n",
       "\n",
       "  Page Category Page Admin Top Country  \\\n",
       "0    NON_PROFIT                     DE   \n",
       "1    NON_PROFIT                     DE   \n",
       "\n",
       "                                    Page Description         Page Created  \\\n",
       "0  Animal Equality ist eine internationale Organi...  2012-01-26 02:21:30   \n",
       "1  Einfach online registrieren und Leben retten: ...  2009-06-19 09:59:49   \n",
       "\n",
       "   Likes at Posting  Followers at Posting              Post Created  ...  \\\n",
       "0          256981.0              248129.0   2019-12-19 19:45:00 CET  ...   \n",
       "1         1165498.0             1120027.0  2019-09-14 09:13:00 CEST  ...   \n",
       "\n",
       "                                                Link Final Link Image Text  \\\n",
       "0                                                NaN        NaN        NaN   \n",
       "1  https://www.facebook.com/92723147978/photos/a....        NaN        NaN   \n",
       "\n",
       "   Link Text  Description  Sponsor Id  Sponsor Name  Sponsor Category  \\\n",
       "0        NaN          NaN         NaN           NaN               NaN   \n",
       "1        NaN          NaN         NaN           NaN               NaN   \n",
       "\n",
       "   Total Interactions (weighted  —  Likes 1x Shares 1x Comments 1x Love 1x Wow 1x Haha 1x Sad 1x Angry 1x Care 1x )  \\\n",
       "0                                             37.175                                                                  \n",
       "1                                             37.019                                                                  \n",
       "\n",
       "   Overperforming Score  \n",
       "0                128,19  \n",
       "1                  8,71  \n",
       "\n",
       "[2 rows x 41 columns]"
      ]
     },
     "execution_count": 12,
     "metadata": {},
     "output_type": "execute_result"
    }
   ],
   "source": [
    "data_total.head(2)"
   ]
  },
  {
   "cell_type": "code",
   "execution_count": 13,
   "metadata": {},
   "outputs": [
    {
     "data": {
      "text/html": [
       "<div>\n",
       "<style scoped>\n",
       "    .dataframe tbody tr th:only-of-type {\n",
       "        vertical-align: middle;\n",
       "    }\n",
       "\n",
       "    .dataframe tbody tr th {\n",
       "        vertical-align: top;\n",
       "    }\n",
       "\n",
       "    .dataframe thead th {\n",
       "        text-align: right;\n",
       "    }\n",
       "</style>\n",
       "<table border=\"1\" class=\"dataframe\">\n",
       "  <thead>\n",
       "    <tr style=\"text-align: right;\">\n",
       "      <th></th>\n",
       "      <th>Link Text</th>\n",
       "      <th>Message</th>\n",
       "    </tr>\n",
       "  </thead>\n",
       "  <tbody>\n",
       "    <tr>\n",
       "      <th>10</th>\n",
       "      <td>NaN</td>\n",
       "      <td>„Wenn die Menschen nichts mehr zu essen haben,...</td>\n",
       "    </tr>\n",
       "    <tr>\n",
       "      <th>11</th>\n",
       "      <td>NaN</td>\n",
       "      <td>Post einer Kinderkrankenschwester aus einer No...</td>\n",
       "    </tr>\n",
       "    <tr>\n",
       "      <th>12</th>\n",
       "      <td>NaN</td>\n",
       "      <td>1+1=3! Die Geburt des eigenen Kindes ist der s...</td>\n",
       "    </tr>\n",
       "    <tr>\n",
       "      <th>13</th>\n",
       "      <td>Photos from SOKO Tierschutz's post</td>\n",
       "      <td>Kommentar von Friedrich Von zwei Leben, drei G...</td>\n",
       "    </tr>\n",
       "    <tr>\n",
       "      <th>14</th>\n",
       "      <td>Baby kämpft um sein Leben, nachdem Mutter es v...</td>\n",
       "      <td>Baby kämpft um sein Leben, nachdem Mutter es v...</td>\n",
       "    </tr>\n",
       "    <tr>\n",
       "      <th>15</th>\n",
       "      <td>Photos from Zoologischer Stadtgarten Karlsruhe...</td>\n",
       "      <td>Flusspferd im Zoo Karlsruhe geboren Jungtier w...</td>\n",
       "    </tr>\n",
       "    <tr>\n",
       "      <th>16</th>\n",
       "      <td>Timeline photos</td>\n",
       "      <td>Danke, Facebook, für die Warnung vor dem \"sens...</td>\n",
       "    </tr>\n",
       "    <tr>\n",
       "      <th>17</th>\n",
       "      <td>Drama um Baby-Fuchs in Hessen</td>\n",
       "      <td>Als ein Paar einen Baby-Fuchs aus einem Drahtz...</td>\n",
       "    </tr>\n",
       "    <tr>\n",
       "      <th>18</th>\n",
       "      <td>NaN</td>\n",
       "      <td>✨ GEWINNSPIEL ✨ Für alle Puppenmamas und -papa...</td>\n",
       "    </tr>\n",
       "    <tr>\n",
       "      <th>19</th>\n",
       "      <td>NaN</td>\n",
       "      <td>Post einer Kinderkrankenschwester aus einer No...</td>\n",
       "    </tr>\n",
       "  </tbody>\n",
       "</table>\n",
       "</div>"
      ],
      "text/plain": [
       "                                            Link Text  \\\n",
       "10                                                NaN   \n",
       "11                                                NaN   \n",
       "12                                                NaN   \n",
       "13                 Photos from SOKO Tierschutz's post   \n",
       "14  Baby kämpft um sein Leben, nachdem Mutter es v...   \n",
       "15  Photos from Zoologischer Stadtgarten Karlsruhe...   \n",
       "16                                    Timeline photos   \n",
       "17                      Drama um Baby-Fuchs in Hessen   \n",
       "18                                                NaN   \n",
       "19                                                NaN   \n",
       "\n",
       "                                              Message  \n",
       "10  „Wenn die Menschen nichts mehr zu essen haben,...  \n",
       "11  Post einer Kinderkrankenschwester aus einer No...  \n",
       "12  1+1=3! Die Geburt des eigenen Kindes ist der s...  \n",
       "13  Kommentar von Friedrich Von zwei Leben, drei G...  \n",
       "14  Baby kämpft um sein Leben, nachdem Mutter es v...  \n",
       "15  Flusspferd im Zoo Karlsruhe geboren Jungtier w...  \n",
       "16  Danke, Facebook, für die Warnung vor dem \"sens...  \n",
       "17  Als ein Paar einen Baby-Fuchs aus einem Drahtz...  \n",
       "18  ✨ GEWINNSPIEL ✨ Für alle Puppenmamas und -papa...  \n",
       "19  Post einer Kinderkrankenschwester aus einer No...  "
      ]
     },
     "execution_count": 13,
     "metadata": {},
     "output_type": "execute_result"
    }
   ],
   "source": [
    "# since there are many NaN values in the 'Link Text' column we decided to work with the column 'Message'\n",
    "data_total[['Link Text','Message']][10:20]"
   ]
  },
  {
   "cell_type": "markdown",
   "metadata": {},
   "source": [
    "## Cleaning data\n",
    "\n",
    "In general we are interested in the column \"Message\".\n",
    "\n",
    "To clean the data there are a lot of manual steps necessary:\n",
    "\n",
    "* filtering out questions\n",
    "* removing posts with page category \"ZOO\"\n",
    "* checking the most active Pages (>100 posts) -> removing posts from the following pages \n",
    "    * \"Dealtown - Codes / Warehouse Deals / Coupons\"\n",
    "    * Kinderschnäppchen\n",
    "    * AMZ Deals - Schnäppchen, Rabatte & Angebote - Sparen!\n",
    "    * Amazon Schnäppchen. Preisfehler, Produktvideos und Kurioses\n",
    "    * Schnäppchen & Deals & Rabattcodes | Amazing-Deals\n",
    "    * Sparmutti\n",
    "    * Promiflash\n",
    "    * Run Run Deals Schnäppchen Rabatte DE 🇩🇪\n",
    "    * Tierengel Bulgarien\n",
    "    * Ich liebe Katzen\n",
    "    * Schnäppchenjäger - Deals, Rabatte & Schnäppchen\n",
    "    * Animal Hope Bulgaria - Varna - Support Page/Deutsch/\n",
    "    * Kinder Lern TV\n",
    "    * Ich liebe Hunde\n",
    "    * Nähen (OHNE REGELN)\n",
    "    * RTL Exclusiv\n",
    "    * RTL\n",
    "    * Hoffnung für Fellnasen- Alles rund um Tiere\n",
    "    * Probenähen und Werbung für Schnitte und neue Stoffe\n",
    "    * Online Schnäppchen, Rabatte, Preisfehler und unschlagbare Deals\n",
    "    * TAG24 Dresden\n",
    "    * TAG24 Chemnitz\n",
    "    * TAG24 Erzgebirge\n",
    "    * TAG24 Zwickau\n",
    "    * TAG24 Vogtland\n",
    "    * TAG24 Leipzig\n",
    "    * TAG24 Berlin\n",
    "    * TAG24 Köln\n",
    "    * TAG24 Hamburg\n",
    "    * TAG24 München\n",
    "    * TAG24 Gera\n",
    "    * TAG24 Frankfurt/Main\n",
    "    * TAG24\n",
    "    * TAG24 Erfurt\n",
    "    * TAG24 Jena\n",
    "    * TAG24 Stuttgart\n",
    "    * TAG24 Paderbor\n",
    "    * TAG24 Bielefeld\n",
    "    * TAG24 Minden\n",
    "    * VIP.de\n",
    "    * Fifty Shades of Grey Fans - Deutschland\n",
    "    * Prominent!\n",
    "    * Bewußtes Leipzig\n",
    "    * SpassFurKinder\n",
    "    * Hilfe für alle Tiere in Not  <3     <3\n",
    "    * Marktplatz der Tiere  ☼\n",
    "    * Buchtipp\n",
    "    * Wir sind Garten®🌻\n",
    "    * PatPat Germany\n",
    "    * Babauba\n",
    "    * Coin Master Tausch-Gruppe Deutschland\n",
    "    * Die größte Tierschutzgruppe auf Facebook\n",
    "    * OK! Magazin\n",
    "    * Kokadi\n",
    "    * Bücher, Leser und Autoren\n",
    "    * Schnäppchenwelt\n",
    "    * Buch und Lesen\n",
    "    * Lesestoff gesucht?! Werbung für alles rund um Bücher\n",
    "    * Bücher\n",
    "    * Neue Stoffe und Schnitte - Werbung\n",
    "    * BÜCHER WERBUNG\n",
    "    * earnesto\n",
    "    * myHummy.de\n",
    "    * Büchermarkt\n",
    "    * GEGEN Tierquälerei\n",
    "    * WhatsApp Gruppen\n",
    "    * Haustier sucht Herz\n",
    "    * eBooks & Bestseller\n",
    "    * TIERE IN NOT <3\n",
    "    * Online Deals und Schnäppchen für Alle!\n",
    "    * ANIMAL WELFARE NETWORK / TIERSCHUTZ NETZWERK\n",
    "    * Tiervermittlung international aus jedem Land in jeder Sprache\n",
    "    * LESELUPE ~~~ BUCHVORSTELLUNG\n",
    "    * Die Bücher-Truhe\n",
    "    * The Lounge - Books and More\n",
    "    * RTL Explosiv\n",
    "    * Pfotenfreunde Varna\n",
    "    * Der Lese-Klub\n",
    "    * Kreatives Nähen >>> Tauschen, Verkaufen und Werben\n",
    "    * Gala\n",
    "    * BUNTE.de\n",
    "    * Spiritualität & Bewusstsein - Esoterik, Gesundheit, Heilung\n",
    "    * Ernährung und Krebs\n",
    "    * Yoga Deutschland\n",
    "    * AMZ - Rabatte, Deals und Schnäppchen\n",
    "    * Spirituelle Angebote\n",
    "    * Ostsee Urlaub (Zimmer frei)\n",
    "    * BJ's Book Blog\n",
    "    * Werbung für Spirituelles\n",
    "    * Werbung für Wellness, spirituelle Bücher etc.\n",
    "    * nametests.com Deutsch\n",
    "    * RTL Aktuell\n",
    "    * omamashop.de\n",
    "    * Milkies - Muttermilchschmuck, Gravurschmuck, Erinnerungsschmuck\n",
    "    * Fit mit kids\n",
    "    * Spirituelle Webinare und Seminare und Werbung\n",
    "    * Freiheit der Gedanken\n",
    "    * Freiheitdergedanken\n",
    "    * Picarso Fotodesign - Neugeborene Baby Fotografie Cottbus Brandenburg\n",
    "    * Positiv +\n",
    "    * Miss Granny Baby & Kindermode\n",
    "    * cocoome\n",
    "    * BABY born\n",
    "    * Pflegende Angehörige\n",
    "    * AUF DER SUCHE - Pflege- und Endstellen <3\n",
    "    * FOCUS Online Panorama\n",
    "    * Energetiker - Netzwerk\n",
    "    * Hochwasser in AW - freiwillige Helfer Ahrweiler\n",
    "    * Jolie\n",
    "    * apost.com Deutsch\n",
    "    * Besinnlich kann ja jeder...\n",
    "    * die kartenmacherei\n",
    "    * Schmusewolke\n",
    "    * Hät öper..?\n",
    "    * LIMAS Baby Carriers\n",
    "    * InTouch\n",
    "    * manduca\n",
    "    * Seminare - Vorträge - Workshops\n",
    "    * Kangatraining in Koblenz mit Katharina\n",
    "    * Supermamafitness  - Akademie Heike Thierbach\n",
    "    \n",
    "* removing posts with specific words included like \n",
    "    * Gewinnspiel\n",
    "    * GEWINNSPIEL\n",
    "    * G E W I N N S P I E L\n",
    "    * WERBUNG\n",
    "    * ADOPTED\n",
    "    * verlosen\n",
    "    * Verlosung\n",
    "    * #handmade\n",
    "    * #Handmade\n",
    "    * GEWINNEN\n",
    "    * RABATT\n",
    "    * Rabatte\n",
    "    * Rabatt\n",
    "    \n",
    "Most active pages (>100 post) that contain for certain questions from young mothers/parents:\n",
    "\n",
    "* Eltern.de\n",
    "* Echte Mamas \n",
    "* Mama & Papa = ICH\n",
    "* Mein Kind ist mein Leben\n",
    "* Mami mit Herz und Seele\n",
    "* Von Mama zu Mama \n",
    "* Von Eltern für Elter\n",
    "* BabyCenter Deutschland\n",
    "* MOTHERBOOK"
   ]
  },
  {
   "cell_type": "markdown",
   "metadata": {},
   "source": [
    "### Filtering out questions"
   ]
  },
  {
   "cell_type": "code",
   "execution_count": 14,
   "metadata": {},
   "outputs": [
    {
     "name": "stdout",
     "output_type": "stream",
     "text": [
      "214054\n"
     ]
    }
   ],
   "source": [
    "# filter out questions\n",
    "ind = data_total['Message'].str.contains('\\?')\n",
    "ind = ind.fillna(False)\n",
    "\n",
    "# number of posts with questions\n",
    "print(sum(ind))\n",
    "\n",
    "# take only the posts with questions\n",
    "data_total = data_total[ind]"
   ]
  },
  {
   "cell_type": "markdown",
   "metadata": {},
   "source": [
    "### Dropping posts with page category 'ZOO'"
   ]
  },
  {
   "cell_type": "code",
   "execution_count": 15,
   "metadata": {},
   "outputs": [],
   "source": [
    "# drop rows with page category 'ZOO'\n",
    "zoo = data_total[data_total['Page Category']=='ZOO'].index\n",
    "data_total = data_total.drop(zoo)"
   ]
  },
  {
   "cell_type": "markdown",
   "metadata": {},
   "source": [
    "### Checking most active pages (>100 posts) and filtering out non-relevant ones"
   ]
  },
  {
   "cell_type": "code",
   "execution_count": 16,
   "metadata": {},
   "outputs": [
    {
     "data": {
      "text/plain": [
       "Eltern.de                                                      2690\n",
       "Dealtown - Codes / Warehouse Deals / Coupons                   2598\n",
       "Kinderschnäppchen                                              2069\n",
       "Echte Mamas                                                    1641\n",
       "miBaby                                                         1600\n",
       "AMZ Deals - Schnäppchen, Rabatte & Angebote - Sparen!          1540\n",
       "Amazon Schnäppchen. Preisfehler, Produktvideos und Kurioses    1421\n",
       "Schnäppchen & Deals & Rabattcodes | Amazing-Deals              1392\n",
       "Sparmutti                                                      1338\n",
       "Mama & Papa = ICH                                              1306\n",
       "Promiflash                                                     1291\n",
       "Mein Kind ist mein Leben                                       1243\n",
       "Run Run Deals Schnäppchen Rabatte DE 🇩🇪                         974\n",
       "Baby Sweets                                                     844\n",
       "omamashop.de                                                    617\n",
       "Tierengel Bulgarien                                             604\n",
       "Medela Deutschland                                              592\n",
       "Windelwissen.de                                                 532\n",
       "Windelmanufaktur                                                496\n",
       "Ich liebe Katzen                                                493\n",
       "Name: Page Name, dtype: int64"
      ]
     },
     "execution_count": 16,
     "metadata": {},
     "output_type": "execute_result"
    }
   ],
   "source": [
    "# check most active pages\n",
    "data_total['Page Name'].value_counts()[:20]"
   ]
  },
  {
   "cell_type": "code",
   "execution_count": 17,
   "metadata": {},
   "outputs": [
    {
     "data": {
      "text/plain": [
       "(210,)"
      ]
     },
     "execution_count": 17,
     "metadata": {},
     "output_type": "execute_result"
    }
   ],
   "source": [
    "# 210 pages have more than 100 posts\n",
    "data_total['Page Name'].value_counts()[data_total['Page Name'].value_counts()>100].shape"
   ]
  },
  {
   "cell_type": "code",
   "execution_count": 18,
   "metadata": {},
   "outputs": [],
   "source": [
    "# check out the posts from the listed pages, e.g.\n",
    "#data_total[data_total['Page Name']==\"Bewußtes Leipzig\"][\"Message\"]"
   ]
  },
  {
   "cell_type": "code",
   "execution_count": 19,
   "metadata": {},
   "outputs": [],
   "source": [
    "# remove post from page \"Dealtown - Codes / Warehouse Deals / Coupons\"\n",
    "ind_page = data_total[data_total['Page Name']==\"Dealtown - Codes / Warehouse Deals / Coupons\"].index\n",
    "data_total = data_total.drop(ind_page)\n",
    "\n",
    "# remove post from page \"Kinderschnäppchen\"\n",
    "ind_page = data_total[data_total['Page Name']==\"Kinderschnäppchen\"].index\n",
    "data_total = data_total.drop(ind_page)\n",
    "\n",
    "# remove post from page \"AMZ Deals - Schnäppchen, Rabatte & Angebote - Sparen!\"\n",
    "ind_page = data_total[data_total['Page Name']==\"AMZ Deals - Schnäppchen, Rabatte & Angebote - Sparen!\"].index\n",
    "data_total = data_total.drop(ind_page)\n",
    "\n",
    "# remove post from page \"Amazon Schnäppchen. Preisfehler, Produktvideos und Kurioses\"\n",
    "ind_page = data_total[data_total['Page Name']==\"Amazon Schnäppchen. Preisfehler, Produktvideos und Kurioses\"].index\n",
    "data_total = data_total.drop(ind_page)\n",
    "\n",
    "# remove post from page \"Schnäppchen & Deals & Rabattcodes | Amazing-Deals\"\n",
    "ind_page = data_total[data_total['Page Name']==\"Schnäppchen & Deals & Rabattcodes | Amazing-Deals\"].index\n",
    "data_total = data_total.drop(ind_page)\n",
    "\n",
    "# remove post from page \"Sparmutti\"\n",
    "ind_page = data_total[data_total['Page Name']==\"Sparmutti\"].index\n",
    "data_total = data_total.drop(ind_page)\n",
    "\n",
    "# remove post from page \"Promiflash\"\n",
    "ind_page = data_total[data_total['Page Name']==\"Promiflash\"].index\n",
    "data_total = data_total.drop(ind_page)\n",
    "\n",
    "# remove post from page \"Run Run Deals Schnäppchen Rabatte DE 🇩🇪\"\n",
    "ind_page = data_total[data_total['Page Name']==\"Run Run Deals Schnäppchen Rabatte DE 🇩🇪\"].index\n",
    "data_total = data_total.drop(ind_page)\n",
    "\n",
    "# remove post from page \"Tierengel Bulgarien\"\n",
    "ind_page = data_total[data_total['Page Name']==\"Tierengel Bulgarien\"].index\n",
    "data_total = data_total.drop(ind_page)\n",
    "\n",
    "# remove post from page \"Ich liebe Katzen\"\n",
    "ind_page = data_total[data_total['Page Name']==\"Ich liebe Katzen\"].index\n",
    "data_total = data_total.drop(ind_page)"
   ]
  },
  {
   "cell_type": "code",
   "execution_count": 20,
   "metadata": {},
   "outputs": [],
   "source": [
    "# remove post from page \"Schnäppchenjäger - Deals, Rabatte & Schnäppchen\"\n",
    "ind_page = data_total[data_total['Page Name']==\"Schnäppchenjäger - Deals, Rabatte & Schnäppchen\"].index\n",
    "data_total = data_total.drop(ind_page)\n",
    "\n",
    "# remove post from page \"Animal Hope Bulgaria - Varna - Support Page/Deutsch/\"\n",
    "ind_page = data_total[data_total['Page Name']==\"Animal Hope Bulgaria - Varna - Support Page/Deutsch/\"].index\n",
    "data_total = data_total.drop(ind_page)\n",
    "\n",
    "# remove post from page \"Kinder Lern TV\"\n",
    "ind_page = data_total[data_total['Page Name']==\"Kinder Lern TV\"].index\n",
    "data_total = data_total.drop(ind_page)\n",
    "\n",
    "# remove post from page \"Ich liebe Hunde\"\n",
    "ind_page = data_total[data_total['Page Name']==\"Ich liebe Hunde\"].index\n",
    "data_total = data_total.drop(ind_page)\n",
    "\n",
    "# remove post from page \"Nähen (OHNE REGELN)\"\n",
    "ind_page = data_total[data_total['Page Name']==\"Nähen (OHNE REGELN)\"].index\n",
    "data_total = data_total.drop(ind_page)\n",
    "\n",
    "# remove post from page \"RTL Exclusiv\"\n",
    "ind_page = data_total[data_total['Page Name']==\"RTL Exclusiv\"].index\n",
    "data_total = data_total.drop(ind_page)\n",
    "\n",
    "# remove post from page \"RTL\"\n",
    "ind_page = data_total[data_total['Page Name']==\"RTL\"].index\n",
    "data_total = data_total.drop(ind_page)\n",
    "\n",
    "# remove post from page \"Hoffnung für Fellnasen- Alles rund um Tiere\"\n",
    "ind_page = data_total[data_total['Page Name']==\"Hoffnung für Fellnasen- Alles rund um Tiere\"].index\n",
    "data_total = data_total.drop(ind_page)\n",
    "\n",
    "# remove post from page \"Probenähen und Werbung für Schnitte und neue Stoffe\"\n",
    "ind_page = data_total[data_total['Page Name']==\"Probenähen und Werbung für Schnitte und neue Stoffe\"].index\n",
    "data_total = data_total.drop(ind_page)\n",
    "\n",
    "# remove post from page \"Online Schnäppchen, Rabatte, Preisfehler und unschlagbare Deals\"\n",
    "ind_page = data_total[data_total['Page Name']==\"Online Schnäppchen, Rabatte, Preisfehler und unschlagbare Deals\"].index\n",
    "data_total = data_total.drop(ind_page)"
   ]
  },
  {
   "cell_type": "code",
   "execution_count": 21,
   "metadata": {},
   "outputs": [],
   "source": [
    "# remove post from page \"TAG24 Dresden\"\n",
    "ind_page = data_total[data_total['Page Name']==\"TAG24 Dresden\"].index\n",
    "data_total = data_total.drop(ind_page)\n",
    "\n",
    "# remove post from page \"TAG24 Chemnitz\"\n",
    "ind_page = data_total[data_total['Page Name']==\"TAG24 Chemnitz\"].index\n",
    "data_total = data_total.drop(ind_page)\n",
    "\n",
    "# remove post from page \"TAG24 Erzgebirge\"\n",
    "ind_page = data_total[data_total['Page Name']==\"TAG24 Erzgebirge\"].index\n",
    "data_total = data_total.drop(ind_page)\n",
    "\n",
    "# remove post from page \"TAG24 Zwickau\"\n",
    "ind_page = data_total[data_total['Page Name']==\"TAG24 Zwickau\"].index\n",
    "data_total = data_total.drop(ind_page)\n",
    "\n",
    "# remove post from page \"TAG24 Vogtland\"\n",
    "ind_page = data_total[data_total['Page Name']==\"TAG24 Vogtland\"].index\n",
    "data_total = data_total.drop(ind_page)\n",
    "\n",
    "# remove post from page \"TAG24 Leipzig\"\n",
    "ind_page = data_total[data_total['Page Name']==\"TAG24 Leipzig\"].index\n",
    "data_total = data_total.drop(ind_page)\n",
    "\n",
    "# remove post from page \"TAG24 Berlin\"\n",
    "ind_page = data_total[data_total['Page Name']==\"TAG24 Berlin\"].index\n",
    "data_total = data_total.drop(ind_page)\n",
    "\n",
    "# remove post from page \"TAG24 Köln\"\n",
    "ind_page = data_total[data_total['Page Name']==\"TAG24 Köln\"].index\n",
    "data_total = data_total.drop(ind_page)\n",
    "\n",
    "# remove post from page \"TAG24 Hamburg\"\n",
    "ind_page = data_total[data_total['Page Name']==\"TAG24 Hamburg\"].index\n",
    "data_total = data_total.drop(ind_page)\n",
    "\n",
    "# remove post from page \"TAG24 München\"\n",
    "ind_page = data_total[data_total['Page Name']==\"TAG24 München\"].index\n",
    "data_total = data_total.drop(ind_page)"
   ]
  },
  {
   "cell_type": "code",
   "execution_count": 22,
   "metadata": {},
   "outputs": [],
   "source": [
    "# remove post from page \"TAG24 Gera\"\n",
    "ind_page = data_total[data_total['Page Name']==\"TAG24 Gera\"].index\n",
    "data_total = data_total.drop(ind_page)\n",
    "\n",
    "# remove post from page \"TAG24 Frankfurt/Main\"\n",
    "ind_page = data_total[data_total['Page Name']==\"TAG24 Frankfurt/Main\"].index\n",
    "data_total = data_total.drop(ind_page)\n",
    "\n",
    "# remove post from page \"TAG24\"\n",
    "ind_page = data_total[data_total['Page Name']==\"TAG24\"].index\n",
    "data_total = data_total.drop(ind_page)\n",
    "\n",
    "# remove post from page \"TAG24 Erfurt\"\n",
    "ind_page = data_total[data_total['Page Name']==\"TAG24 Erfurt\"].index\n",
    "data_total = data_total.drop(ind_page)\n",
    "\n",
    "# remove post from page \"TAG24 Jena\"\n",
    "ind_page = data_total[data_total['Page Name']==\"TAG24 Jena\"].index\n",
    "data_total = data_total.drop(ind_page)\n",
    "\n",
    "# remove post from page \"TAG24 Stuttgart\"\n",
    "ind_page = data_total[data_total['Page Name']==\"TAG24 Stuttgart\"].index\n",
    "data_total = data_total.drop(ind_page)\n",
    "\n",
    "# remove post from page \"TAG24 Paderborn\"\n",
    "ind_page = data_total[data_total['Page Name']==\"TAG24 Paderborn\"].index\n",
    "data_total = data_total.drop(ind_page)\n",
    "\n",
    "# remove post from page \"TAG24 Bielefeld\"\n",
    "ind_page = data_total[data_total['Page Name']==\"TAG24 Bielefeld\"].index\n",
    "data_total = data_total.drop(ind_page)\n",
    "\n",
    "# remove post from page \"TAG24 Minden\"\n",
    "ind_page = data_total[data_total['Page Name']==\"TAG24 Minden\"].index\n",
    "data_total = data_total.drop(ind_page)\n",
    "\n",
    "# remove post from page \"VIP.de\"\n",
    "ind_page = data_total[data_total['Page Name']==\"VIP.de\"].index\n",
    "data_total = data_total.drop(ind_page)"
   ]
  },
  {
   "cell_type": "code",
   "execution_count": 23,
   "metadata": {},
   "outputs": [],
   "source": [
    "# remove post from page \"Fifty Shades of Grey Fans - Deutschland\"\n",
    "ind_page = data_total[data_total['Page Name']==\"Fifty Shades of Grey Fans - Deutschland\"].index\n",
    "data_total = data_total.drop(ind_page)\n",
    "\n",
    "# remove post from page \"Prominent!\"\n",
    "ind_page = data_total[data_total['Page Name']==\"Prominent!\"].index\n",
    "data_total = data_total.drop(ind_page)\n",
    "\n",
    "# remove post from page \"Bewußtes Leipzig\"\n",
    "ind_page = data_total[data_total['Page Name']==\"Bewußtes Leipzig\"].index\n",
    "data_total = data_total.drop(ind_page)\n",
    "\n",
    "# remove post from page \"SpassFurKinder\"\n",
    "ind_page = data_total[data_total['Page Name']==\"SpassFurKinder\"].index\n",
    "data_total = data_total.drop(ind_page)\n",
    "\n",
    "# remove post from page \"Hilfe für alle Tiere in Not  <3     <3\"\n",
    "ind_page = data_total[data_total['Page Name']==\"Hilfe für alle Tiere in Not  <3     <3\"].index\n",
    "data_total = data_total.drop(ind_page)\n",
    "\n",
    "# remove post from page \"Marktplatz der Tiere  ☼\"\n",
    "ind_page = data_total[data_total['Page Name']==\"Marktplatz der Tiere  ☼\"].index\n",
    "data_total = data_total.drop(ind_page)\n",
    "\n",
    "# remove post from page \"Buchtipp\"\n",
    "ind_page = data_total[data_total['Page Name']==\"Buchtipp\"].index\n",
    "data_total = data_total.drop(ind_page)\n",
    "\n",
    "# remove post from page \"Wir sind Garten®🌻\"\n",
    "ind_page = data_total[data_total['Page Name']==\"Wir sind Garten®🌻\"].index\n",
    "data_total = data_total.drop(ind_page)\n",
    "\n",
    "# remove post from page \"PatPat Germany\"\n",
    "ind_page = data_total[data_total['Page Name']==\"PatPat Germany\"].index\n",
    "data_total = data_total.drop(ind_page)\n",
    "\n",
    "# remove post from page \"Babauba\"\n",
    "ind_page = data_total[data_total['Page Name']==\"Babauba\"].index\n",
    "data_total = data_total.drop(ind_page)"
   ]
  },
  {
   "cell_type": "code",
   "execution_count": 24,
   "metadata": {},
   "outputs": [],
   "source": [
    "# remove post from page \"Coin Master Tausch-Gruppe Deutschland\"\n",
    "ind_page = data_total[data_total['Page Name']==\"Coin Master Tausch-Gruppe Deutschland\"].index\n",
    "data_total = data_total.drop(ind_page)\n",
    "\n",
    "# remove post from page \"Die größte Tierschutzgruppe auf Facebook\"\n",
    "ind_page = data_total[data_total['Page Name']==\"Die größte Tierschutzgruppe auf Facebook\"].index\n",
    "data_total = data_total.drop(ind_page)\n",
    "\n",
    "# remove post from page \"OK! Magazin\"\n",
    "ind_page = data_total[data_total['Page Name']==\"OK! Magazin\"].index\n",
    "data_total = data_total.drop(ind_page) \n",
    "\n",
    "# remove post from page \"Kokadi\"\n",
    "ind_page = data_total[data_total['Page Name']==\"Kokadi\"].index\n",
    "data_total = data_total.drop(ind_page) \n",
    "\n",
    "# remove post from page \"Bücher, Leser und Autoren\"\n",
    "ind_page = data_total[data_total['Page Name']==\"Bücher, Leser und Autoren\"].index\n",
    "data_total = data_total.drop(ind_page) \n",
    "\n",
    "# remove post from page \"Schnäppchenwelt\"\n",
    "ind_page = data_total[data_total['Page Name']==\"Schnäppchenwelt\"].index\n",
    "data_total = data_total.drop(ind_page) \n",
    "\n",
    "# remove post from page \"Buch und Lesen\"\n",
    "ind_page = data_total[data_total['Page Name']==\"Buch und Lesen\"].index\n",
    "data_total = data_total.drop(ind_page) \n",
    "\n",
    "# remove post from page \"Lesestoff gesucht?! Werbung für alles rund um Bücher\"\n",
    "ind_page = data_total[data_total['Page Name']==\"Lesestoff gesucht?! Werbung für alles rund um Bücher\"].index\n",
    "data_total = data_total.drop(ind_page) \n",
    "\n",
    "# remove post from page \"Bücher\"\n",
    "ind_page = data_total[data_total['Page Name']==\"Bücher\"].index\n",
    "data_total = data_total.drop(ind_page)\n",
    "\n",
    "# remove post from page \"Neue Stoffe und Schnitte - Werbung\"\n",
    "ind_page = data_total[data_total['Page Name']==\"Neue Stoffe und Schnitte - Werbung\"].index\n",
    "data_total = data_total.drop(ind_page)"
   ]
  },
  {
   "cell_type": "code",
   "execution_count": 25,
   "metadata": {},
   "outputs": [],
   "source": [
    "# remove post from page \"BÜCHER WERBUNG\"\n",
    "ind_page = data_total[data_total['Page Name']==\"BÜCHER WERBUNG\"].index\n",
    "data_total = data_total.drop(ind_page)\n",
    "\n",
    "# remove post from page \"earnesto\"\n",
    "ind_page = data_total[data_total['Page Name']==\"earnesto\"].index\n",
    "data_total = data_total.drop(ind_page)\n",
    "\n",
    "# remove post from page \"myHummy.de\"\n",
    "ind_page = data_total[data_total['Page Name']==\"myHummy.de\"].index\n",
    "data_total = data_total.drop(ind_page)\n",
    "\n",
    "# remove post from page \"Büchermarkt\"\n",
    "ind_page = data_total[data_total['Page Name']==\"Büchermarkt\"].index\n",
    "data_total = data_total.drop(ind_page)\n",
    "\n",
    "# remove post from page \"GEGEN Tierquälerei\"\n",
    "ind_page = data_total[data_total['Page Name']==\"GEGEN Tierquälerei\"].index\n",
    "data_total = data_total.drop(ind_page)\n",
    "\n",
    "# remove post from page \"WhatsApp Gruppen\"\n",
    "ind_page = data_total[data_total['Page Name']==\"WhatsApp Gruppen\"].index\n",
    "data_total = data_total.drop(ind_page)\n",
    "\n",
    "# remove post from page \"Haustier sucht Herz\"\n",
    "ind_page = data_total[data_total['Page Name']==\"Haustier sucht Herz\"].index\n",
    "data_total = data_total.drop(ind_page)\n",
    "\n",
    "# remove post from page \"eBooks & Bestseller\"\n",
    "ind_page = data_total[data_total['Page Name']==\"eBooks & Bestseller\"].index\n",
    "data_total = data_total.drop(ind_page)\n",
    "\n",
    "# remove post from page \"TIERE IN NOT <3\"\n",
    "ind_page = data_total[data_total['Page Name']==\"TIERE IN NOT <3\"].index\n",
    "data_total = data_total.drop(ind_page)\n",
    "\n",
    "# remove post from page \"Online Deals und Schnäppchen für Alle!\"\n",
    "ind_page = data_total[data_total['Page Name']==\"Online Deals und Schnäppchen für Alle!\"].index\n",
    "data_total = data_total.drop(ind_page)"
   ]
  },
  {
   "cell_type": "code",
   "execution_count": 26,
   "metadata": {},
   "outputs": [],
   "source": [
    "# remove post from page \"ANIMAL WELFARE NETWORK / TIERSCHUTZ NETZWERK\"\n",
    "ind_page = data_total[data_total['Page Name']==\"ANIMAL WELFARE NETWORK / TIERSCHUTZ NETZWERK\"].index\n",
    "data_total = data_total.drop(ind_page)\n",
    "\n",
    "# remove post from page \"Tiervermittlung international aus jedem Land in jeder Sprache\"\n",
    "ind_page = data_total[data_total['Page Name']==\"Tiervermittlung international aus jedem Land in jeder Sprache\"].index\n",
    "data_total = data_total.drop(ind_page)\n",
    "\n",
    "# remove post from page \"LESELUPE ~~~ BUCHVORSTELLUNG\"\n",
    "ind_page = data_total[data_total['Page Name']==\"LESELUPE ~~~ BUCHVORSTELLUNG\"].index\n",
    "data_total = data_total.drop(ind_page)\n",
    "\n",
    "# remove post from page \"Die Bücher-Truhe\"\n",
    "ind_page = data_total[data_total['Page Name']==\"Die Bücher-Truhe\"].index\n",
    "data_total = data_total.drop(ind_page)\n",
    "\n",
    "# remove post from page \"The Lounge - Books and More\"\n",
    "ind_page = data_total[data_total['Page Name']==\"The Lounge - Books and More\"].index\n",
    "data_total = data_total.drop(ind_page)\n",
    "\n",
    "# remove post from page \"RTL Explosiv\"\n",
    "ind_page = data_total[data_total['Page Name']==\"RTL Explosiv\"].index\n",
    "data_total = data_total.drop(ind_page)\n",
    "\n",
    "# remove post from page \"Pfotenfreunde Varna\"\n",
    "ind_page = data_total[data_total['Page Name']==\"Pfotenfreunde Varna\"].index\n",
    "data_total = data_total.drop(ind_page)\n",
    "\n",
    "# remove post from page \"Der Lese-Klub\"\n",
    "ind_page = data_total[data_total['Page Name']==\"Der Lese-Klub\"].index\n",
    "data_total = data_total.drop(ind_page)\n",
    "\n",
    "# remove post from page \"Kreatives Nähen >>> Tauschen, Verkaufen und Werben\"\n",
    "ind_page = data_total[data_total['Page Name']==\"Kreatives Nähen >>> Tauschen, Verkaufen und Werben\"].index\n",
    "data_total = data_total.drop(ind_page)\n",
    "\n",
    "# remove post from page \"Gala\"\n",
    "ind_page = data_total[data_total['Page Name']==\"Gala\"].index\n",
    "data_total = data_total.drop(ind_page)"
   ]
  },
  {
   "cell_type": "code",
   "execution_count": 27,
   "metadata": {},
   "outputs": [],
   "source": [
    "# remove post from page \"BUNTE.de\"\n",
    "ind_page = data_total[data_total['Page Name']==\"BUNTE.de\"].index\n",
    "data_total = data_total.drop(ind_page)\n",
    "\n",
    "# remove post from page \"Spiritualität & Bewusstsein - Esoterik, Gesundheit, Heilung\"\n",
    "ind_page = data_total[data_total['Page Name']==\"Spiritualität & Bewusstsein - Esoterik, Gesundheit, Heilung\"].index\n",
    "data_total = data_total.drop(ind_page)\n",
    "\n",
    "# remove post from page \"Ernährung und Krebs\"\n",
    "ind_page = data_total[data_total['Page Name']==\"Ernährung und Krebs\"].index\n",
    "data_total = data_total.drop(ind_page)\n",
    "\n",
    "# remove post from page \"Yoga Deutschland\"\n",
    "ind_page = data_total[data_total['Page Name']==\"Yoga Deutschland\"].index\n",
    "data_total = data_total.drop(ind_page)\n",
    "\n",
    "# remove post from page \"AMZ - Rabatte, Deals und Schnäppchen\"\n",
    "ind_page = data_total[data_total['Page Name']==\"AMZ - Rabatte, Deals und Schnäppchen\"].index\n",
    "data_total = data_total.drop(ind_page)\n",
    "\n",
    "# remove post from page \"Spirituelle Angebote\"\n",
    "ind_page = data_total[data_total['Page Name']==\"Spirituelle Angebote\"].index\n",
    "data_total = data_total.drop(ind_page)\n",
    "\n",
    "# remove post from page \"Ostsee Urlaub (Zimmer frei)\"\n",
    "ind_page = data_total[data_total['Page Name']==\"Ostsee Urlaub (Zimmer frei)\"].index\n",
    "data_total = data_total.drop(ind_page)\n",
    "\n",
    "# remove post from page \"BJ's Book Blog\"\n",
    "ind_page = data_total[data_total['Page Name']==\"BJ's Book Blog\"].index\n",
    "data_total = data_total.drop(ind_page)\n",
    "\n",
    "# remove post from page \"Werbung für Spirituelles\"\n",
    "ind_page = data_total[data_total['Page Name']==\"Werbung für Spirituelles\"].index\n",
    "data_total = data_total.drop(ind_page)\n",
    "\n",
    "# remove post from page \"Werbung für Wellness, spirituelle Bücher etc.\"\n",
    "ind_page = data_total[data_total['Page Name']==\"Werbung für Wellness, spirituelle Bücher etc.\"].index\n",
    "data_total = data_total.drop(ind_page)"
   ]
  },
  {
   "cell_type": "code",
   "execution_count": 28,
   "metadata": {},
   "outputs": [],
   "source": [
    "# remove post from page \"nametests.com Deutsch\"\n",
    "ind_page = data_total[data_total['Page Name']==\"nametests.com Deutsch\"].index\n",
    "data_total = data_total.drop(ind_page)\n",
    "\n",
    "# remove post from page \"RTL Aktuell\"\n",
    "ind_page = data_total[data_total['Page Name']==\"RTL Aktuell\"].index\n",
    "data_total = data_total.drop(ind_page)\n",
    "\n",
    "# remove post from page \"omamashop.de\"\n",
    "ind_page = data_total[data_total['Page Name']==\"omamashop.de\"].index\n",
    "data_total = data_total.drop(ind_page)\n",
    "\n",
    "# remove post from page \"Milkies - Muttermilchschmuck, Gravurschmuck, Erinnerungsschmuck\"\n",
    "ind_page = data_total[data_total['Page Name']==\"Milkies - Muttermilchschmuck, Gravurschmuck, Erinnerungsschmuck\"].index\n",
    "data_total = data_total.drop(ind_page)\n",
    "\n",
    "# remove post from page \"Fit mit kids\"\n",
    "ind_page = data_total[data_total['Page Name']==\"Fit mit kids\"].index\n",
    "data_total = data_total.drop(ind_page)\n",
    "\n",
    "# remove post from page \"Spirituelle Webinare und Seminare und Werbung\"\n",
    "ind_page = data_total[data_total['Page Name']==\"Spirituelle Webinare und Seminare und Werbung\"].index\n",
    "data_total = data_total.drop(ind_page)\n",
    "\n",
    "# remove post from page \"Freiheit der Gedanken\"\n",
    "ind_page = data_total[data_total['Page Name']==\"Freiheit der Gedanken\"].index\n",
    "data_total = data_total.drop(ind_page)\n",
    "\n",
    "# remove post from page \"Freiheitdergedanken\"\n",
    "ind_page = data_total[data_total['Page Name']==\"Freiheitdergedanken\"].index\n",
    "data_total = data_total.drop(ind_page)\n",
    "\n",
    "# remove post from page \"Picarso Fotodesign - Neugeborene Baby Fotografie Cottbus Brandenburg\"\n",
    "ind_page = data_total[data_total['Page Name']==\"Picarso Fotodesign - Neugeborene Baby Fotografie Cottbus Brandenburg\"].index\n",
    "data_total = data_total.drop(ind_page)\n",
    "\n",
    "# remove post from page \"Positiv +\"\n",
    "ind_page = data_total[data_total['Page Name']==\"Positiv +\"].index\n",
    "data_total = data_total.drop(ind_page)"
   ]
  },
  {
   "cell_type": "code",
   "execution_count": 29,
   "metadata": {},
   "outputs": [],
   "source": [
    "# remove post from page \"Miss Granny Baby & Kindermode\"\n",
    "ind_page = data_total[data_total['Page Name']==\"Miss Granny Baby & Kindermode\"].index\n",
    "data_total = data_total.drop(ind_page)\n",
    "\n",
    "# remove post from page \"cocoome\"\n",
    "ind_page = data_total[data_total['Page Name']==\"cocoome\"].index\n",
    "data_total = data_total.drop(ind_page)\n",
    "\n",
    "# remove post from page \"BABY born\"\n",
    "ind_page = data_total[data_total['Page Name']==\"BABY born\"].index\n",
    "data_total = data_total.drop(ind_page)\n",
    "\n",
    "# remove post from page \"Pflegende Angehörige\"\n",
    "ind_page = data_total[data_total['Page Name']==\"Pflegende Angehörige\"].index\n",
    "data_total = data_total.drop(ind_page)\n",
    "\n",
    "# remove post from page \"AUF DER SUCHE - Pflege- und Endstellen <3\"\n",
    "ind_page = data_total[data_total['Page Name']==\"AUF DER SUCHE - Pflege- und Endstellen <3\"].index\n",
    "data_total = data_total.drop(ind_page)\n",
    "\n",
    "# remove post from page \"FOCUS Online Panorama\"\n",
    "ind_page = data_total[data_total['Page Name']==\"FOCUS Online Panorama\"].index\n",
    "data_total = data_total.drop(ind_page)\n",
    "\n",
    "# remove post from page \"Energetiker - Netzwerk\"\n",
    "ind_page = data_total[data_total['Page Name']==\"Energetiker - Netzwerk\"].index\n",
    "data_total = data_total.drop(ind_page)\n",
    "\n",
    "# remove post from page \"Hochwasser in AW - freiwillige Helfer Ahrweiler\"\n",
    "ind_page = data_total[data_total['Page Name']==\"Hochwasser in AW - freiwillige Helfer Ahrweiler\"].index\n",
    "data_total = data_total.drop(ind_page)\n",
    "\n",
    "# remove post from page \"Jolie\"\n",
    "ind_page = data_total[data_total['Page Name']==\"Jolie\"].index\n",
    "data_total = data_total.drop(ind_page)\n",
    "\n",
    "# remove post from page \"apost.com Deutsch\"\n",
    "ind_page = data_total[data_total['Page Name']==\"apost.com Deutsch\"].index\n",
    "data_total = data_total.drop(ind_page)"
   ]
  },
  {
   "cell_type": "code",
   "execution_count": 30,
   "metadata": {},
   "outputs": [],
   "source": [
    "# remove post from page \"Besinnlich kann ja jeder...\"\n",
    "ind_page = data_total[data_total['Page Name']==\"Besinnlich kann ja jeder...\"].index\n",
    "data_total = data_total.drop(ind_page)\n",
    "\n",
    "# remove post from page \"die kartenmacherei\"\n",
    "ind_page = data_total[data_total['Page Name']==\"die kartenmacherei\"].index\n",
    "data_total = data_total.drop(ind_page)\n",
    "\n",
    "# remove post from page \"Schmusewolke\"\n",
    "ind_page = data_total[data_total['Page Name']==\"Schmusewolke\"].index\n",
    "data_total = data_total.drop(ind_page)\n",
    "\n",
    "# remove post from page \"Hät öper..?\"\n",
    "ind_page = data_total[data_total['Page Name']==\"Hät öper..?\"].index\n",
    "data_total = data_total.drop(ind_page)\n",
    "\n",
    "# remove post from page \"LIMAS Baby Carriers\"\n",
    "ind_page = data_total[data_total['Page Name']==\"LIMAS Baby Carriers\"].index\n",
    "data_total = data_total.drop(ind_page)\n",
    "\n",
    "# remove post from page \"InTouch\"\n",
    "ind_page = data_total[data_total['Page Name']==\"InTouch\"].index\n",
    "data_total = data_total.drop(ind_page)\n",
    "\n",
    "# remove post from page \"manduca\"\n",
    "ind_page = data_total[data_total['Page Name']==\"manduca\"].index\n",
    "data_total = data_total.drop(ind_page)\n",
    "\n",
    "# remove post from page \"Seminare - Vorträge - Workshops\"\n",
    "ind_page = data_total[data_total['Page Name']==\"Seminare - Vorträge - Workshops\"].index\n",
    "data_total = data_total.drop(ind_page)\n",
    "\n",
    "# remove post from page \"Kangatraining in Koblenz mit Katharina\"\n",
    "ind_page = data_total[data_total['Page Name']==\"Kangatraining in Koblenz mit Katharina\"].index\n",
    "data_total = data_total.drop(ind_page)\n",
    "\n",
    "# remove post from page \"Supermamafitness  - Akademie Heike Thierbach\"\n",
    "ind_page = data_total[data_total['Page Name']==\"Supermamafitness  - Akademie Heike Thierbach\"].index\n",
    "data_total = data_total.drop(ind_page)"
   ]
  },
  {
   "cell_type": "markdown",
   "metadata": {},
   "source": [
    "### Removing posts with specific keywords:"
   ]
  },
  {
   "cell_type": "code",
   "execution_count": 31,
   "metadata": {},
   "outputs": [
    {
     "name": "stdout",
     "output_type": "stream",
     "text": [
      "2299\n"
     ]
    }
   ],
   "source": [
    "# \"Gewinnspiel\"\n",
    "ind_remove = data_total['Message'].str.contains('Gewinnspiel')\n",
    "print(sum(ind_remove))\n",
    "data_total = data_total[np.logical_not(ind_remove)]"
   ]
  },
  {
   "cell_type": "code",
   "execution_count": 32,
   "metadata": {},
   "outputs": [
    {
     "name": "stdout",
     "output_type": "stream",
     "text": [
      "143\n"
     ]
    }
   ],
   "source": [
    "# \"GEWINNSPIEL\"\n",
    "ind_remove = data_total['Message'].str.contains('GEWINNSPIEL')\n",
    "print(sum(ind_remove))\n",
    "data_total = data_total[np.logical_not(ind_remove)]"
   ]
  },
  {
   "cell_type": "code",
   "execution_count": 33,
   "metadata": {},
   "outputs": [
    {
     "name": "stdout",
     "output_type": "stream",
     "text": [
      "2\n"
     ]
    }
   ],
   "source": [
    "# \"G E W I N N S P I E L\"\n",
    "ind_remove = data_total['Message'].str.contains('G E W I N N S P I E L')\n",
    "print(sum(ind_remove))\n",
    "data_total = data_total[np.logical_not(ind_remove)]"
   ]
  },
  {
   "cell_type": "code",
   "execution_count": 34,
   "metadata": {},
   "outputs": [
    {
     "name": "stdout",
     "output_type": "stream",
     "text": [
      "168\n"
     ]
    }
   ],
   "source": [
    "# \"WERBUNG\"\n",
    "ind_remove = data_total['Message'].str.contains('WERBUNG')\n",
    "print(sum(ind_remove))\n",
    "data_total = data_total[np.logical_not(ind_remove)]"
   ]
  },
  {
   "cell_type": "code",
   "execution_count": 35,
   "metadata": {},
   "outputs": [
    {
     "name": "stdout",
     "output_type": "stream",
     "text": [
      "4\n"
     ]
    }
   ],
   "source": [
    "# \"ADOPTED\"\n",
    "ind_remove = data_total['Message'].str.contains('ADOPTED')\n",
    "print(sum(ind_remove))\n",
    "data_total = data_total[np.logical_not(ind_remove)]"
   ]
  },
  {
   "cell_type": "code",
   "execution_count": 36,
   "metadata": {},
   "outputs": [
    {
     "name": "stdout",
     "output_type": "stream",
     "text": [
      "399\n"
     ]
    }
   ],
   "source": [
    "# \"verlosen\"\n",
    "ind_remove = data_total['Message'].str.contains('verlosen')\n",
    "print(sum(ind_remove))\n",
    "data_total = data_total[np.logical_not(ind_remove)]"
   ]
  },
  {
   "cell_type": "code",
   "execution_count": 37,
   "metadata": {},
   "outputs": [
    {
     "name": "stdout",
     "output_type": "stream",
     "text": [
      "145\n"
     ]
    }
   ],
   "source": [
    "# \"Verlosung\"\n",
    "ind_remove = data_total['Message'].str.contains('Verlosung')\n",
    "print(sum(ind_remove))\n",
    "data_total = data_total[np.logical_not(ind_remove)]"
   ]
  },
  {
   "cell_type": "code",
   "execution_count": 38,
   "metadata": {},
   "outputs": [
    {
     "name": "stdout",
     "output_type": "stream",
     "text": [
      "1061\n"
     ]
    }
   ],
   "source": [
    "# \"#handmade\"\n",
    "ind_remove = data_total['Message'].str.contains('#handmade')\n",
    "print(sum(ind_remove))\n",
    "data_total = data_total[np.logical_not(ind_remove)]"
   ]
  },
  {
   "cell_type": "code",
   "execution_count": 39,
   "metadata": {},
   "outputs": [
    {
     "name": "stdout",
     "output_type": "stream",
     "text": [
      "16\n"
     ]
    }
   ],
   "source": [
    "# \"#Handmade\"\n",
    "ind_remove = data_total['Message'].str.contains('#Handmade')\n",
    "print(sum(ind_remove))\n",
    "data_total = data_total[np.logical_not(ind_remove)]"
   ]
  },
  {
   "cell_type": "code",
   "execution_count": 40,
   "metadata": {},
   "outputs": [
    {
     "name": "stdout",
     "output_type": "stream",
     "text": [
      "46\n"
     ]
    }
   ],
   "source": [
    "# \"GEWINNEN\"\n",
    "ind_remove = data_total['Message'].str.contains('GEWINNEN')\n",
    "print(sum(ind_remove))\n",
    "data_total = data_total[np.logical_not(ind_remove)]"
   ]
  },
  {
   "cell_type": "code",
   "execution_count": 41,
   "metadata": {},
   "outputs": [
    {
     "name": "stdout",
     "output_type": "stream",
     "text": [
      "107\n"
     ]
    }
   ],
   "source": [
    "# \"RABATT\"\n",
    "ind_remove = data_total['Message'].str.contains('RABATT')\n",
    "print(sum(ind_remove))\n",
    "data_total = data_total[np.logical_not(ind_remove)]"
   ]
  },
  {
   "cell_type": "code",
   "execution_count": 42,
   "metadata": {},
   "outputs": [
    {
     "name": "stdout",
     "output_type": "stream",
     "text": [
      "133\n"
     ]
    }
   ],
   "source": [
    "# \"Rabatte\"\n",
    "ind_remove = data_total['Message'].str.contains('Rabatte')\n",
    "print(sum(ind_remove))\n",
    "data_total = data_total[np.logical_not(ind_remove)]"
   ]
  },
  {
   "cell_type": "code",
   "execution_count": 43,
   "metadata": {},
   "outputs": [
    {
     "name": "stdout",
     "output_type": "stream",
     "text": [
      "1394\n"
     ]
    }
   ],
   "source": [
    "# \"Rabatt\"\n",
    "ind_remove = data_total['Message'].str.contains('Rabatt')\n",
    "print(sum(ind_remove))\n",
    "data_total = data_total[np.logical_not(ind_remove)]"
   ]
  },
  {
   "cell_type": "markdown",
   "metadata": {},
   "source": [
    "## Preprocessing\n",
    "\n",
    "Several preprocessing steps have to be performed:\n",
    "\n",
    "* removing all duplicates from the message column\n",
    "* using the Jaccard similarity to remove posts with a similarity >0.95 (to exclude almost similar posts, where e.g. only some letters differ)\n",
    "* removing all URLs in the posts\n",
    "* filtering out English posts\n",
    "* Information Retrieval Steps:\n",
    "\n",
    "    * tokenization\n",
    "    * case folding\n",
    "    * removing stopwords\n",
    "    * removing all forms of punctuation\n",
    "    * removing all numbers\n",
    "    * removing all dashes\n",
    "    * removing all quotes\n",
    "    * stemming\n",
    "    * removing NaNs in preprocessed column\n",
    "    * remove Regex expressions\n",
    "    * removing empty tokens\n",
    "    \n",
    "* Checking if there is at least one keyword in each post -> remove post otherwise"
   ]
  },
  {
   "cell_type": "markdown",
   "metadata": {},
   "source": [
    "### Removing all duplicates from the message column\n",
    "\n",
    "Sorting the rows of the dataset by creation date and keep for the same posts the one that has been created first"
   ]
  },
  {
   "cell_type": "code",
   "execution_count": 44,
   "metadata": {},
   "outputs": [],
   "source": [
    "# sorting the dataset by the post creation date\n",
    "data_total = data_total.sort_values(by=['Post Created'])"
   ]
  },
  {
   "cell_type": "code",
   "execution_count": 45,
   "metadata": {},
   "outputs": [
    {
     "name": "stdout",
     "output_type": "stream",
     "text": [
      "31918\n"
     ]
    }
   ],
   "source": [
    "# number of duplicates\n",
    "dup_total = data_total.duplicated(subset='Message')\n",
    "print(sum(dup_total))"
   ]
  },
  {
   "cell_type": "code",
   "execution_count": 46,
   "metadata": {},
   "outputs": [],
   "source": [
    "# drop duplicates\n",
    "df_message = data_total.drop_duplicates(subset='Message')"
   ]
  },
  {
   "cell_type": "markdown",
   "metadata": {},
   "source": [
    "### Using the Jaccard Similarity to delete the posts with a similarity >0.95\n",
    "\n",
    "The following steps are performed:\n",
    "\n",
    "1. calculating the length of the posts\n",
    "2. ordering the posts regarding the length \n",
    "3. calculating the Jaccard similarity of one post and the following post\n",
    "4. removing all posts with similarity >0.95 to the previous post"
   ]
  },
  {
   "cell_type": "code",
   "execution_count": 47,
   "metadata": {},
   "outputs": [],
   "source": [
    "# calculation the post length and sort the dataset accordingly\n",
    "pd.options.mode.chained_assignment = None  # default='warn'\n",
    "df_message['Post Length'] = [len(l) for l in df_message['Message']]\n",
    "df_message = df_message.sort_values(by=['Post Length','Message'])\n",
    "df_message = df_message.reset_index(drop=True)"
   ]
  },
  {
   "cell_type": "code",
   "execution_count": 48,
   "metadata": {},
   "outputs": [],
   "source": [
    "# function for calculating the jaccard similarity\n",
    "def jaccard_similarity(x,y):\n",
    "  \"\"\" returns the jaccard similarity between two lists \"\"\"\n",
    "  intersection_cardinality = len(set.intersection(*[set(x), set(y)]))\n",
    "  union_cardinality = len(set.union(*[set(x), set(y)]))\n",
    "  return intersection_cardinality/float(union_cardinality)"
   ]
  },
  {
   "cell_type": "code",
   "execution_count": 49,
   "metadata": {},
   "outputs": [],
   "source": [
    "# calculating the jaccard similarities\n",
    "l=[]\n",
    "for i in range(df_message.shape[0]-1):\n",
    "    l.append(jaccard_similarity(df_message['Message'][i],df_message['Message'][i+1]))\n",
    "l.append(0)\n",
    "df_message['Similarity_to_next_post']=l"
   ]
  },
  {
   "cell_type": "code",
   "execution_count": 50,
   "metadata": {},
   "outputs": [],
   "source": [
    "# remove posts with sim >0.95\n",
    "ind_sim = df_message[df_message['Similarity_to_next_post']>0.95].index\n",
    "df_message = df_message.drop(ind_sim)"
   ]
  },
  {
   "cell_type": "code",
   "execution_count": 51,
   "metadata": {},
   "outputs": [],
   "source": [
    "df_message = df_message.reset_index(drop=True)"
   ]
  },
  {
   "cell_type": "markdown",
   "metadata": {},
   "source": [
    "### Removing URLs in the posts\n",
    "\n",
    "The URLs in all the posts are removed since they give no needed information in this context and would influence topic modelling."
   ]
  },
  {
   "cell_type": "code",
   "execution_count": 52,
   "metadata": {},
   "outputs": [],
   "source": [
    "# making copy of the column 'Message'\n",
    "df_message['ProcMessage'] = df_message['Message']"
   ]
  },
  {
   "cell_type": "code",
   "execution_count": 53,
   "metadata": {},
   "outputs": [],
   "source": [
    "# function for removing the URLs in the posts\n",
    "def remove_urls(vTEXT):\n",
    "    vTEXT = re.sub(r'http\\S+', '', vTEXT)\n",
    "    return(vTEXT)"
   ]
  },
  {
   "cell_type": "code",
   "execution_count": 54,
   "metadata": {},
   "outputs": [],
   "source": [
    "#pd.set_option('display.max_colwidth', None)"
   ]
  },
  {
   "cell_type": "code",
   "execution_count": 55,
   "metadata": {},
   "outputs": [
    {
     "name": "stdout",
     "output_type": "stream",
     "text": [
      "49271\n"
     ]
    },
    {
     "data": {
      "text/plain": [
       "2945    WTF!? Folgt uns: https://www.mamiweb.de/\n",
       "Name: ProcMessage, dtype: object"
      ]
     },
     "execution_count": 55,
     "metadata": {},
     "output_type": "execute_result"
    }
   ],
   "source": [
    "# number of posts that contain a URL\n",
    "ind_remove = df_message['ProcMessage'].str.contains('http')\n",
    "print(sum(ind_remove))\n",
    "df_message['ProcMessage'][ind_remove][:1]"
   ]
  },
  {
   "cell_type": "code",
   "execution_count": 56,
   "metadata": {},
   "outputs": [],
   "source": [
    "# removing all URLs\n",
    "df_message['ProcMessage'] = [remove_urls(l) for l in df_message['ProcMessage']]"
   ]
  },
  {
   "cell_type": "code",
   "execution_count": 57,
   "metadata": {},
   "outputs": [
    {
     "data": {
      "text/plain": [
       "'WTF!? Folgt uns: '"
      ]
     },
     "execution_count": 57,
     "metadata": {},
     "output_type": "execute_result"
    }
   ],
   "source": [
    "df_message['ProcMessage'][2945]"
   ]
  },
  {
   "cell_type": "markdown",
   "metadata": {},
   "source": [
    "### Filtering out English text\n",
    "\n",
    "Removing all posts that are English with an accuracy >0.6 with the help of a pre-trained model from Fasttext"
   ]
  },
  {
   "cell_type": "code",
   "execution_count": 58,
   "metadata": {},
   "outputs": [],
   "source": [
    "# using pre-trained model from Fasttext \n",
    "fasttext.FastText.eprint = lambda x: None\n",
    "model = fasttext.load_model('lid.176.bin')"
   ]
  },
  {
   "cell_type": "code",
   "execution_count": 59,
   "metadata": {},
   "outputs": [],
   "source": [
    "df_message['language'] = df_message['ProcMessage'].apply(model.predict)"
   ]
  },
  {
   "cell_type": "code",
   "execution_count": 60,
   "metadata": {},
   "outputs": [],
   "source": [
    "# extracting language\n",
    "df_message['language_label'] = [a_tuple[0] for a_tuple in df_message['language']]"
   ]
  },
  {
   "cell_type": "code",
   "execution_count": 61,
   "metadata": {},
   "outputs": [],
   "source": [
    "# extracting accuracy\n",
    "df_message['language_acc'] = [a_tuple[1] for a_tuple in df_message['language']]"
   ]
  },
  {
   "cell_type": "code",
   "execution_count": 62,
   "metadata": {},
   "outputs": [],
   "source": [
    "#df_message.head(5)"
   ]
  },
  {
   "cell_type": "code",
   "execution_count": 63,
   "metadata": {},
   "outputs": [
    {
     "name": "stdout",
     "output_type": "stream",
     "text": [
      "363\n"
     ]
    }
   ],
   "source": [
    "df1 = df_message.loc[((df_message['language_acc'] > 0.6) & (df_message['language_label']==('__label__en',)))]\n",
    "ind = df1.index\n",
    "print(len(ind))"
   ]
  },
  {
   "cell_type": "code",
   "execution_count": 64,
   "metadata": {},
   "outputs": [
    {
     "data": {
      "text/plain": [
       "(140666, 47)"
      ]
     },
     "execution_count": 64,
     "metadata": {},
     "output_type": "execute_result"
    }
   ],
   "source": [
    "df_message.shape"
   ]
  },
  {
   "cell_type": "code",
   "execution_count": 65,
   "metadata": {},
   "outputs": [],
   "source": [
    "df_message = df_message.drop(ind)"
   ]
  },
  {
   "cell_type": "code",
   "execution_count": 66,
   "metadata": {},
   "outputs": [],
   "source": [
    "# reset index\n",
    "df_message = df_message.reset_index(drop=True)"
   ]
  },
  {
   "cell_type": "code",
   "execution_count": 67,
   "metadata": {},
   "outputs": [
    {
     "data": {
      "text/plain": [
       "(140303, 47)"
      ]
     },
     "execution_count": 67,
     "metadata": {},
     "output_type": "execute_result"
    }
   ],
   "source": [
    "df_message.shape"
   ]
  },
  {
   "cell_type": "markdown",
   "metadata": {},
   "source": [
    "### Information Retrieval Steps\n",
    "\n",
    "The following steps have to be performed to prepare the data for topic modelling:\n",
    "\n",
    "* tokenization\n",
    "* case folding\n",
    "* removing stopwords\n",
    "* removing all forms of punctuation\n",
    "* removing all numbers\n",
    "* removing all dashes\n",
    "* removing all quotes\n",
    "* stemming\n",
    "\n",
    "\n",
    "* removing NaNs in preprocessed column\n",
    "* remove Regex expressions\n",
    "* removing empty tokens"
   ]
  },
  {
   "cell_type": "code",
   "execution_count": 280,
   "metadata": {},
   "outputs": [],
   "source": [
    "# tokenization\n",
    "df_message['tokenized_sents'] = df_message['ProcMessage'].apply(nltk.word_tokenize)"
   ]
  },
  {
   "cell_type": "code",
   "execution_count": 281,
   "metadata": {},
   "outputs": [],
   "source": [
    "# case folding\n",
    "df_message['lower_sents'] = [list(map(lambda x: x.lower(), w)) for w in df_message['tokenized_sents']]"
   ]
  },
  {
   "cell_type": "code",
   "execution_count": 282,
   "metadata": {},
   "outputs": [],
   "source": [
    "# function for removing stopwords\n",
    "def remove_stop_words(text):\n",
    "    filtered_sentence = []\n",
    "    for w in text:\n",
    "        if w not in stopwords.words('german'):\n",
    "            filtered_sentence.append(w) \n",
    "    return filtered_sentence"
   ]
  },
  {
   "cell_type": "code",
   "execution_count": 283,
   "metadata": {},
   "outputs": [],
   "source": [
    "# stopwords filtering\n",
    "df_message['stopwords_removed'] = df_message['lower_sents'].apply(remove_stop_words)"
   ]
  },
  {
   "cell_type": "code",
   "execution_count": 284,
   "metadata": {},
   "outputs": [],
   "source": [
    "# join tokens to string to easily export and import data again\n",
    "df_message['stopwords_removed_as_string'] = df_message['stopwords_removed'].str.join(' ')"
   ]
  },
  {
   "cell_type": "code",
   "execution_count": 285,
   "metadata": {},
   "outputs": [],
   "source": [
    "# removing all forms of punctuation\n",
    "df_message['punctuation_removed'] = [[w for w in l if w not in string.punctuation] for l in df_message['stopwords_removed']]"
   ]
  },
  {
   "cell_type": "code",
   "execution_count": 286,
   "metadata": {},
   "outputs": [],
   "source": [
    "# removing all numbers\n",
    "match_digits = ('(\\d+)')\n",
    "df_message['numbers_removed'] = [[w for w in l if re.match(match_digits,w)==None] for l in df_message['punctuation_removed']]"
   ]
  },
  {
   "cell_type": "code",
   "execution_count": 287,
   "metadata": {},
   "outputs": [],
   "source": [
    "# removing all dashes\n",
    "df_message['dashes_removed'] = [[w for w in l if w!='–'] for l in df_message['numbers_removed']]"
   ]
  },
  {
   "cell_type": "code",
   "execution_count": 288,
   "metadata": {},
   "outputs": [],
   "source": [
    "# removing all quotes\n",
    "df_message['quotes_removed'] = [[w for w in l if w!='„'] for l in df_message['dashes_removed']]\n",
    "df_message['quotes_removed'] = [[w for w in l if w!='“'] for l in df_message['quotes_removed']]"
   ]
  },
  {
   "cell_type": "code",
   "execution_count": 289,
   "metadata": {},
   "outputs": [],
   "source": [
    "# stemming\n",
    "df_message['stemming'] = [[porter.stem(w) for w in l] for l in df_message['quotes_removed']]"
   ]
  },
  {
   "cell_type": "code",
   "execution_count": 290,
   "metadata": {},
   "outputs": [],
   "source": [
    "# join tokens to string to easily export and import data again\n",
    "df_message['dashes_removed_as_string'] = df_message['dashes_removed'].str.join(' ')\n",
    "df_message['quotes_removed_as_string'] = df_message['quotes_removed'].str.join(' ')\n",
    "df_message['stemming_as_string'] = df_message['stemming'].str.join(' ')"
   ]
  },
  {
   "cell_type": "code",
   "execution_count": 291,
   "metadata": {},
   "outputs": [],
   "source": [
    "# export data\n",
    "df_message.to_csv('preprocessed_data_1.csv') "
   ]
  },
  {
   "cell_type": "code",
   "execution_count": 3,
   "metadata": {},
   "outputs": [],
   "source": [
    "# import data without performing all the above steps again\n",
    "df_message = pd.read_csv('preprocessed_data_1.csv',low_memory=False)\n",
    "new_order = list(range(1,55))+[57,55,58,56,59]\n",
    "df_message = df_message[df_message.columns[new_order]]"
   ]
  },
  {
   "cell_type": "code",
   "execution_count": 4,
   "metadata": {},
   "outputs": [],
   "source": [
    "# removing rows with NaNs in column stemming_as_string (appears e.g. when Message consisted only of stopwords)\n",
    "df_message = df_message.dropna(subset=['stemming_as_string'])"
   ]
  },
  {
   "cell_type": "code",
   "execution_count": 8,
   "metadata": {},
   "outputs": [],
   "source": [
    "df_message = df_message.reset_index(drop=True)"
   ]
  },
  {
   "cell_type": "code",
   "execution_count": 10,
   "metadata": {},
   "outputs": [],
   "source": [
    "# split to stemming_as_string tokens\n",
    "df_message['preprocessed'] = df_message['stemming_as_string'].str.split(\"\\\\s\")"
   ]
  },
  {
   "cell_type": "code",
   "execution_count": 11,
   "metadata": {},
   "outputs": [],
   "source": [
    "# removing Regex expressions\n",
    "df_message['preprocessed'] = [[''.join(e for e in w if e.isalnum()) for w in l] for l in df_message['preprocessed']]"
   ]
  },
  {
   "cell_type": "code",
   "execution_count": 12,
   "metadata": {},
   "outputs": [],
   "source": [
    "df_message['preprocessed_as_string'] = df_message['preprocessed'].str.join('')\n",
    "df_message = df_message[df_message['preprocessed_as_string'] != '']"
   ]
  },
  {
   "cell_type": "code",
   "execution_count": 14,
   "metadata": {},
   "outputs": [],
   "source": [
    "# removing empty tokens\n",
    "df_message['preprocessed'] = [[w for w in l if w!=''] for l in df_message['preprocessed']]"
   ]
  },
  {
   "cell_type": "code",
   "execution_count": 16,
   "metadata": {},
   "outputs": [],
   "source": [
    "df_message['preprocessed_as_string'] = df_message['preprocessed'].str.join(' ')"
   ]
  },
  {
   "cell_type": "code",
   "execution_count": 25,
   "metadata": {},
   "outputs": [],
   "source": [
    "df_message = df_message.reset_index(drop=True)"
   ]
  },
  {
   "cell_type": "code",
   "execution_count": 26,
   "metadata": {},
   "outputs": [
    {
     "data": {
      "text/plain": [
       "(140222, 61)"
      ]
     },
     "execution_count": 26,
     "metadata": {},
     "output_type": "execute_result"
    }
   ],
   "source": [
    "df_message.shape"
   ]
  },
  {
   "cell_type": "markdown",
   "metadata": {},
   "source": [
    "### Keeping only posts that contain at least one keyword\n",
    "\n",
    "As a last preprocessing step it is checked if the individual posts contain at least one of the keywords which identify relevant posts. Otherwise they are removed."
   ]
  },
  {
   "cell_type": "code",
   "execution_count": 6,
   "metadata": {},
   "outputs": [],
   "source": [
    "# keyword list\n",
    "keywords = ['baby', 'säugling', 'neugeborenes', 'geburt', 'entbindung','formulamilch', 'prenahrung', 'HA-Nahrung', 'Muttermilch', 'Milupa', 'Nutricia', 'Aptamil', 'Kuhmilchpreperate', 'Stillen', 'Brustschmerzen', 'Stillbetreuung', 'Stillförderung', 'Stillprobleme', 'Stillambulanz', 'Stillhütchen', 'Stillhilfe', 'Abpumpen', 'Milchpumpe', 'Brust', 'Schnuller', 'Kolostrum', 'Kolostrummassage', 'Brustentzündung' , 'Milcheinschuss', 'Brustdrüsenschwellung', 'Pilzinfektion', 'Rötung', 'Brustrhagaden', 'Brustmassage', 'Brustpflege' , 'Hausmittel', 'Krankheit', 'Medikamente', 'Mutter', 'stillend','Mutter', 'Abstillen', 'Entwöhnung', 'Stillstreik', 'Saugnäpfe', 'Nuckelblase', 'Neugeborenen-Screening', 'Nachbetreuung', 'Nachwehen', 'Bauchschmerzen', 'Nachblutungen', 'Windeln', 'Pampers', 'Einmalwindeln', 'Stoffwindeln', 'Windelfreie Erziehung', 'satt', 'Karenzzeit', 'Karenzmodell', 'berufstätig', 'Stillen', 'Öffentlichkeit', 'alleine', 'Babymassage', 'Babyschwimmen', 'Babytreffs', 'Stillgruppe', 'Eltern-Kind-Zentrum', 'Angebote', 'Mutter', 'Kind', 'Elternberatung','Beratung', 'Mutterberatungsstellen','Krankheit', 'Husten', 'Fieber', 'Durchfall', 'Verstopfung', 'Virusinfekte', 'Bewusstseinseinschränkung', 'müde', 'Gewichtsverlust', 'Luft', 'röchelnde', 'Atmung', 'Trinkfaulheit', 'pausenlos', 'krank', 'Ohrenentzündung', 'Hautprobleme', 'Neurodermitis', 'Wachstumsstörung', 'zunehmen', 'abnehmen', 'Hüfte', 'Gelbsucht', 'Impfungen', 'Ernährung', 'Beikost', 'Füttern', 'gefüttert', 'Fütterung', 'Brei', 'Flüssigkeit', 'Nahrungsmittel', 'Erstnahrung', 'breiige', 'Kost', 'Flaschennahrung', 'blähende', 'Speisen', 'scharfe', 'Trinken', 'Milch', 'Wachstumsphasen', 'Pflege', 'Babypflege', 'Frisieren', 'Waschen', 'Produkte', 'Baden', 'Temperatur', 'Hautpflege', 'Nabelpflege', 'Schlafen', 'Durchschlafen', 'Einschlafprobleme', 'Durchschlafprobleme', 'Schreikrämpfe', 'Weinen', 'Schreikrampf', 'Weinattacken', 'Schreien','Nasse', 'Windel', 'Zahn', 'Zahnen', 'Blähungen', 'Blähbauch', 'Geburtsperzentille', 'Hebamme', 'Gynäkologen', 'Ansprechperson', 'Kinderarzt', 'Hausarzt', 'Seminare', 'Mutterkindpass', 'Untersuchungen', 'Instrumente', 'Krankenhausaufenthalt', 'Kinderarzt', 'Nacht', 'Akute', 'Notfallnummer', 'Kinderambulanz', 'Ansprechstelle', 'Hilfe', 'Beruf', 'Entwicklung', 'Bindungsaufbau', 'Bonding', 'Tragetuch', 'Tragegestell', 'Tragetechniken', 'Kind', 'Gitterbett', 'Elternbett', 'Schlafpositionen', 'Kinderzimmer', 'Familienzimmer', 'Reifezeichen', 'Größe', 'Entwicklungsstadien', 'Kopf', 'Krabbeln', 'Aufziehen', 'Aufstehen', 'Drehen', 'Gehen', 'Greifen','Mund', 'Spielsachen', 'Farbfroh', 'Materialien', 'Höhe', 'Augenentfernung', 'Entwicklungsfördernde', 'Spielsachen', 'Sprache', 'Verhütung', 'Sex', 'Geschlechtsverkehr', 'Tampons', 'Sauna' , 'Bad', 'Schwimmbad', 'Frauenarzt', 'Beckenbodentraining', 'Sport', 'Pausieren', 'Schmerzen', 'Ernährung', 'Eltern-Kind-Zentrum', 'Angebote', 'Elternberatung', 'Beratung', 'Mutterberatungsstellen']\n",
    "lower_keywords = [w.lower() for w in keywords]\n",
    "stemmed_keywords = [porter.stem(w) for w in lower_keywords]"
   ]
  },
  {
   "cell_type": "code",
   "execution_count": 7,
   "metadata": {},
   "outputs": [],
   "source": [
    "# checking if at least one keyword is included in the individual posts\n",
    "df_message['keyword_included'] = df_message['preprocessed'].map(lambda x: max([word in stemmed_keywords for word in x]))"
   ]
  },
  {
   "cell_type": "code",
   "execution_count": 9,
   "metadata": {},
   "outputs": [],
   "source": [
    "# removing the posts without at least one keyword included\n",
    "df_message = df_message[df_message['keyword_included']==True]"
   ]
  },
  {
   "cell_type": "code",
   "execution_count": 11,
   "metadata": {},
   "outputs": [],
   "source": [
    "df_message = df_message.reset_index(drop=True)"
   ]
  },
  {
   "cell_type": "code",
   "execution_count": 12,
   "metadata": {},
   "outputs": [
    {
     "data": {
      "text/plain": [
       "(115434, 62)"
      ]
     },
     "execution_count": 12,
     "metadata": {},
     "output_type": "execute_result"
    }
   ],
   "source": [
    "df_message.shape"
   ]
  },
  {
   "cell_type": "code",
   "execution_count": 14,
   "metadata": {},
   "outputs": [],
   "source": [
    "# export data\n",
    "df_message.to_csv('preprocessed_data_final.csv')"
   ]
  },
  {
   "cell_type": "markdown",
   "metadata": {},
   "source": [
    "## Data Exploration and Overview statistics \n",
    "\n",
    "of the final preprocessed dataset"
   ]
  },
  {
   "cell_type": "code",
   "execution_count": 15,
   "metadata": {},
   "outputs": [],
   "source": [
    "# import data\n",
    "df_message = pd.read_csv('preprocessed_data_final.csv',low_memory=False)"
   ]
  },
  {
   "cell_type": "code",
   "execution_count": 16,
   "metadata": {},
   "outputs": [],
   "source": [
    "df_message['preprocessed'] = df_message['preprocessed_as_string'].str.split(\"\\\\s\")\n",
    "df_message = df_message[df_message.columns[list(range(1,62))]]"
   ]
  },
  {
   "cell_type": "code",
   "execution_count": 17,
   "metadata": {},
   "outputs": [
    {
     "data": {
      "text/plain": [
       "(115434, 61)"
      ]
     },
     "execution_count": 17,
     "metadata": {},
     "output_type": "execute_result"
    }
   ],
   "source": [
    "df_message.shape"
   ]
  },
  {
   "cell_type": "code",
   "execution_count": 18,
   "metadata": {},
   "outputs": [
    {
     "data": {
      "text/html": [
       "<div>\n",
       "<style scoped>\n",
       "    .dataframe tbody tr th:only-of-type {\n",
       "        vertical-align: middle;\n",
       "    }\n",
       "\n",
       "    .dataframe tbody tr th {\n",
       "        vertical-align: top;\n",
       "    }\n",
       "\n",
       "    .dataframe thead th {\n",
       "        text-align: right;\n",
       "    }\n",
       "</style>\n",
       "<table border=\"1\" class=\"dataframe\">\n",
       "  <thead>\n",
       "    <tr style=\"text-align: right;\">\n",
       "      <th></th>\n",
       "      <th>Page Name</th>\n",
       "      <th>User Name</th>\n",
       "      <th>Facebook Id</th>\n",
       "      <th>Page Category</th>\n",
       "      <th>Page Admin Top Country</th>\n",
       "      <th>Page Description</th>\n",
       "      <th>Page Created</th>\n",
       "      <th>Likes at Posting</th>\n",
       "      <th>Followers at Posting</th>\n",
       "      <th>Post Created</th>\n",
       "      <th>...</th>\n",
       "      <th>punctuation_removed</th>\n",
       "      <th>numbers_removed</th>\n",
       "      <th>dashes_removed</th>\n",
       "      <th>dashes_removed_as_string</th>\n",
       "      <th>quotes_removed</th>\n",
       "      <th>quotes_removed_as_string</th>\n",
       "      <th>stemming</th>\n",
       "      <th>stemming_as_string</th>\n",
       "      <th>preprocessed</th>\n",
       "      <th>preprocessed_as_string</th>\n",
       "    </tr>\n",
       "  </thead>\n",
       "  <tbody>\n",
       "    <tr>\n",
       "      <th>0</th>\n",
       "      <td>Serdar Somuncu</td>\n",
       "      <td>serdarsomuncu</td>\n",
       "      <td>134963129902181</td>\n",
       "      <td>ARTIST</td>\n",
       "      <td>DE</td>\n",
       "      <td>Hassias</td>\n",
       "      <td>2011-02-17 10:36:14</td>\n",
       "      <td>398087.0</td>\n",
       "      <td>391525.0</td>\n",
       "      <td>2021-02-16 18:12:05 CET</td>\n",
       "      <td>...</td>\n",
       "      <td>['baby']</td>\n",
       "      <td>['baby']</td>\n",
       "      <td>['baby']</td>\n",
       "      <td>baby</td>\n",
       "      <td>['baby']</td>\n",
       "      <td>baby</td>\n",
       "      <td>['babi']</td>\n",
       "      <td>babi</td>\n",
       "      <td>[babi]</td>\n",
       "      <td>babi</td>\n",
       "    </tr>\n",
       "    <tr>\n",
       "      <th>1</th>\n",
       "      <td>KNITZ</td>\n",
       "      <td>stnknitz</td>\n",
       "      <td>377314965628454</td>\n",
       "      <td>MEDIA_NEWS_COMPANY</td>\n",
       "      <td>DE</td>\n",
       "      <td>KNITZ ist Kolumnist der Stuttgarter Nachrichte...</td>\n",
       "      <td>2012-02-07 13:14:35</td>\n",
       "      <td>799.0</td>\n",
       "      <td>NaN</td>\n",
       "      <td>2019-03-05 08:00:04 CET</td>\n",
       "      <td>...</td>\n",
       "      <td>['nachwehen']</td>\n",
       "      <td>['nachwehen']</td>\n",
       "      <td>['nachwehen']</td>\n",
       "      <td>nachwehen</td>\n",
       "      <td>['nachwehen']</td>\n",
       "      <td>nachwehen</td>\n",
       "      <td>['nachwehen']</td>\n",
       "      <td>nachwehen</td>\n",
       "      <td>[nachwehen]</td>\n",
       "      <td>nachwehen</td>\n",
       "    </tr>\n",
       "    <tr>\n",
       "      <th>2</th>\n",
       "      <td>Schlager.de - Klatsch</td>\n",
       "      <td>schlager.klatsch</td>\n",
       "      <td>932718210159419</td>\n",
       "      <td>ENTERTAINMENT_SITE</td>\n",
       "      <td>NaN</td>\n",
       "      <td>Hier findest Du alle News über Deine Schlagers...</td>\n",
       "      <td>2016-04-25 20:15:19</td>\n",
       "      <td>3281.0</td>\n",
       "      <td>3544.0</td>\n",
       "      <td>2021-09-20 15:20:36 CEST</td>\n",
       "      <td>...</td>\n",
       "      <td>['baby', 'nr', '4']</td>\n",
       "      <td>['baby', 'nr']</td>\n",
       "      <td>['baby', 'nr']</td>\n",
       "      <td>baby nr</td>\n",
       "      <td>['baby', 'nr']</td>\n",
       "      <td>baby nr</td>\n",
       "      <td>['babi', 'nr']</td>\n",
       "      <td>babi nr</td>\n",
       "      <td>[babi, nr]</td>\n",
       "      <td>babi nr</td>\n",
       "    </tr>\n",
       "    <tr>\n",
       "      <th>3</th>\n",
       "      <td>iKON (with iKONIC) International Fans</td>\n",
       "      <td>NaN</td>\n",
       "      <td>330353814114589</td>\n",
       "      <td>none</td>\n",
       "      <td>NaN</td>\n",
       "      <td>NaN</td>\n",
       "      <td>NaN</td>\n",
       "      <td>87999.0</td>\n",
       "      <td>NaN</td>\n",
       "      <td>2020-08-12 14:17:55 CEST</td>\n",
       "      <td>...</td>\n",
       "      <td>['baby', 'hanbin']</td>\n",
       "      <td>['baby', 'hanbin']</td>\n",
       "      <td>['baby', 'hanbin']</td>\n",
       "      <td>baby hanbin</td>\n",
       "      <td>['baby', 'hanbin']</td>\n",
       "      <td>baby hanbin</td>\n",
       "      <td>['babi', 'hanbin']</td>\n",
       "      <td>babi hanbin</td>\n",
       "      <td>[babi, hanbin]</td>\n",
       "      <td>babi hanbin</td>\n",
       "    </tr>\n",
       "    <tr>\n",
       "      <th>4</th>\n",
       "      <td>Stillen &amp; Chillen</td>\n",
       "      <td>stillenundchillen</td>\n",
       "      <td>888548511208328</td>\n",
       "      <td>PERSONAL_BLOG</td>\n",
       "      <td>DE</td>\n",
       "      <td>\"Stillen und Chillen\" hilft dir Freude am Stil...</td>\n",
       "      <td>2015-04-23 11:37:17</td>\n",
       "      <td>8261.0</td>\n",
       "      <td>8530.0</td>\n",
       "      <td>2021-01-03 09:30:45 CET</td>\n",
       "      <td>...</td>\n",
       "      <td>['abstillen', '😉']</td>\n",
       "      <td>['abstillen', '😉']</td>\n",
       "      <td>['abstillen', '😉']</td>\n",
       "      <td>abstillen 😉</td>\n",
       "      <td>['abstillen', '😉']</td>\n",
       "      <td>abstillen 😉</td>\n",
       "      <td>['abstillen', '😉']</td>\n",
       "      <td>abstillen 😉</td>\n",
       "      <td>[abstillen]</td>\n",
       "      <td>abstillen</td>\n",
       "    </tr>\n",
       "  </tbody>\n",
       "</table>\n",
       "<p>5 rows × 61 columns</p>\n",
       "</div>"
      ],
      "text/plain": [
       "                               Page Name          User Name      Facebook Id  \\\n",
       "0                         Serdar Somuncu      serdarsomuncu  134963129902181   \n",
       "1                                  KNITZ           stnknitz  377314965628454   \n",
       "2                  Schlager.de - Klatsch   schlager.klatsch  932718210159419   \n",
       "3  iKON (with iKONIC) International Fans                NaN  330353814114589   \n",
       "4                      Stillen & Chillen  stillenundchillen  888548511208328   \n",
       "\n",
       "        Page Category Page Admin Top Country  \\\n",
       "0              ARTIST                     DE   \n",
       "1  MEDIA_NEWS_COMPANY                     DE   \n",
       "2  ENTERTAINMENT_SITE                    NaN   \n",
       "3                none                    NaN   \n",
       "4       PERSONAL_BLOG                     DE   \n",
       "\n",
       "                                    Page Description         Page Created  \\\n",
       "0                                            Hassias  2011-02-17 10:36:14   \n",
       "1  KNITZ ist Kolumnist der Stuttgarter Nachrichte...  2012-02-07 13:14:35   \n",
       "2  Hier findest Du alle News über Deine Schlagers...  2016-04-25 20:15:19   \n",
       "3                                                NaN                  NaN   \n",
       "4  \"Stillen und Chillen\" hilft dir Freude am Stil...  2015-04-23 11:37:17   \n",
       "\n",
       "   Likes at Posting  Followers at Posting              Post Created  ...  \\\n",
       "0          398087.0              391525.0   2021-02-16 18:12:05 CET  ...   \n",
       "1             799.0                   NaN   2019-03-05 08:00:04 CET  ...   \n",
       "2            3281.0                3544.0  2021-09-20 15:20:36 CEST  ...   \n",
       "3           87999.0                   NaN  2020-08-12 14:17:55 CEST  ...   \n",
       "4            8261.0                8530.0   2021-01-03 09:30:45 CET  ...   \n",
       "\n",
       "   punctuation_removed     numbers_removed      dashes_removed  \\\n",
       "0             ['baby']            ['baby']            ['baby']   \n",
       "1        ['nachwehen']       ['nachwehen']       ['nachwehen']   \n",
       "2  ['baby', 'nr', '4']      ['baby', 'nr']      ['baby', 'nr']   \n",
       "3   ['baby', 'hanbin']  ['baby', 'hanbin']  ['baby', 'hanbin']   \n",
       "4   ['abstillen', '😉']  ['abstillen', '😉']  ['abstillen', '😉']   \n",
       "\n",
       "   dashes_removed_as_string      quotes_removed  quotes_removed_as_string  \\\n",
       "0                      baby            ['baby']                      baby   \n",
       "1                 nachwehen       ['nachwehen']                 nachwehen   \n",
       "2                   baby nr      ['baby', 'nr']                   baby nr   \n",
       "3               baby hanbin  ['baby', 'hanbin']               baby hanbin   \n",
       "4               abstillen 😉  ['abstillen', '😉']               abstillen 😉   \n",
       "\n",
       "             stemming  stemming_as_string    preprocessed  \\\n",
       "0            ['babi']                babi          [babi]   \n",
       "1       ['nachwehen']           nachwehen     [nachwehen]   \n",
       "2      ['babi', 'nr']             babi nr      [babi, nr]   \n",
       "3  ['babi', 'hanbin']         babi hanbin  [babi, hanbin]   \n",
       "4  ['abstillen', '😉']         abstillen 😉     [abstillen]   \n",
       "\n",
       "   preprocessed_as_string  \n",
       "0                    babi  \n",
       "1               nachwehen  \n",
       "2                 babi nr  \n",
       "3             babi hanbin  \n",
       "4               abstillen  \n",
       "\n",
       "[5 rows x 61 columns]"
      ]
     },
     "execution_count": 18,
     "metadata": {},
     "output_type": "execute_result"
    }
   ],
   "source": [
    "#pd.set_option('display.max_columns', None)\n",
    "df_message.head()"
   ]
  },
  {
   "cell_type": "code",
   "execution_count": 19,
   "metadata": {},
   "outputs": [
    {
     "data": {
      "text/plain": [
       "Index(['Page Name', 'User Name', 'Facebook Id', 'Page Category',\n",
       "       'Page Admin Top Country', 'Page Description', 'Page Created',\n",
       "       'Likes at Posting', 'Followers at Posting', 'Post Created',\n",
       "       'Post Created Date', 'Post Created Time', 'Type', 'Total Interactions',\n",
       "       'Likes', 'Comments', 'Shares', 'Love', 'Wow', 'Haha', 'Sad', 'Angry',\n",
       "       'Care', 'Video Share Status', 'Is Video Owner?', 'Post Views',\n",
       "       'Total Views', 'Total Views For All Crossposts', 'Video Length', 'URL',\n",
       "       'Message', 'Link', 'Final Link', 'Image Text', 'Link Text',\n",
       "       'Description', 'Sponsor Id', 'Sponsor Name', 'Sponsor Category',\n",
       "       'Total Interactions (weighted  —  Likes 1x Shares 1x Comments 1x Love 1x Wow 1x Haha 1x Sad 1x Angry 1x Care 1x )',\n",
       "       'Overperforming Score', 'Post Length', 'Similarity_to_next_post',\n",
       "       'ProcMessage', 'language', 'language_label', 'language_acc',\n",
       "       'tokenized_sents', 'lower_sents', 'stopwords_removed',\n",
       "       'stopwords_removed_as_string', 'punctuation_removed', 'numbers_removed',\n",
       "       'dashes_removed', 'dashes_removed_as_string', 'quotes_removed',\n",
       "       'quotes_removed_as_string', 'stemming', 'stemming_as_string',\n",
       "       'preprocessed', 'preprocessed_as_string'],\n",
       "      dtype='object')"
      ]
     },
     "execution_count": 19,
     "metadata": {},
     "output_type": "execute_result"
    }
   ],
   "source": [
    "df_message.columns"
   ]
  },
  {
   "cell_type": "code",
   "execution_count": 20,
   "metadata": {},
   "outputs": [
    {
     "data": {
      "text/html": [
       "<div>\n",
       "<style scoped>\n",
       "    .dataframe tbody tr th:only-of-type {\n",
       "        vertical-align: middle;\n",
       "    }\n",
       "\n",
       "    .dataframe tbody tr th {\n",
       "        vertical-align: top;\n",
       "    }\n",
       "\n",
       "    .dataframe thead th {\n",
       "        text-align: right;\n",
       "    }\n",
       "</style>\n",
       "<table border=\"1\" class=\"dataframe\">\n",
       "  <thead>\n",
       "    <tr style=\"text-align: right;\">\n",
       "      <th></th>\n",
       "      <th>Message</th>\n",
       "      <th>Link Text</th>\n",
       "    </tr>\n",
       "  </thead>\n",
       "  <tbody>\n",
       "    <tr>\n",
       "      <th>115414</th>\n",
       "      <td>https://www.moz.de/lokales/neuruppin/corona-un...</td>\n",
       "      <td>Corona und Fußball: SV Union Neuruppin hält gr...</td>\n",
       "    </tr>\n",
       "    <tr>\n",
       "      <th>115415</th>\n",
       "      <td>myRockworld News Tim Minchin - neues Video zu ...</td>\n",
       "      <td>The Absence Of You by Tim Minchin (Official Vi...</td>\n",
       "    </tr>\n",
       "    <tr>\n",
       "      <th>115416</th>\n",
       "      <td>und ich entschlossen eine zweite Spendenaktion...</td>\n",
       "      <td>NaN</td>\n",
       "    </tr>\n",
       "    <tr>\n",
       "      <th>115417</th>\n",
       "      <td>www.juedischerundschau.de/shop:=:https://juedi...</td>\n",
       "      <td>Marx und Engels privat</td>\n",
       "    </tr>\n",
       "    <tr>\n",
       "      <th>115418</th>\n",
       "      <td>«Es ist wie eine Sucht, die ich nicht stillen ...</td>\n",
       "      <td>Photos from Der Unter-Emmentaler's post</td>\n",
       "    </tr>\n",
       "    <tr>\n",
       "      <th>115419</th>\n",
       "      <td>«Ständig bekomme ich verächtliche Sprüche zu h...</td>\n",
       "      <td>NaN</td>\n",
       "    </tr>\n",
       "    <tr>\n",
       "      <th>115420</th>\n",
       "      <td>»Passport!« Die bleierne Stimme des Grenzbeamt...</td>\n",
       "      <td>NaN</td>\n",
       "    </tr>\n",
       "    <tr>\n",
       "      <th>115421</th>\n",
       "      <td>Èich àlle a scheener Sunntig / Bon dimanche à ...</td>\n",
       "      <td>NaN</td>\n",
       "    </tr>\n",
       "    <tr>\n",
       "      <th>115422</th>\n",
       "      <td>„Auf einmal war die Familie verschwunden. Prak...</td>\n",
       "      <td>NaN</td>\n",
       "    </tr>\n",
       "    <tr>\n",
       "      <th>115423</th>\n",
       "      <td>„Danke, liebes busfahrendes Mädchen“ Eins vorw...</td>\n",
       "      <td>NaN</td>\n",
       "    </tr>\n",
       "    <tr>\n",
       "      <th>115424</th>\n",
       "      <td>„Die etwas andere Weihnachtsgeschichte“ oder „...</td>\n",
       "      <td>NaN</td>\n",
       "    </tr>\n",
       "    <tr>\n",
       "      <th>115425</th>\n",
       "      <td>„Du bist ja gar keine Mutter“ war nur einer de...</td>\n",
       "      <td>NaN</td>\n",
       "    </tr>\n",
       "    <tr>\n",
       "      <th>115426</th>\n",
       "      <td>„Gesunder Start ins Leben ist das Wichtigste“ ...</td>\n",
       "      <td>NaN</td>\n",
       "    </tr>\n",
       "    <tr>\n",
       "      <th>115427</th>\n",
       "      <td>„Ich könnte niemals etwas MIT EINER WIE DIR an...</td>\n",
       "      <td>NaN</td>\n",
       "    </tr>\n",
       "    <tr>\n",
       "      <th>115428</th>\n",
       "      <td>„Ich lebe in der Stille meines Hauses“ Gedanke...</td>\n",
       "      <td>Karmel Heilig Blut Dachau - dachau.karmelocd.de/</td>\n",
       "    </tr>\n",
       "    <tr>\n",
       "      <th>115429</th>\n",
       "      <td>„Ich wollte die Geschichte möglichst unmittelb...</td>\n",
       "      <td>„Ich wollte die Geschichte möglichst unmittelb...</td>\n",
       "    </tr>\n",
       "    <tr>\n",
       "      <th>115430</th>\n",
       "      <td>„Tiefste Gemeinschaft kommt aus einem gemeinsa...</td>\n",
       "      <td>Katharina Walter (@meingeliebteskind) • Instag...</td>\n",
       "    </tr>\n",
       "    <tr>\n",
       "      <th>115431</th>\n",
       "      <td>„Winter Wunderland Drive-In“ - Ein Wintertraum...</td>\n",
       "      <td>Photos from Freizeitpark News's post</td>\n",
       "    </tr>\n",
       "    <tr>\n",
       "      <th>115432</th>\n",
       "      <td>‼️ Sonntag 03.01.2021 um 19:05 auf RTL ‼️ Trai...</td>\n",
       "      <td>RTL Fernsehprogramm von heute - aktuelles TV P...</td>\n",
       "    </tr>\n",
       "    <tr>\n",
       "      <th>115433</th>\n",
       "      <td>❤ Caramel ❤ ***reserviert*** Rasse: europäisch...</td>\n",
       "      <td>NaN</td>\n",
       "    </tr>\n",
       "  </tbody>\n",
       "</table>\n",
       "</div>"
      ],
      "text/plain": [
       "                                                  Message  \\\n",
       "115414  https://www.moz.de/lokales/neuruppin/corona-un...   \n",
       "115415  myRockworld News Tim Minchin - neues Video zu ...   \n",
       "115416  und ich entschlossen eine zweite Spendenaktion...   \n",
       "115417  www.juedischerundschau.de/shop:=:https://juedi...   \n",
       "115418  «Es ist wie eine Sucht, die ich nicht stillen ...   \n",
       "115419  «Ständig bekomme ich verächtliche Sprüche zu h...   \n",
       "115420  »Passport!« Die bleierne Stimme des Grenzbeamt...   \n",
       "115421  Èich àlle a scheener Sunntig / Bon dimanche à ...   \n",
       "115422  „Auf einmal war die Familie verschwunden. Prak...   \n",
       "115423  „Danke, liebes busfahrendes Mädchen“ Eins vorw...   \n",
       "115424  „Die etwas andere Weihnachtsgeschichte“ oder „...   \n",
       "115425  „Du bist ja gar keine Mutter“ war nur einer de...   \n",
       "115426  „Gesunder Start ins Leben ist das Wichtigste“ ...   \n",
       "115427  „Ich könnte niemals etwas MIT EINER WIE DIR an...   \n",
       "115428  „Ich lebe in der Stille meines Hauses“ Gedanke...   \n",
       "115429  „Ich wollte die Geschichte möglichst unmittelb...   \n",
       "115430  „Tiefste Gemeinschaft kommt aus einem gemeinsa...   \n",
       "115431  „Winter Wunderland Drive-In“ - Ein Wintertraum...   \n",
       "115432  ‼️ Sonntag 03.01.2021 um 19:05 auf RTL ‼️ Trai...   \n",
       "115433  ❤ Caramel ❤ ***reserviert*** Rasse: europäisch...   \n",
       "\n",
       "                                                Link Text  \n",
       "115414  Corona und Fußball: SV Union Neuruppin hält gr...  \n",
       "115415  The Absence Of You by Tim Minchin (Official Vi...  \n",
       "115416                                                NaN  \n",
       "115417                             Marx und Engels privat  \n",
       "115418            Photos from Der Unter-Emmentaler's post  \n",
       "115419                                                NaN  \n",
       "115420                                                NaN  \n",
       "115421                                                NaN  \n",
       "115422                                                NaN  \n",
       "115423                                                NaN  \n",
       "115424                                                NaN  \n",
       "115425                                                NaN  \n",
       "115426                                                NaN  \n",
       "115427                                                NaN  \n",
       "115428   Karmel Heilig Blut Dachau - dachau.karmelocd.de/  \n",
       "115429  „Ich wollte die Geschichte möglichst unmittelb...  \n",
       "115430  Katharina Walter (@meingeliebteskind) • Instag...  \n",
       "115431               Photos from Freizeitpark News's post  \n",
       "115432  RTL Fernsehprogramm von heute - aktuelles TV P...  \n",
       "115433                                                NaN  "
      ]
     },
     "execution_count": 20,
     "metadata": {},
     "output_type": "execute_result"
    }
   ],
   "source": [
    "df_message[['Message','Link Text']].tail(20)"
   ]
  },
  {
   "cell_type": "code",
   "execution_count": 21,
   "metadata": {},
   "outputs": [
    {
     "data": {
      "text/plain": [
       "99918    805 Babys begleiten mit Herz, Körper und Verst...\n",
       "88454    STILLVORBEREITUNG 🍄 Viele Mütter die wir in de...\n",
       "95506    Die genetische Manipulation von Menschen ist s...\n",
       "29267    Hi! Ich bräuchte mal wieder eure Hilfe. Habe g...\n",
       "96938    - NATALEinCORO / CHRISTMASintheCHOIR / NAVIDAD...\n",
       "                               ...                        \n",
       "6560     Liebe Gruppe 🤗 Ich suche photography für meine...\n",
       "73533    Bei dem Thema Hausgeburt scheiden sich, insbes...\n",
       "55857    Liebe Echte Mamas, gibt es hier Mamas, die zu ...\n",
       "98448    ❗️Für mehr Toleranz zwischen den Generationen:...\n",
       "49527    🤰🏼💞UMFRAGE💞🤰🏼 Diese Woche werde ich wieder ein...\n",
       "Name: Message, Length: 100, dtype: object"
      ]
     },
     "execution_count": 21,
     "metadata": {},
     "output_type": "execute_result"
    }
   ],
   "source": [
    "# check 100 random posts and see how good data is\n",
    "random_sample_indices = sample(range(df_message.shape[0]),100)\n",
    "df_message['Message'][random_sample_indices]"
   ]
  },
  {
   "cell_type": "code",
   "execution_count": 22,
   "metadata": {},
   "outputs": [
    {
     "data": {
      "text/plain": [
       "Eltern.de                   1514\n",
       "Mama & Papa = ICH           1258\n",
       "Mein Kind ist mein Leben    1233\n",
       "Echte Mamas                 1111\n",
       "miBaby                       749\n",
       "Baby Sweets                  612\n",
       "Medela Deutschland           525\n",
       "Windelmanufaktur             441\n",
       "NETT-WERK Köln               415\n",
       "Windelwissen.de              381\n",
       "Name: Page Name, dtype: int64"
      ]
     },
     "execution_count": 22,
     "metadata": {},
     "output_type": "execute_result"
    }
   ],
   "source": [
    "# check most active pages after data cleaning and preprocessing\n",
    "df_message['Page Name'].value_counts()[:10]"
   ]
  },
  {
   "cell_type": "code",
   "execution_count": 23,
   "metadata": {},
   "outputs": [
    {
     "data": {
      "text/plain": [
       "none                  32857\n",
       "BABY_KIDS              8136\n",
       "COMMUNITY              7190\n",
       "NON_PROFIT             5838\n",
       "ACTIVITY_GENERAL       2814\n",
       "WEBSITE                2275\n",
       "NEWS_SITE              2267\n",
       "MEDIA_NEWS_COMPANY     2156\n",
       "PRODUCT_SERVICE        2134\n",
       "PERSONAL_BLOG          1739\n",
       "Name: Page Category, dtype: int64"
      ]
     },
     "execution_count": 23,
     "metadata": {},
     "output_type": "execute_result"
    }
   ],
   "source": [
    "# check most active page categories after data cleaning and preprocessing\n",
    "df_message['Page Category'].value_counts()[:10]"
   ]
  },
  {
   "cell_type": "code",
   "execution_count": 24,
   "metadata": {},
   "outputs": [],
   "source": [
    "# converting 'Post Created' to pandas datetime object\n",
    "df_message['Post Created'] = pd.to_datetime(df_message['Post Created'])"
   ]
  },
  {
   "cell_type": "code",
   "execution_count": 25,
   "metadata": {},
   "outputs": [],
   "source": [
    "warnings.filterwarnings('ignore')"
   ]
  },
  {
   "cell_type": "code",
   "execution_count": 26,
   "metadata": {},
   "outputs": [
    {
     "data": {
      "text/plain": [
       "<AxesSubplot:title={'center':'Number of posts per day'}, xlabel='day', ylabel='# posts'>"
      ]
     },
     "execution_count": 26,
     "metadata": {},
     "output_type": "execute_result"
    },
    {
     "data": {
      "image/png": "[encoded data removed]",
      "text/plain": [
       "<Figure size 432x288 with 1 Axes>"
      ]
     },
     "metadata": {
      "needs_background": "light"
     },
     "output_type": "display_data"
    }
   ],
   "source": [
    "# plotting number of posts per day\n",
    "df_message['Post Created - Day'] = df_message['Post Created'].dt.to_period('D')\n",
    "date_day_size = df_message.groupby(['Post Created - Day']).size()\n",
    "date_day_size.plot(ylabel='# posts',xlabel='day',title='Number of posts per day')"
   ]
  },
  {
   "cell_type": "code",
   "execution_count": 27,
   "metadata": {},
   "outputs": [],
   "source": [
    "# extracting the year and the month of the datetime\n",
    "df_message['Post Created - Year'] = df_message['Post Created'].dt.year\n",
    "df_message['Post Created - Month'] = df_message['Post Created'].dt.month\n",
    "df_message['Post Created - Year Month'] = df_message['Post Created'].dt.to_period('M')"
   ]
  },
  {
   "cell_type": "code",
   "execution_count": 28,
   "metadata": {},
   "outputs": [
    {
     "data": {
      "text/plain": [
       "<AxesSubplot:title={'center':'Number of posts per month'}, xlabel='month', ylabel='# posts'>"
      ]
     },
     "execution_count": 28,
     "metadata": {},
     "output_type": "execute_result"
    },
    {
     "data": {
      "image/png": "[encoded data removed]",
      "text/plain": [
       "<Figure size 432x288 with 1 Axes>"
      ]
     },
     "metadata": {
      "needs_background": "light"
     },
     "output_type": "display_data"
    }
   ],
   "source": [
    "# number of posts per month\n",
    "date_year_month_size = df_message.groupby(['Post Created - Year Month']).size()\n",
    "date_year_month_size.plot(ylabel='# posts',xlabel='month',title='Number of posts per month')"
   ]
  },
  {
   "cell_type": "code",
   "execution_count": 29,
   "metadata": {},
   "outputs": [
    {
     "data": {
      "text/plain": [
       "<AxesSubplot:title={'center':'Number of posts per year'}, xlabel='year', ylabel='# posts'>"
      ]
     },
     "execution_count": 29,
     "metadata": {},
     "output_type": "execute_result"
    },
    {
     "data": {
      "image/png": "[encoded data removed]",
      "text/plain": [
       "<Figure size 432x288 with 1 Axes>"
      ]
     },
     "metadata": {
      "needs_background": "light"
     },
     "output_type": "display_data"
    }
   ],
   "source": [
    "# number of posts per year\n",
    "date_year_size = df_message.groupby(['Post Created - Year']).size()\n",
    "date_year_size.plot(ylabel='# posts',xlabel='year',title='Number of posts per year')"
   ]
  },
  {
   "cell_type": "code",
   "execution_count": 30,
   "metadata": {},
   "outputs": [
    {
     "data": {
      "text/plain": [
       "<AxesSubplot:title={'center':'Number of posts per year'}, xlabel='year', ylabel='# posts'>"
      ]
     },
     "execution_count": 30,
     "metadata": {},
     "output_type": "execute_result"
    },
    {
     "data": {
      "image/png": "[encoded data removed]",
      "text/plain": [
       "<Figure size 432x288 with 1 Axes>"
      ]
     },
     "metadata": {
      "needs_background": "light"
     },
     "output_type": "display_data"
    }
   ],
   "source": [
    "# number of posts per year\n",
    "date_year_size = df_message.groupby(['Post Created - Year']).size()\n",
    "date_year_size.plot.bar(ylabel='# posts',xlabel='year',title='Number of posts per year')"
   ]
  },
  {
   "cell_type": "code",
   "execution_count": 31,
   "metadata": {},
   "outputs": [
    {
     "data": {
      "text/plain": [
       "Post Created - Year\n",
       "2019    33981\n",
       "2020    38338\n",
       "2021    43115\n",
       "dtype: int64"
      ]
     },
     "execution_count": 31,
     "metadata": {},
     "output_type": "execute_result"
    }
   ],
   "source": [
    "date_year_size"
   ]
  },
  {
   "cell_type": "code",
   "execution_count": 32,
   "metadata": {},
   "outputs": [
    {
     "data": {
      "text/plain": [
       "969.34"
      ]
     },
     "execution_count": 32,
     "metadata": {},
     "output_type": "execute_result"
    }
   ],
   "source": [
    "# average post length\n",
    "df_message['Post Length'] = [len(l) for l in df_message['Message']]\n",
    "round(statistics.mean(df_message['Post Length']),2)"
   ]
  },
  {
   "cell_type": "code",
   "execution_count": 33,
   "metadata": {},
   "outputs": [
    {
     "name": "stdout",
     "output_type": "stream",
     "text": [
      "(115434,)\n",
      "0\n"
     ]
    }
   ],
   "source": [
    "# is the URL a unique identifyer for the individual posts? -> yes\n",
    "print(df_message[\"URL\"].unique().shape)\n",
    "dup_url = df_message[\"URL\"].duplicated()\n",
    "print(sum(dup_url))"
   ]
  },
  {
   "cell_type": "code",
   "execution_count": null,
   "metadata": {},
   "outputs": [],
   "source": []
  }
 ],
 "metadata": {
  "kernelspec": {
   "display_name": "Python 3 (ipykernel)",
   "language": "python",
   "name": "python3"
  },
  "language_info": {
   "codemirror_mode": {
    "name": "ipython",
    "version": 3
   },
   "file_extension": ".py",
   "mimetype": "text/x-python",
   "name": "python",
   "nbconvert_exporter": "python",
   "pygments_lexer": "ipython3",
   "version": "3.8.3"
  }
 },
 "nbformat": 4,
 "nbformat_minor": 4
}
