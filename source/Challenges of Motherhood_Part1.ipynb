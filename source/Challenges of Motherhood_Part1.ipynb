{
 "cells": [
  {
   "cell_type": "markdown",
   "metadata": {},
   "source": [
    "# Challenges of motherhood - Young MUM’s urgent questions - Part 1"
   ]
  },
  {
   "cell_type": "code",
   "execution_count": 1,
   "metadata": {},
   "outputs": [],
   "source": [
    "import pandas as pd\n",
    "import nltk\n",
    "from collections import Counter\n",
    "import time\n",
    "import string\n",
    "from nltk.corpus import stopwords\n",
    "import re\n",
    "from nltk.stem import PorterStemmer\n",
    "porter = PorterStemmer()\n",
    "import statistics\n",
    "import numpy as np"
   ]
  },
  {
   "cell_type": "markdown",
   "metadata": {},
   "source": [
    "### Data import"
   ]
  },
  {
   "cell_type": "markdown",
   "metadata": {},
   "source": [
    "The data has been split into mulitple files, since CrowdTangle can only export maximal 300.000 posts at once. Since there is a limited number of keywords on can search for with CrowdTangle, the keywords must have been split into 2 parts. Therefore duplicates can appear and have to be removed later."
   ]
  },
  {
   "cell_type": "code",
   "execution_count": 2,
   "metadata": {},
   "outputs": [],
   "source": [
    "part1_2019 = pd.read_csv('data_new/2019_Part_1_Keywords.csv',low_memory=False)\n",
    "part1_2020 = pd.read_csv('data_new/2020_Part_1_Keywords.csv',low_memory=False)\n",
    "part1_2021 = pd.read_csv('data_new/2021_Part_1_Keywords.csv',low_memory=False)\n",
    "\n",
    "part2_2019 = pd.read_csv('data_new/2019_Part_2_Keywords.csv',low_memory=False)\n",
    "part2_2020 = pd.read_csv('data_new/2020_Part_2_Keywords.csv',low_memory=False)\n",
    "part2_2021_1 = pd.read_csv('data_new/2021_01_06_Part_2_Keywords.csv',low_memory=False)\n",
    "part2_2021_2 = pd.read_csv('data_new/2021_07_12_Part_2_Keywords.csv',low_memory=False)"
   ]
  },
  {
   "cell_type": "code",
   "execution_count": 3,
   "metadata": {},
   "outputs": [
    {
     "name": "stderr",
     "output_type": "stream",
     "text": [
      "<ipython-input-3-a93a85068d53>:1: FutureWarning: The frame.append method is deprecated and will be removed from pandas in a future version. Use pandas.concat instead.\n",
      "  data_2019 = part1_2019.append(part2_2019)\n",
      "<ipython-input-3-a93a85068d53>:2: FutureWarning: The frame.append method is deprecated and will be removed from pandas in a future version. Use pandas.concat instead.\n",
      "  data_2020 = part1_2020.append(part2_2020)\n",
      "<ipython-input-3-a93a85068d53>:3: FutureWarning: The frame.append method is deprecated and will be removed from pandas in a future version. Use pandas.concat instead.\n",
      "  data_2021 = part1_2021.append([part2_2021_1,part2_2021_2])\n",
      "<ipython-input-3-a93a85068d53>:5: FutureWarning: The frame.append method is deprecated and will be removed from pandas in a future version. Use pandas.concat instead.\n",
      "  data_total = data_2019.append([data_2020,data_2021])\n"
     ]
    }
   ],
   "source": [
    "data_2019 = part1_2019.append(part2_2019)\n",
    "data_2020 = part1_2020.append(part2_2020)\n",
    "data_2021 = part1_2021.append([part2_2021_1,part2_2021_2])\n",
    "\n",
    "data_total = data_2019.append([data_2020,data_2021])"
   ]
  },
  {
   "cell_type": "code",
   "execution_count": 4,
   "metadata": {},
   "outputs": [
    {
     "name": "stdout",
     "output_type": "stream",
     "text": [
      "(292455, 41)\n",
      "(316513, 41)\n",
      "(376944, 41)\n",
      "(985912, 41)\n"
     ]
    }
   ],
   "source": [
    "print(data_2019.shape)\n",
    "print(data_2020.shape)\n",
    "print(data_2021.shape)\n",
    "print(data_total.shape)"
   ]
  },
  {
   "cell_type": "markdown",
   "metadata": {},
   "source": [
    "#### Removing duplicates"
   ]
  },
  {
   "cell_type": "code",
   "execution_count": 5,
   "metadata": {},
   "outputs": [],
   "source": [
    "dup_2019 = data_2019.duplicated()\n",
    "dup_2020 = data_2020.duplicated()\n",
    "dup_2021 = data_2021.duplicated()\n",
    "dup_total = data_total.duplicated()"
   ]
  },
  {
   "cell_type": "code",
   "execution_count": 6,
   "metadata": {},
   "outputs": [
    {
     "name": "stdout",
     "output_type": "stream",
     "text": [
      "41382\n",
      "44973\n",
      "55171\n",
      "141526\n"
     ]
    }
   ],
   "source": [
    "print(sum(dup_2019))\n",
    "print(sum(dup_2020))\n",
    "print(sum(dup_2021))\n",
    "print(sum(dup_total))"
   ]
  },
  {
   "cell_type": "code",
   "execution_count": 7,
   "metadata": {},
   "outputs": [],
   "source": [
    "# removing duplicates\n",
    "\n",
    "data_2019 = data_2019.drop_duplicates()\n",
    "data_2020 = data_2020.drop_duplicates()\n",
    "data_2021 = data_2021.drop_duplicates()\n",
    "data_total = data_total.drop_duplicates()"
   ]
  },
  {
   "cell_type": "code",
   "execution_count": 8,
   "metadata": {},
   "outputs": [
    {
     "name": "stdout",
     "output_type": "stream",
     "text": [
      "(251073, 41)\n",
      "(271540, 41)\n",
      "(321773, 41)\n",
      "(844386, 41)\n"
     ]
    }
   ],
   "source": [
    "print(data_2019.shape)\n",
    "print(data_2020.shape)\n",
    "print(data_2021.shape)\n",
    "print(data_total.shape)"
   ]
  },
  {
   "cell_type": "code",
   "execution_count": 9,
   "metadata": {},
   "outputs": [],
   "source": [
    "# reset index\n",
    "data_total = data_total.reset_index(drop=True)"
   ]
  },
  {
   "cell_type": "code",
   "execution_count": 10,
   "metadata": {},
   "outputs": [
    {
     "name": "stdout",
     "output_type": "stream",
     "text": [
      "(844386, 41)\n"
     ]
    }
   ],
   "source": [
    "print(data_total.shape)"
   ]
  },
  {
   "cell_type": "code",
   "execution_count": 11,
   "metadata": {},
   "outputs": [],
   "source": [
    "pd.set_option('display.max_columns', None)"
   ]
  },
  {
   "cell_type": "code",
   "execution_count": 16,
   "metadata": {},
   "outputs": [
    {
     "name": "stdout",
     "output_type": "stream",
     "text": [
      "(844384,)\n"
     ]
    },
    {
     "data": {
      "text/plain": [
       "'https://www.facebook.com/260672837333530/posts/2679264632140993'"
      ]
     },
     "execution_count": 16,
     "metadata": {},
     "output_type": "execute_result"
    }
   ],
   "source": [
    "# is the URL a unique identifyer for the individual posts? -> almost except for 2 cases\n",
    "print(data_total[\"URL\"].unique().shape)\n",
    "dup_url = data_total[\"URL\"].duplicated()\n",
    "\n",
    "#data_total[dup_url==True]\n",
    "data_total[\"URL\"][42714]"
   ]
  },
  {
   "cell_type": "code",
   "execution_count": 17,
   "metadata": {},
   "outputs": [
    {
     "data": {
      "text/html": [
       "<div>\n",
       "<style scoped>\n",
       "    .dataframe tbody tr th:only-of-type {\n",
       "        vertical-align: middle;\n",
       "    }\n",
       "\n",
       "    .dataframe tbody tr th {\n",
       "        vertical-align: top;\n",
       "    }\n",
       "\n",
       "    .dataframe thead th {\n",
       "        text-align: right;\n",
       "    }\n",
       "</style>\n",
       "<table border=\"1\" class=\"dataframe\">\n",
       "  <thead>\n",
       "    <tr style=\"text-align: right;\">\n",
       "      <th></th>\n",
       "      <th>Page Name</th>\n",
       "      <th>User Name</th>\n",
       "      <th>Facebook Id</th>\n",
       "      <th>Page Category</th>\n",
       "      <th>Page Admin Top Country</th>\n",
       "      <th>Page Description</th>\n",
       "      <th>Page Created</th>\n",
       "      <th>Likes at Posting</th>\n",
       "      <th>Followers at Posting</th>\n",
       "      <th>Post Created</th>\n",
       "      <th>Post Created Date</th>\n",
       "      <th>Post Created Time</th>\n",
       "      <th>Type</th>\n",
       "      <th>Total Interactions</th>\n",
       "      <th>Likes</th>\n",
       "      <th>Comments</th>\n",
       "      <th>Shares</th>\n",
       "      <th>Love</th>\n",
       "      <th>Wow</th>\n",
       "      <th>Haha</th>\n",
       "      <th>Sad</th>\n",
       "      <th>Angry</th>\n",
       "      <th>Care</th>\n",
       "      <th>Video Share Status</th>\n",
       "      <th>Is Video Owner?</th>\n",
       "      <th>Post Views</th>\n",
       "      <th>Total Views</th>\n",
       "      <th>Total Views For All Crossposts</th>\n",
       "      <th>Video Length</th>\n",
       "      <th>URL</th>\n",
       "      <th>Message</th>\n",
       "      <th>Link</th>\n",
       "      <th>Final Link</th>\n",
       "      <th>Image Text</th>\n",
       "      <th>Link Text</th>\n",
       "      <th>Description</th>\n",
       "      <th>Sponsor Id</th>\n",
       "      <th>Sponsor Name</th>\n",
       "      <th>Sponsor Category</th>\n",
       "      <th>Total Interactions (weighted  —  Likes 1x Shares 1x Comments 1x Love 1x Wow 1x Haha 1x Sad 1x Angry 1x Care 1x )</th>\n",
       "      <th>Overperforming Score</th>\n",
       "    </tr>\n",
       "  </thead>\n",
       "  <tbody>\n",
       "    <tr>\n",
       "      <th>209</th>\n",
       "      <td>Die Bergretter</td>\n",
       "      <td>DieBergretter</td>\n",
       "      <td>260672837333530</td>\n",
       "      <td>TV_SHOW</td>\n",
       "      <td>DE</td>\n",
       "      <td>Diese Seite wird von der ndF: neue deutsche Fi...</td>\n",
       "      <td>2012-01-11 10:39:57</td>\n",
       "      <td>NaN</td>\n",
       "      <td>NaN</td>\n",
       "      <td>2019-12-05 10:59:07 CET</td>\n",
       "      <td>2019-12-05</td>\n",
       "      <td>10:59:07</td>\n",
       "      <td>Link</td>\n",
       "      <td>2.493</td>\n",
       "      <td>2042</td>\n",
       "      <td>218</td>\n",
       "      <td>54</td>\n",
       "      <td>163</td>\n",
       "      <td>15</td>\n",
       "      <td>1</td>\n",
       "      <td>0</td>\n",
       "      <td>0</td>\n",
       "      <td>0</td>\n",
       "      <td>NaN</td>\n",
       "      <td>-</td>\n",
       "      <td>0</td>\n",
       "      <td>0</td>\n",
       "      <td>0</td>\n",
       "      <td>NaN</td>\n",
       "      <td>https://www.facebook.com/260672837333530/posts...</td>\n",
       "      <td>DIE BERGRETTER Folge 5 *** Heute 20:15h im ZDF...</td>\n",
       "      <td>https://www.zdf.de/serien/die-bergretter/mutte...</td>\n",
       "      <td>NaN</td>\n",
       "      <td>NaN</td>\n",
       "      <td>Die Bergretter: Mutterglück</td>\n",
       "      <td>In einem Stall in den Bergen bringt eine junge...</td>\n",
       "      <td>NaN</td>\n",
       "      <td>NaN</td>\n",
       "      <td>NaN</td>\n",
       "      <td>2.493</td>\n",
       "      <td>-1,33</td>\n",
       "    </tr>\n",
       "    <tr>\n",
       "      <th>42714</th>\n",
       "      <td>Die Bergretter</td>\n",
       "      <td>DieBergretter</td>\n",
       "      <td>260672837333530</td>\n",
       "      <td>TV_SHOW</td>\n",
       "      <td>DE</td>\n",
       "      <td>Diese Seite wird von der ndF: neue deutsche Fi...</td>\n",
       "      <td>2012-01-11 10:39:57</td>\n",
       "      <td>NaN</td>\n",
       "      <td>NaN</td>\n",
       "      <td>2019-12-05 10:59:07 CET</td>\n",
       "      <td>2019-12-05</td>\n",
       "      <td>10:59:07</td>\n",
       "      <td>Link</td>\n",
       "      <td>2.491</td>\n",
       "      <td>2042</td>\n",
       "      <td>218</td>\n",
       "      <td>54</td>\n",
       "      <td>161</td>\n",
       "      <td>15</td>\n",
       "      <td>1</td>\n",
       "      <td>0</td>\n",
       "      <td>0</td>\n",
       "      <td>0</td>\n",
       "      <td>NaN</td>\n",
       "      <td>-</td>\n",
       "      <td>0</td>\n",
       "      <td>0</td>\n",
       "      <td>0</td>\n",
       "      <td>NaN</td>\n",
       "      <td>https://www.facebook.com/260672837333530/posts...</td>\n",
       "      <td>DIE BERGRETTER Folge 5 *** Heute 20:15h im ZDF...</td>\n",
       "      <td>https://www.zdf.de/serien/die-bergretter/mutte...</td>\n",
       "      <td>NaN</td>\n",
       "      <td>NaN</td>\n",
       "      <td>Die Bergretter: Mutterglück</td>\n",
       "      <td>In einem Stall in den Bergen bringt eine junge...</td>\n",
       "      <td>NaN</td>\n",
       "      <td>NaN</td>\n",
       "      <td>NaN</td>\n",
       "      <td>2.491</td>\n",
       "      <td>-1,38</td>\n",
       "    </tr>\n",
       "  </tbody>\n",
       "</table>\n",
       "</div>"
      ],
      "text/plain": [
       "            Page Name      User Name      Facebook Id Page Category  \\\n",
       "209    Die Bergretter  DieBergretter  260672837333530       TV_SHOW   \n",
       "42714  Die Bergretter  DieBergretter  260672837333530       TV_SHOW   \n",
       "\n",
       "      Page Admin Top Country  \\\n",
       "209                       DE   \n",
       "42714                     DE   \n",
       "\n",
       "                                        Page Description         Page Created  \\\n",
       "209    Diese Seite wird von der ndF: neue deutsche Fi...  2012-01-11 10:39:57   \n",
       "42714  Diese Seite wird von der ndF: neue deutsche Fi...  2012-01-11 10:39:57   \n",
       "\n",
       "       Likes at Posting  Followers at Posting             Post Created  \\\n",
       "209                 NaN                   NaN  2019-12-05 10:59:07 CET   \n",
       "42714               NaN                   NaN  2019-12-05 10:59:07 CET   \n",
       "\n",
       "      Post Created Date Post Created Time  Type  Total Interactions  Likes  \\\n",
       "209          2019-12-05          10:59:07  Link               2.493   2042   \n",
       "42714        2019-12-05          10:59:07  Link               2.491   2042   \n",
       "\n",
       "       Comments  Shares  Love  Wow  Haha  Sad  Angry  Care Video Share Status  \\\n",
       "209         218      54   163   15     1    0      0     0                NaN   \n",
       "42714       218      54   161   15     1    0      0     0                NaN   \n",
       "\n",
       "      Is Video Owner?  Post Views  Total Views  \\\n",
       "209                 -           0            0   \n",
       "42714               -           0            0   \n",
       "\n",
       "       Total Views For All Crossposts Video Length  \\\n",
       "209                                 0          NaN   \n",
       "42714                               0          NaN   \n",
       "\n",
       "                                                     URL  \\\n",
       "209    https://www.facebook.com/260672837333530/posts...   \n",
       "42714  https://www.facebook.com/260672837333530/posts...   \n",
       "\n",
       "                                                 Message  \\\n",
       "209    DIE BERGRETTER Folge 5 *** Heute 20:15h im ZDF...   \n",
       "42714  DIE BERGRETTER Folge 5 *** Heute 20:15h im ZDF...   \n",
       "\n",
       "                                                    Link Final Link  \\\n",
       "209    https://www.zdf.de/serien/die-bergretter/mutte...        NaN   \n",
       "42714  https://www.zdf.de/serien/die-bergretter/mutte...        NaN   \n",
       "\n",
       "      Image Text                    Link Text  \\\n",
       "209          NaN  Die Bergretter: Mutterglück   \n",
       "42714        NaN  Die Bergretter: Mutterglück   \n",
       "\n",
       "                                             Description  Sponsor Id  \\\n",
       "209    In einem Stall in den Bergen bringt eine junge...         NaN   \n",
       "42714  In einem Stall in den Bergen bringt eine junge...         NaN   \n",
       "\n",
       "      Sponsor Name Sponsor Category  \\\n",
       "209            NaN              NaN   \n",
       "42714          NaN              NaN   \n",
       "\n",
       "       Total Interactions (weighted  —  Likes 1x Shares 1x Comments 1x Love 1x Wow 1x Haha 1x Sad 1x Angry 1x Care 1x )  \\\n",
       "209                                                2.493                                                                  \n",
       "42714                                              2.491                                                                  \n",
       "\n",
       "      Overperforming Score  \n",
       "209                  -1,33  \n",
       "42714                -1,38  "
      ]
     },
     "execution_count": 17,
     "metadata": {},
     "output_type": "execute_result"
    }
   ],
   "source": [
    "data_total[data_total['URL']=='https://www.facebook.com/260672837333530/posts/2679264632140993']"
   ]
  },
  {
   "cell_type": "code",
   "execution_count": 18,
   "metadata": {},
   "outputs": [
    {
     "data": {
      "text/plain": [
       "Index(['Page Name', 'User Name', 'Facebook Id', 'Page Category',\n",
       "       'Page Admin Top Country', 'Page Description', 'Page Created',\n",
       "       'Likes at Posting', 'Followers at Posting', 'Post Created',\n",
       "       'Post Created Date', 'Post Created Time', 'Type', 'Total Interactions',\n",
       "       'Likes', 'Comments', 'Shares', 'Love', 'Wow', 'Haha', 'Sad', 'Angry',\n",
       "       'Care', 'Video Share Status', 'Is Video Owner?', 'Post Views',\n",
       "       'Total Views', 'Total Views For All Crossposts', 'Video Length', 'URL',\n",
       "       'Message', 'Link', 'Final Link', 'Image Text', 'Link Text',\n",
       "       'Description', 'Sponsor Id', 'Sponsor Name', 'Sponsor Category',\n",
       "       'Total Interactions (weighted  —  Likes 1x Shares 1x Comments 1x Love 1x Wow 1x Haha 1x Sad 1x Angry 1x Care 1x )',\n",
       "       'Overperforming Score'],\n",
       "      dtype='object')"
      ]
     },
     "execution_count": 18,
     "metadata": {},
     "output_type": "execute_result"
    }
   ],
   "source": [
    "data_total.columns"
   ]
  },
  {
   "cell_type": "code",
   "execution_count": 19,
   "metadata": {},
   "outputs": [
    {
     "data": {
      "text/html": [
       "<div>\n",
       "<style scoped>\n",
       "    .dataframe tbody tr th:only-of-type {\n",
       "        vertical-align: middle;\n",
       "    }\n",
       "\n",
       "    .dataframe tbody tr th {\n",
       "        vertical-align: top;\n",
       "    }\n",
       "\n",
       "    .dataframe thead th {\n",
       "        text-align: right;\n",
       "    }\n",
       "</style>\n",
       "<table border=\"1\" class=\"dataframe\">\n",
       "  <thead>\n",
       "    <tr style=\"text-align: right;\">\n",
       "      <th></th>\n",
       "      <th>Page Name</th>\n",
       "      <th>User Name</th>\n",
       "      <th>Facebook Id</th>\n",
       "      <th>Page Category</th>\n",
       "      <th>Page Admin Top Country</th>\n",
       "      <th>Page Description</th>\n",
       "      <th>Page Created</th>\n",
       "      <th>Likes at Posting</th>\n",
       "      <th>Followers at Posting</th>\n",
       "      <th>Post Created</th>\n",
       "      <th>Post Created Date</th>\n",
       "      <th>Post Created Time</th>\n",
       "      <th>Type</th>\n",
       "      <th>Total Interactions</th>\n",
       "      <th>Likes</th>\n",
       "      <th>Comments</th>\n",
       "      <th>Shares</th>\n",
       "      <th>Love</th>\n",
       "      <th>Wow</th>\n",
       "      <th>Haha</th>\n",
       "      <th>Sad</th>\n",
       "      <th>Angry</th>\n",
       "      <th>Care</th>\n",
       "      <th>Video Share Status</th>\n",
       "      <th>Is Video Owner?</th>\n",
       "      <th>Post Views</th>\n",
       "      <th>Total Views</th>\n",
       "      <th>Total Views For All Crossposts</th>\n",
       "      <th>Video Length</th>\n",
       "      <th>URL</th>\n",
       "      <th>Message</th>\n",
       "      <th>Link</th>\n",
       "      <th>Final Link</th>\n",
       "      <th>Image Text</th>\n",
       "      <th>Link Text</th>\n",
       "      <th>Description</th>\n",
       "      <th>Sponsor Id</th>\n",
       "      <th>Sponsor Name</th>\n",
       "      <th>Sponsor Category</th>\n",
       "      <th>Total Interactions (weighted  —  Likes 1x Shares 1x Comments 1x Love 1x Wow 1x Haha 1x Sad 1x Angry 1x Care 1x )</th>\n",
       "      <th>Overperforming Score</th>\n",
       "    </tr>\n",
       "  </thead>\n",
       "  <tbody>\n",
       "    <tr>\n",
       "      <th>0</th>\n",
       "      <td>Animal Equality Germany</td>\n",
       "      <td>AnimalEqualityGermany</td>\n",
       "      <td>259770724096761</td>\n",
       "      <td>NON_PROFIT</td>\n",
       "      <td>DE</td>\n",
       "      <td>Animal Equality ist eine internationale Organi...</td>\n",
       "      <td>2012-01-26 02:21:30</td>\n",
       "      <td>256981.0</td>\n",
       "      <td>248129.0</td>\n",
       "      <td>2019-12-19 19:45:00 CET</td>\n",
       "      <td>2019-12-19</td>\n",
       "      <td>19:45:00</td>\n",
       "      <td>Native Video</td>\n",
       "      <td>37.175</td>\n",
       "      <td>2401</td>\n",
       "      <td>4438</td>\n",
       "      <td>13657</td>\n",
       "      <td>103</td>\n",
       "      <td>41</td>\n",
       "      <td>43</td>\n",
       "      <td>9580</td>\n",
       "      <td>6901</td>\n",
       "      <td>11</td>\n",
       "      <td>owned</td>\n",
       "      <td>-</td>\n",
       "      <td>607965</td>\n",
       "      <td>1203085</td>\n",
       "      <td>0</td>\n",
       "      <td>00:01:49</td>\n",
       "      <td>https://www.facebook.com/259770724096761/posts...</td>\n",
       "      <td>#ThrowbackThursday Dieses Video hat im vergang...</td>\n",
       "      <td>NaN</td>\n",
       "      <td>NaN</td>\n",
       "      <td>NaN</td>\n",
       "      <td>NaN</td>\n",
       "      <td>NaN</td>\n",
       "      <td>NaN</td>\n",
       "      <td>NaN</td>\n",
       "      <td>NaN</td>\n",
       "      <td>37.175</td>\n",
       "      <td>128,19</td>\n",
       "    </tr>\n",
       "    <tr>\n",
       "      <th>1</th>\n",
       "      <td>DKMS Deutschland</td>\n",
       "      <td>DKMS.de</td>\n",
       "      <td>100064736678801</td>\n",
       "      <td>NON_PROFIT</td>\n",
       "      <td>DE</td>\n",
       "      <td>Einfach online registrieren und Leben retten: ...</td>\n",
       "      <td>2009-06-19 09:59:49</td>\n",
       "      <td>1165498.0</td>\n",
       "      <td>1120027.0</td>\n",
       "      <td>2019-09-14 09:13:00 CEST</td>\n",
       "      <td>2019-09-14</td>\n",
       "      <td>09:13:00</td>\n",
       "      <td>Photo</td>\n",
       "      <td>37.019</td>\n",
       "      <td>9045</td>\n",
       "      <td>1130</td>\n",
       "      <td>21984</td>\n",
       "      <td>1845</td>\n",
       "      <td>21</td>\n",
       "      <td>5</td>\n",
       "      <td>2988</td>\n",
       "      <td>1</td>\n",
       "      <td>0</td>\n",
       "      <td>NaN</td>\n",
       "      <td>-</td>\n",
       "      <td>0</td>\n",
       "      <td>0</td>\n",
       "      <td>0</td>\n",
       "      <td>NaN</td>\n",
       "      <td>https://www.facebook.com/92723147978/posts/101...</td>\n",
       "      <td>„Wir brauchen einen Stammzellspender für unser...</td>\n",
       "      <td>https://www.facebook.com/92723147978/photos/a....</td>\n",
       "      <td>NaN</td>\n",
       "      <td>NaN</td>\n",
       "      <td>NaN</td>\n",
       "      <td>NaN</td>\n",
       "      <td>NaN</td>\n",
       "      <td>NaN</td>\n",
       "      <td>NaN</td>\n",
       "      <td>37.019</td>\n",
       "      <td>8,71</td>\n",
       "    </tr>\n",
       "  </tbody>\n",
       "</table>\n",
       "</div>"
      ],
      "text/plain": [
       "                 Page Name              User Name      Facebook Id  \\\n",
       "0  Animal Equality Germany  AnimalEqualityGermany  259770724096761   \n",
       "1         DKMS Deutschland                DKMS.de  100064736678801   \n",
       "\n",
       "  Page Category Page Admin Top Country  \\\n",
       "0    NON_PROFIT                     DE   \n",
       "1    NON_PROFIT                     DE   \n",
       "\n",
       "                                    Page Description         Page Created  \\\n",
       "0  Animal Equality ist eine internationale Organi...  2012-01-26 02:21:30   \n",
       "1  Einfach online registrieren und Leben retten: ...  2009-06-19 09:59:49   \n",
       "\n",
       "   Likes at Posting  Followers at Posting              Post Created  \\\n",
       "0          256981.0              248129.0   2019-12-19 19:45:00 CET   \n",
       "1         1165498.0             1120027.0  2019-09-14 09:13:00 CEST   \n",
       "\n",
       "  Post Created Date Post Created Time          Type  Total Interactions  \\\n",
       "0        2019-12-19          19:45:00  Native Video              37.175   \n",
       "1        2019-09-14          09:13:00         Photo              37.019   \n",
       "\n",
       "   Likes  Comments  Shares  Love  Wow  Haha   Sad  Angry  Care  \\\n",
       "0   2401      4438   13657   103   41    43  9580   6901    11   \n",
       "1   9045      1130   21984  1845   21     5  2988      1     0   \n",
       "\n",
       "  Video Share Status Is Video Owner?  Post Views  Total Views  \\\n",
       "0              owned               -      607965      1203085   \n",
       "1                NaN               -           0            0   \n",
       "\n",
       "   Total Views For All Crossposts Video Length  \\\n",
       "0                               0     00:01:49   \n",
       "1                               0          NaN   \n",
       "\n",
       "                                                 URL  \\\n",
       "0  https://www.facebook.com/259770724096761/posts...   \n",
       "1  https://www.facebook.com/92723147978/posts/101...   \n",
       "\n",
       "                                             Message  \\\n",
       "0  #ThrowbackThursday Dieses Video hat im vergang...   \n",
       "1  „Wir brauchen einen Stammzellspender für unser...   \n",
       "\n",
       "                                                Link Final Link Image Text  \\\n",
       "0                                                NaN        NaN        NaN   \n",
       "1  https://www.facebook.com/92723147978/photos/a....        NaN        NaN   \n",
       "\n",
       "  Link Text Description  Sponsor Id Sponsor Name Sponsor Category  \\\n",
       "0       NaN         NaN         NaN          NaN              NaN   \n",
       "1       NaN         NaN         NaN          NaN              NaN   \n",
       "\n",
       "   Total Interactions (weighted  —  Likes 1x Shares 1x Comments 1x Love 1x Wow 1x Haha 1x Sad 1x Angry 1x Care 1x )  \\\n",
       "0                                             37.175                                                                  \n",
       "1                                             37.019                                                                  \n",
       "\n",
       "  Overperforming Score  \n",
       "0               128,19  \n",
       "1                 8,71  "
      ]
     },
     "execution_count": 19,
     "metadata": {},
     "output_type": "execute_result"
    }
   ],
   "source": [
    "data_total.head(2)"
   ]
  },
  {
   "cell_type": "markdown",
   "metadata": {},
   "source": [
    "#### Cleaning data\n",
    "\n",
    "In general we are interested in the column \"Message\".\n",
    "\n",
    "To clean the data there are a lot of manual steps necessary:\n",
    "\n",
    "* filtering for questions\n",
    "* removing posts from page category \"ZOO\"\n",
    "* checking the most active Pages -> removing posts from pages \n",
    "    * \"Dealtown - Codes / Warehouse Deals / Coupons\"\n",
    "    * Kinderschnäppchen\n",
    "    * AMZ Deals - Schnäppchen, Rabatte & Angebote - Sparen!\n",
    "    * Amazon Schnäppchen. Preisfehler, Produktvideos und Kurioses\n",
    "    * Schnäppchen & Deals & Rabattcodes | Amazing-Deals\n",
    "    * Sparmutti\n",
    "    * Promiflash\n",
    "    * Run Run Deals Schnäppchen Rabatte DE 🇩🇪\n",
    "    * Tierengel Bulgarien\n",
    "    * Ich liebe Katzen\n",
    "    * Schnäppchenjäger - Deals, Rabatte & Schnäppchen\n",
    "    * Animal Hope Bulgaria - Varna - Support Page/Deutsch/\n",
    "    * Kinder Lern TV\n",
    "    * Ich liebe Hunde\n",
    "    * Nähen (OHNE REGELN)\n",
    "    * RTL Exclusiv\n",
    "    * RTL\n",
    "    * Hoffnung für Fellnasen- Alles rund um Tiere\n",
    "    * Probenähen und Werbung für Schnitte und neue Stoffe\n",
    "    * Online Schnäppchen, Rabatte, Preisfehler und unschlagbare Deals\n",
    "    * Hilfe für alle Tiere in Not  <3     <3\n",
    "    * Marktplatz der Tiere  ☼\n",
    "    * Wir sind Garten®🌻\n",
    "    * Die größte Tierschutzgruppe auf Facebook\n",
    "* removing posts with specific words included like \n",
    "    * \"Gewinnspiel\"\n",
    "    * \"GEWINNSPIEL\"\n",
    "    * \"WERBUNG\"\n",
    "    * \"ADOPTED\"\n",
    "    * \"verlosen\"\n",
    "    * \"Verlosung\"\n",
    "    \n",
    "Nette Seiten mit Fragen von Müttern:\n",
    "\n",
    "* Eltern.de\n",
    "* Echte Mamas \n",
    "* Mama & Papa = ICH\n",
    "* Mein Kind ist mein Leben\n",
    "* BabyCenter Deutschland\n",
    "* Mami mit Herz und Seele\n",
    "* Von Mama zu Mama \n",
    "* Von Eltern für Elter"
   ]
  },
  {
   "cell_type": "code",
   "execution_count": 20,
   "metadata": {},
   "outputs": [],
   "source": [
    "# filter by questions\n",
    "ind = data_total['Message'].str.contains('\\?')\n",
    "ind = ind.fillna(False)"
   ]
  },
  {
   "cell_type": "code",
   "execution_count": 21,
   "metadata": {},
   "outputs": [
    {
     "data": {
      "text/plain": [
       "214054"
      ]
     },
     "execution_count": 21,
     "metadata": {},
     "output_type": "execute_result"
    }
   ],
   "source": [
    "# number of posts with questions\n",
    "sum(ind)"
   ]
  },
  {
   "cell_type": "code",
   "execution_count": 22,
   "metadata": {},
   "outputs": [],
   "source": [
    "# take only the posts with messages\n",
    "data_total = data_total[ind]"
   ]
  },
  {
   "cell_type": "code",
   "execution_count": 23,
   "metadata": {},
   "outputs": [],
   "source": [
    "# drop rows with page category 'ZOO'\n",
    "zoo = data_total[data_total['Page Category']=='ZOO'].index\n",
    "data_total = data_total.drop(zoo)"
   ]
  },
  {
   "cell_type": "code",
   "execution_count": 24,
   "metadata": {},
   "outputs": [
    {
     "data": {
      "text/plain": [
       "Eltern.de                                                      2690\n",
       "Dealtown - Codes / Warehouse Deals / Coupons                   2598\n",
       "Kinderschnäppchen                                              2069\n",
       "Echte Mamas                                                    1641\n",
       "miBaby                                                         1600\n",
       "AMZ Deals - Schnäppchen, Rabatte & Angebote - Sparen!          1540\n",
       "Amazon Schnäppchen. Preisfehler, Produktvideos und Kurioses    1421\n",
       "Schnäppchen & Deals & Rabattcodes | Amazing-Deals              1392\n",
       "Sparmutti                                                      1338\n",
       "Mama & Papa = ICH                                              1306\n",
       "Promiflash                                                     1291\n",
       "Mein Kind ist mein Leben                                       1243\n",
       "Run Run Deals Schnäppchen Rabatte DE 🇩🇪                         974\n",
       "Baby Sweets                                                     844\n",
       "omamashop.de                                                    617\n",
       "Tierengel Bulgarien                                             604\n",
       "Medela Deutschland                                              592\n",
       "Windelwissen.de                                                 532\n",
       "Windelmanufaktur                                                496\n",
       "Ich liebe Katzen                                                493\n",
       "Name: Page Name, dtype: int64"
      ]
     },
     "execution_count": 24,
     "metadata": {},
     "output_type": "execute_result"
    }
   ],
   "source": [
    "# check most active pages\n",
    "data_total['Page Name'].value_counts()[:20]"
   ]
  },
  {
   "cell_type": "code",
   "execution_count": 25,
   "metadata": {},
   "outputs": [],
   "source": [
    "# check out the posts from the listed pages\n",
    "#data_total[data_total['Page Name']==\"Die größte Tierschutzgruppe auf Facebook\"][\"Message\"]"
   ]
  },
  {
   "cell_type": "code",
   "execution_count": 26,
   "metadata": {},
   "outputs": [
    {
     "data": {
      "text/plain": [
       "13510     🚨🚨FREEBIE🚨🚨 ❗️Schnell sein❗️ ❌Freebie statt 59...\n",
       "22231     ❌9,99€ statt 19,99€❌ 👉Einfach einen der Codes ...\n",
       "22232     ❌3,56€ statt 11,86€❌ 👉Code aus den Kommentaren...\n",
       "23646     ❌1,64€ statt 10,99€❌ 👉Einfach einen der Einmal...\n",
       "23647     ❌2,61€ statt 8,99€❌ Einfach einen der Codes au...\n",
       "                                ...                        \n",
       "822624    💢WAREHOUSE DEAL💢 ❌17,55€ statt 25,53€❌ Zum War...\n",
       "822625    ❌5,99€❌ Hat der Deal funktioniert? Bitte kurz ...\n",
       "822626    💢WAREHOUSE DEAL💢 ❌7,13€ statt 13,09€❌ Zum Ware...\n",
       "822627    💢WAREHOUSE DEAL💢 ❌4,78€ statt 12,90€❌ Zum Ware...\n",
       "822628    ❌2,99€ statt 8,99€❌ Hat der Deal funktioniert?...\n",
       "Name: Message, Length: 2598, dtype: object"
      ]
     },
     "execution_count": 26,
     "metadata": {},
     "output_type": "execute_result"
    }
   ],
   "source": [
    "# remove post from page \"Dealtown - Codes / Warehouse Deals / Coupons\"\n",
    "data_total[data_total['Page Name']==\"Dealtown - Codes / Warehouse Deals / Coupons\"][\"Message\"]"
   ]
  },
  {
   "cell_type": "code",
   "execution_count": 27,
   "metadata": {},
   "outputs": [],
   "source": [
    "# remove post from page \"Dealtown - Codes / Warehouse Deals / Coupons\"\n",
    "ind_page = data_total[data_total['Page Name']==\"Dealtown - Codes / Warehouse Deals / Coupons\"].index\n",
    "data_total = data_total.drop(ind_page)"
   ]
  },
  {
   "cell_type": "code",
   "execution_count": 28,
   "metadata": {},
   "outputs": [],
   "source": [
    "# remove post from page \"Kinderschnäppchen\"\n",
    "ind_page = data_total[data_total['Page Name']==\"Kinderschnäppchen\"].index\n",
    "data_total = data_total.drop(ind_page)"
   ]
  },
  {
   "cell_type": "code",
   "execution_count": 29,
   "metadata": {},
   "outputs": [],
   "source": [
    "# remove post from page \"AMZ Deals - Schnäppchen, Rabatte & Angebote - Sparen!\"\n",
    "ind_page = data_total[data_total['Page Name']==\"AMZ Deals - Schnäppchen, Rabatte & Angebote - Sparen!\"].index\n",
    "data_total = data_total.drop(ind_page)"
   ]
  },
  {
   "cell_type": "code",
   "execution_count": 30,
   "metadata": {},
   "outputs": [],
   "source": [
    "# remove post from page \"Amazon Schnäppchen. Preisfehler, Produktvideos und Kurioses\"\n",
    "ind_page = data_total[data_total['Page Name']==\"Amazon Schnäppchen. Preisfehler, Produktvideos und Kurioses\"].index\n",
    "data_total = data_total.drop(ind_page)"
   ]
  },
  {
   "cell_type": "code",
   "execution_count": 31,
   "metadata": {},
   "outputs": [],
   "source": [
    "# remove post from page \"Schnäppchen & Deals & Rabattcodes | Amazing-Deals\"\n",
    "ind_page = data_total[data_total['Page Name']==\"Schnäppchen & Deals & Rabattcodes | Amazing-Deals\"].index\n",
    "data_total = data_total.drop(ind_page)"
   ]
  },
  {
   "cell_type": "code",
   "execution_count": 32,
   "metadata": {},
   "outputs": [],
   "source": [
    "# remove post from page \"Sparmutti\"\n",
    "ind_page = data_total[data_total['Page Name']==\"Sparmutti\"].index\n",
    "data_total = data_total.drop(ind_page)"
   ]
  },
  {
   "cell_type": "code",
   "execution_count": 33,
   "metadata": {},
   "outputs": [],
   "source": [
    "# remove post from page \"Promiflash\"\n",
    "ind_page = data_total[data_total['Page Name']==\"Promiflash\"].index\n",
    "data_total = data_total.drop(ind_page)"
   ]
  },
  {
   "cell_type": "code",
   "execution_count": 34,
   "metadata": {},
   "outputs": [],
   "source": [
    "# remove post from page \"Run Run Deals Schnäppchen Rabatte DE 🇩🇪\"\n",
    "ind_page = data_total[data_total['Page Name']==\"Run Run Deals Schnäppchen Rabatte DE 🇩🇪\"].index\n",
    "data_total = data_total.drop(ind_page)"
   ]
  },
  {
   "cell_type": "code",
   "execution_count": 35,
   "metadata": {},
   "outputs": [],
   "source": [
    "# remove post from page \"Tierengel Bulgarien\"\n",
    "ind_page = data_total[data_total['Page Name']==\"Tierengel Bulgarien\"].index\n",
    "data_total = data_total.drop(ind_page)"
   ]
  },
  {
   "cell_type": "code",
   "execution_count": 36,
   "metadata": {},
   "outputs": [],
   "source": [
    "# remove post from page \"Ich liebe Katzen\"\n",
    "ind_page = data_total[data_total['Page Name']==\"Ich liebe Katzen\"].index\n",
    "data_total = data_total.drop(ind_page)"
   ]
  },
  {
   "cell_type": "code",
   "execution_count": 37,
   "metadata": {},
   "outputs": [],
   "source": [
    "# remove post from page \"Schnäppchenjäger - Deals, Rabatte & Schnäppchen\"\n",
    "ind_page = data_total[data_total['Page Name']==\"Schnäppchenjäger - Deals, Rabatte & Schnäppchen\"].index\n",
    "data_total = data_total.drop(ind_page)"
   ]
  },
  {
   "cell_type": "code",
   "execution_count": 38,
   "metadata": {},
   "outputs": [],
   "source": [
    "# remove post from page \"Animal Hope Bulgaria - Varna - Support Page/Deutsch/\"\n",
    "ind_page = data_total[data_total['Page Name']==\"Animal Hope Bulgaria - Varna - Support Page/Deutsch/\"].index\n",
    "data_total = data_total.drop(ind_page)"
   ]
  },
  {
   "cell_type": "code",
   "execution_count": 39,
   "metadata": {},
   "outputs": [],
   "source": [
    "# remove post from page \"Kinder Lern TV\"\n",
    "ind_page = data_total[data_total['Page Name']==\"Kinder Lern TV\"].index\n",
    "data_total = data_total.drop(ind_page)"
   ]
  },
  {
   "cell_type": "code",
   "execution_count": 40,
   "metadata": {},
   "outputs": [],
   "source": [
    "# remove post from page \"Ich liebe Hunde\"\n",
    "ind_page = data_total[data_total['Page Name']==\"Ich liebe Hunde\"].index\n",
    "data_total = data_total.drop(ind_page)"
   ]
  },
  {
   "cell_type": "code",
   "execution_count": 41,
   "metadata": {},
   "outputs": [],
   "source": [
    "# remove post from page \"Nähen (OHNE REGELN)\"\n",
    "ind_page = data_total[data_total['Page Name']==\"Nähen (OHNE REGELN)\"].index\n",
    "data_total = data_total.drop(ind_page)"
   ]
  },
  {
   "cell_type": "code",
   "execution_count": 42,
   "metadata": {},
   "outputs": [],
   "source": [
    "# remove post from page \"RTL Exclusiv\"\n",
    "ind_page = data_total[data_total['Page Name']==\"RTL Exclusiv\"].index\n",
    "data_total = data_total.drop(ind_page)"
   ]
  },
  {
   "cell_type": "code",
   "execution_count": 43,
   "metadata": {},
   "outputs": [],
   "source": [
    "# remove post from page \"RTL\"\n",
    "ind_page = data_total[data_total['Page Name']==\"RTL\"].index\n",
    "data_total = data_total.drop(ind_page)"
   ]
  },
  {
   "cell_type": "code",
   "execution_count": 44,
   "metadata": {},
   "outputs": [],
   "source": [
    "# remove post from page \"Hoffnung für Fellnasen- Alles rund um Tiere\"\n",
    "ind_page = data_total[data_total['Page Name']==\"Hoffnung für Fellnasen- Alles rund um Tiere\"].index\n",
    "data_total = data_total.drop(ind_page)"
   ]
  },
  {
   "cell_type": "code",
   "execution_count": 45,
   "metadata": {},
   "outputs": [],
   "source": [
    "# remove post from page \"Probenähen und Werbung für Schnitte und neue Stoffe\"\n",
    "ind_page = data_total[data_total['Page Name']==\"Probenähen und Werbung für Schnitte und neue Stoffe\"].index\n",
    "data_total = data_total.drop(ind_page)"
   ]
  },
  {
   "cell_type": "code",
   "execution_count": 46,
   "metadata": {},
   "outputs": [],
   "source": [
    "# remove post from page \"Online Schnäppchen, Rabatte, Preisfehler und unschlagbare Deals\"\n",
    "ind_page = data_total[data_total['Page Name']==\"Online Schnäppchen, Rabatte, Preisfehler und unschlagbare Deals\"].index\n",
    "data_total = data_total.drop(ind_page)"
   ]
  },
  {
   "cell_type": "code",
   "execution_count": 47,
   "metadata": {},
   "outputs": [],
   "source": [
    "# remove post from page \"Hilfe für alle Tiere in Not  <3     <3\"\n",
    "ind_page = data_total[data_total['Page Name']==\"Hilfe für alle Tiere in Not  <3     <3\"].index\n",
    "data_total = data_total.drop(ind_page)"
   ]
  },
  {
   "cell_type": "code",
   "execution_count": 48,
   "metadata": {},
   "outputs": [],
   "source": [
    "# remove post from page \"Marktplatz der Tiere  ☼\"\n",
    "ind_page = data_total[data_total['Page Name']==\"Marktplatz der Tiere  ☼\"].index\n",
    "data_total = data_total.drop(ind_page)"
   ]
  },
  {
   "cell_type": "code",
   "execution_count": 49,
   "metadata": {},
   "outputs": [],
   "source": [
    "# remove post from page \"Wir sind Garten®🌻\"\n",
    "ind_page = data_total[data_total['Page Name']==\"Wir sind Garten®🌻\"].index\n",
    "data_total = data_total.drop(ind_page)"
   ]
  },
  {
   "cell_type": "code",
   "execution_count": 50,
   "metadata": {},
   "outputs": [],
   "source": [
    "# remove post from page \"Die größte Tierschutzgruppe auf Facebook\"\n",
    "ind_page = data_total[data_total['Page Name']==\"Die größte Tierschutzgruppe auf Facebook\"].index\n",
    "data_total = data_total.drop(ind_page) "
   ]
  },
  {
   "cell_type": "markdown",
   "metadata": {},
   "source": [
    "Removing posts with specific keywords:"
   ]
  },
  {
   "cell_type": "code",
   "execution_count": 51,
   "metadata": {},
   "outputs": [
    {
     "name": "stdout",
     "output_type": "stream",
     "text": [
      "2376\n"
     ]
    }
   ],
   "source": [
    "# \"Gewinnspiel\"\n",
    "ind_remove = data_total['Message'].str.contains('Gewinnspiel')\n",
    "print(sum(ind_remove))\n",
    "data_total = data_total[np.logical_not(ind_remove)]"
   ]
  },
  {
   "cell_type": "code",
   "execution_count": 52,
   "metadata": {},
   "outputs": [
    {
     "name": "stdout",
     "output_type": "stream",
     "text": [
      "149\n"
     ]
    }
   ],
   "source": [
    "ind_remove = data_total['Message'].str.contains('GEWINNSPIEL')\n",
    "print(sum(ind_remove))\n",
    "data_total = data_total[np.logical_not(ind_remove)]"
   ]
  },
  {
   "cell_type": "code",
   "execution_count": 53,
   "metadata": {},
   "outputs": [
    {
     "name": "stdout",
     "output_type": "stream",
     "text": [
      "176\n"
     ]
    }
   ],
   "source": [
    "ind_remove = data_total['Message'].str.contains('WERBUNG')\n",
    "print(sum(ind_remove))\n",
    "data_total = data_total[np.logical_not(ind_remove)]"
   ]
  },
  {
   "cell_type": "code",
   "execution_count": 54,
   "metadata": {},
   "outputs": [
    {
     "name": "stdout",
     "output_type": "stream",
     "text": [
      "4\n"
     ]
    }
   ],
   "source": [
    "ind_remove = data_total['Message'].str.contains('ADOPTED')\n",
    "print(sum(ind_remove))\n",
    "data_total = data_total[np.logical_not(ind_remove)]"
   ]
  },
  {
   "cell_type": "code",
   "execution_count": 55,
   "metadata": {},
   "outputs": [
    {
     "name": "stdout",
     "output_type": "stream",
     "text": [
      "415\n"
     ]
    }
   ],
   "source": [
    "ind_remove = data_total['Message'].str.contains('verlosen')\n",
    "print(sum(ind_remove))\n",
    "data_total = data_total[np.logical_not(ind_remove)]"
   ]
  },
  {
   "cell_type": "code",
   "execution_count": 56,
   "metadata": {},
   "outputs": [
    {
     "name": "stdout",
     "output_type": "stream",
     "text": [
      "153\n"
     ]
    }
   ],
   "source": [
    "ind_remove = data_total['Message'].str.contains('Verlosung')\n",
    "print(sum(ind_remove))\n",
    "data_total = data_total[np.logical_not(ind_remove)]"
   ]
  },
  {
   "cell_type": "code",
   "execution_count": 57,
   "metadata": {},
   "outputs": [],
   "source": [
    "#data_total['Message'][ind_remove][:20]"
   ]
  },
  {
   "cell_type": "code",
   "execution_count": 58,
   "metadata": {},
   "outputs": [],
   "source": [
    "#data_total[\"Page Category\"].unique()"
   ]
  },
  {
   "cell_type": "code",
   "execution_count": 59,
   "metadata": {},
   "outputs": [],
   "source": [
    "# reset index\n",
    "data_total = data_total.reset_index(drop=True)"
   ]
  },
  {
   "cell_type": "markdown",
   "metadata": {},
   "source": [
    "### Data Exploration and Overview statistics "
   ]
  },
  {
   "cell_type": "code",
   "execution_count": 60,
   "metadata": {},
   "outputs": [
    {
     "data": {
      "text/plain": [
       "(192307, 41)"
      ]
     },
     "execution_count": 60,
     "metadata": {},
     "output_type": "execute_result"
    }
   ],
   "source": [
    "data_total.shape"
   ]
  },
  {
   "cell_type": "code",
   "execution_count": 61,
   "metadata": {},
   "outputs": [
    {
     "data": {
      "text/html": [
       "<div>\n",
       "<style scoped>\n",
       "    .dataframe tbody tr th:only-of-type {\n",
       "        vertical-align: middle;\n",
       "    }\n",
       "\n",
       "    .dataframe tbody tr th {\n",
       "        vertical-align: top;\n",
       "    }\n",
       "\n",
       "    .dataframe thead th {\n",
       "        text-align: right;\n",
       "    }\n",
       "</style>\n",
       "<table border=\"1\" class=\"dataframe\">\n",
       "  <thead>\n",
       "    <tr style=\"text-align: right;\">\n",
       "      <th></th>\n",
       "      <th>Page Name</th>\n",
       "      <th>User Name</th>\n",
       "      <th>Facebook Id</th>\n",
       "      <th>Page Category</th>\n",
       "      <th>Page Admin Top Country</th>\n",
       "      <th>Page Description</th>\n",
       "      <th>Page Created</th>\n",
       "      <th>Likes at Posting</th>\n",
       "      <th>Followers at Posting</th>\n",
       "      <th>Post Created</th>\n",
       "      <th>Post Created Date</th>\n",
       "      <th>Post Created Time</th>\n",
       "      <th>Type</th>\n",
       "      <th>Total Interactions</th>\n",
       "      <th>Likes</th>\n",
       "      <th>Comments</th>\n",
       "      <th>Shares</th>\n",
       "      <th>Love</th>\n",
       "      <th>Wow</th>\n",
       "      <th>Haha</th>\n",
       "      <th>Sad</th>\n",
       "      <th>Angry</th>\n",
       "      <th>Care</th>\n",
       "      <th>Video Share Status</th>\n",
       "      <th>Is Video Owner?</th>\n",
       "      <th>Post Views</th>\n",
       "      <th>Total Views</th>\n",
       "      <th>Total Views For All Crossposts</th>\n",
       "      <th>Video Length</th>\n",
       "      <th>URL</th>\n",
       "      <th>Message</th>\n",
       "      <th>Link</th>\n",
       "      <th>Final Link</th>\n",
       "      <th>Image Text</th>\n",
       "      <th>Link Text</th>\n",
       "      <th>Description</th>\n",
       "      <th>Sponsor Id</th>\n",
       "      <th>Sponsor Name</th>\n",
       "      <th>Sponsor Category</th>\n",
       "      <th>Total Interactions (weighted  —  Likes 1x Shares 1x Comments 1x Love 1x Wow 1x Haha 1x Sad 1x Angry 1x Care 1x )</th>\n",
       "      <th>Overperforming Score</th>\n",
       "    </tr>\n",
       "  </thead>\n",
       "  <tbody>\n",
       "    <tr>\n",
       "      <th>0</th>\n",
       "      <td>DKMS Deutschland</td>\n",
       "      <td>DKMS.de</td>\n",
       "      <td>100064736678801</td>\n",
       "      <td>NON_PROFIT</td>\n",
       "      <td>DE</td>\n",
       "      <td>Einfach online registrieren und Leben retten: ...</td>\n",
       "      <td>2009-06-19 09:59:49</td>\n",
       "      <td>1165498.0</td>\n",
       "      <td>1120027.0</td>\n",
       "      <td>2019-09-14 09:13:00 CEST</td>\n",
       "      <td>2019-09-14</td>\n",
       "      <td>09:13:00</td>\n",
       "      <td>Photo</td>\n",
       "      <td>37.019</td>\n",
       "      <td>9045</td>\n",
       "      <td>1130</td>\n",
       "      <td>21984</td>\n",
       "      <td>1845</td>\n",
       "      <td>21</td>\n",
       "      <td>5</td>\n",
       "      <td>2988</td>\n",
       "      <td>1</td>\n",
       "      <td>0</td>\n",
       "      <td>NaN</td>\n",
       "      <td>-</td>\n",
       "      <td>0</td>\n",
       "      <td>0</td>\n",
       "      <td>0</td>\n",
       "      <td>NaN</td>\n",
       "      <td>https://www.facebook.com/92723147978/posts/101...</td>\n",
       "      <td>„Wir brauchen einen Stammzellspender für unser...</td>\n",
       "      <td>https://www.facebook.com/92723147978/photos/a....</td>\n",
       "      <td>NaN</td>\n",
       "      <td>NaN</td>\n",
       "      <td>NaN</td>\n",
       "      <td>NaN</td>\n",
       "      <td>NaN</td>\n",
       "      <td>NaN</td>\n",
       "      <td>NaN</td>\n",
       "      <td>37.019</td>\n",
       "      <td>8,71</td>\n",
       "    </tr>\n",
       "    <tr>\n",
       "      <th>1</th>\n",
       "      <td>Sternenzauber &amp; Frühchenwunder e.V.</td>\n",
       "      <td>sternchenundfruehchen</td>\n",
       "      <td>100064701367893</td>\n",
       "      <td>NON_PROFIT</td>\n",
       "      <td>DE</td>\n",
       "      <td>Wir möchten verwaisten Eltern in den dunklen S...</td>\n",
       "      <td>2016-12-19 01:36:47</td>\n",
       "      <td>NaN</td>\n",
       "      <td>NaN</td>\n",
       "      <td>2019-09-15 19:00:27 CEST</td>\n",
       "      <td>2019-09-15</td>\n",
       "      <td>19:00:27</td>\n",
       "      <td>Photo</td>\n",
       "      <td>30.917</td>\n",
       "      <td>9565</td>\n",
       "      <td>1959</td>\n",
       "      <td>14350</td>\n",
       "      <td>2477</td>\n",
       "      <td>13</td>\n",
       "      <td>2</td>\n",
       "      <td>2479</td>\n",
       "      <td>2</td>\n",
       "      <td>70</td>\n",
       "      <td>NaN</td>\n",
       "      <td>-</td>\n",
       "      <td>0</td>\n",
       "      <td>0</td>\n",
       "      <td>0</td>\n",
       "      <td>NaN</td>\n",
       "      <td>https://www.facebook.com/217613252021047/posts...</td>\n",
       "      <td>Zum Nachdenken! Irgendwo da draußen gibt es ei...</td>\n",
       "      <td>https://www.facebook.com/217613252021047/photo...</td>\n",
       "      <td>NaN</td>\n",
       "      <td>NaN</td>\n",
       "      <td>NaN</td>\n",
       "      <td>NaN</td>\n",
       "      <td>NaN</td>\n",
       "      <td>NaN</td>\n",
       "      <td>NaN</td>\n",
       "      <td>30.917</td>\n",
       "      <td>220,84</td>\n",
       "    </tr>\n",
       "    <tr>\n",
       "      <th>2</th>\n",
       "      <td>Gerald G. Grosz</td>\n",
       "      <td>GeraldGroszOfficial</td>\n",
       "      <td>100043943508108</td>\n",
       "      <td>POLITICIAN</td>\n",
       "      <td>AT</td>\n",
       "      <td>Willkommen auf der offiziellen Facebook-Seite ...</td>\n",
       "      <td>2014-06-26 08:00:13</td>\n",
       "      <td>107914.0</td>\n",
       "      <td>116947.0</td>\n",
       "      <td>2019-08-07 19:34:05 CEST</td>\n",
       "      <td>2019-08-07</td>\n",
       "      <td>19:34:05</td>\n",
       "      <td>Native Video</td>\n",
       "      <td>18.292</td>\n",
       "      <td>6840</td>\n",
       "      <td>744</td>\n",
       "      <td>9778</td>\n",
       "      <td>294</td>\n",
       "      <td>32</td>\n",
       "      <td>527</td>\n",
       "      <td>24</td>\n",
       "      <td>50</td>\n",
       "      <td>3</td>\n",
       "      <td>owned</td>\n",
       "      <td>Yes</td>\n",
       "      <td>71308</td>\n",
       "      <td>291453</td>\n",
       "      <td>0</td>\n",
       "      <td>00:02:49</td>\n",
       "      <td>https://www.facebook.com/686924954713065/posts...</td>\n",
       "      <td>„Wenn die Menschen nichts mehr zu essen haben,...</td>\n",
       "      <td>https://www.facebook.com/GeraldGroszOfficial/v...</td>\n",
       "      <td>NaN</td>\n",
       "      <td>NaN</td>\n",
       "      <td>NaN</td>\n",
       "      <td>NaN</td>\n",
       "      <td>NaN</td>\n",
       "      <td>NaN</td>\n",
       "      <td>NaN</td>\n",
       "      <td>18.292</td>\n",
       "      <td>4,82</td>\n",
       "    </tr>\n",
       "    <tr>\n",
       "      <th>3</th>\n",
       "      <td>SOKO Tierschutz</td>\n",
       "      <td>sokotierschutz.ev</td>\n",
       "      <td>162271687230474</td>\n",
       "      <td>NON_PROFIT</td>\n",
       "      <td>DE</td>\n",
       "      <td>Tierquäler können sich nicht verstecken! Wir s...</td>\n",
       "      <td>2012-10-03 07:22:06</td>\n",
       "      <td>63146.0</td>\n",
       "      <td>62362.0</td>\n",
       "      <td>2019-07-11 20:15:29 CEST</td>\n",
       "      <td>2019-07-11</td>\n",
       "      <td>20:15:29</td>\n",
       "      <td>Photo</td>\n",
       "      <td>14.080</td>\n",
       "      <td>848</td>\n",
       "      <td>1821</td>\n",
       "      <td>6352</td>\n",
       "      <td>64</td>\n",
       "      <td>9</td>\n",
       "      <td>1</td>\n",
       "      <td>2802</td>\n",
       "      <td>2183</td>\n",
       "      <td>0</td>\n",
       "      <td>NaN</td>\n",
       "      <td>-</td>\n",
       "      <td>0</td>\n",
       "      <td>0</td>\n",
       "      <td>0</td>\n",
       "      <td>NaN</td>\n",
       "      <td>https://www.facebook.com/162271687230474/posts...</td>\n",
       "      <td>Kommentar von Friedrich Von zwei Leben, drei G...</td>\n",
       "      <td>https://www.facebook.com/sokotierschutz.ev/pho...</td>\n",
       "      <td>NaN</td>\n",
       "      <td>NaN</td>\n",
       "      <td>Photos from SOKO Tierschutz's post</td>\n",
       "      <td>NaN</td>\n",
       "      <td>NaN</td>\n",
       "      <td>NaN</td>\n",
       "      <td>NaN</td>\n",
       "      <td>14.080</td>\n",
       "      <td>9,64</td>\n",
       "    </tr>\n",
       "    <tr>\n",
       "      <th>4</th>\n",
       "      <td>Y-Kollektiv</td>\n",
       "      <td>YKollektiv</td>\n",
       "      <td>517303605133886</td>\n",
       "      <td>MEDIA_NEWS_COMPANY</td>\n",
       "      <td>DE</td>\n",
       "      <td>Wir sind Y! Und wir machen Web-Dokus und Repor...</td>\n",
       "      <td>2016-05-13 08:16:46</td>\n",
       "      <td>57539.0</td>\n",
       "      <td>61684.0</td>\n",
       "      <td>2019-07-25 17:17:04 CEST</td>\n",
       "      <td>2019-07-25</td>\n",
       "      <td>17:17:04</td>\n",
       "      <td>Native Video</td>\n",
       "      <td>10.464</td>\n",
       "      <td>4641</td>\n",
       "      <td>3280</td>\n",
       "      <td>1126</td>\n",
       "      <td>607</td>\n",
       "      <td>506</td>\n",
       "      <td>58</td>\n",
       "      <td>52</td>\n",
       "      <td>168</td>\n",
       "      <td>26</td>\n",
       "      <td>crosspost</td>\n",
       "      <td>-</td>\n",
       "      <td>2029258</td>\n",
       "      <td>2327626</td>\n",
       "      <td>2326973</td>\n",
       "      <td>00:15:50</td>\n",
       "      <td>https://www.facebook.com/517303605133886/posts...</td>\n",
       "      <td>Eine Geburt ohne Hebamme - alleine irgendwo in...</td>\n",
       "      <td>NaN</td>\n",
       "      <td>NaN</td>\n",
       "      <td>NaN</td>\n",
       "      <td>NaN</td>\n",
       "      <td>NaN</td>\n",
       "      <td>NaN</td>\n",
       "      <td>NaN</td>\n",
       "      <td>NaN</td>\n",
       "      <td>10.464</td>\n",
       "      <td>58,13</td>\n",
       "    </tr>\n",
       "  </tbody>\n",
       "</table>\n",
       "</div>"
      ],
      "text/plain": [
       "                             Page Name              User Name  \\\n",
       "0                     DKMS Deutschland                DKMS.de   \n",
       "1  Sternenzauber & Frühchenwunder e.V.  sternchenundfruehchen   \n",
       "2                      Gerald G. Grosz    GeraldGroszOfficial   \n",
       "3                      SOKO Tierschutz      sokotierschutz.ev   \n",
       "4                          Y-Kollektiv             YKollektiv   \n",
       "\n",
       "       Facebook Id       Page Category Page Admin Top Country  \\\n",
       "0  100064736678801          NON_PROFIT                     DE   \n",
       "1  100064701367893          NON_PROFIT                     DE   \n",
       "2  100043943508108          POLITICIAN                     AT   \n",
       "3  162271687230474          NON_PROFIT                     DE   \n",
       "4  517303605133886  MEDIA_NEWS_COMPANY                     DE   \n",
       "\n",
       "                                    Page Description         Page Created  \\\n",
       "0  Einfach online registrieren und Leben retten: ...  2009-06-19 09:59:49   \n",
       "1  Wir möchten verwaisten Eltern in den dunklen S...  2016-12-19 01:36:47   \n",
       "2  Willkommen auf der offiziellen Facebook-Seite ...  2014-06-26 08:00:13   \n",
       "3  Tierquäler können sich nicht verstecken! Wir s...  2012-10-03 07:22:06   \n",
       "4  Wir sind Y! Und wir machen Web-Dokus und Repor...  2016-05-13 08:16:46   \n",
       "\n",
       "   Likes at Posting  Followers at Posting              Post Created  \\\n",
       "0         1165498.0             1120027.0  2019-09-14 09:13:00 CEST   \n",
       "1               NaN                   NaN  2019-09-15 19:00:27 CEST   \n",
       "2          107914.0              116947.0  2019-08-07 19:34:05 CEST   \n",
       "3           63146.0               62362.0  2019-07-11 20:15:29 CEST   \n",
       "4           57539.0               61684.0  2019-07-25 17:17:04 CEST   \n",
       "\n",
       "  Post Created Date Post Created Time          Type  Total Interactions  \\\n",
       "0        2019-09-14          09:13:00         Photo              37.019   \n",
       "1        2019-09-15          19:00:27         Photo              30.917   \n",
       "2        2019-08-07          19:34:05  Native Video              18.292   \n",
       "3        2019-07-11          20:15:29         Photo              14.080   \n",
       "4        2019-07-25          17:17:04  Native Video              10.464   \n",
       "\n",
       "   Likes  Comments  Shares  Love  Wow  Haha   Sad  Angry  Care  \\\n",
       "0   9045      1130   21984  1845   21     5  2988      1     0   \n",
       "1   9565      1959   14350  2477   13     2  2479      2    70   \n",
       "2   6840       744    9778   294   32   527    24     50     3   \n",
       "3    848      1821    6352    64    9     1  2802   2183     0   \n",
       "4   4641      3280    1126   607  506    58    52    168    26   \n",
       "\n",
       "  Video Share Status Is Video Owner?  Post Views  Total Views  \\\n",
       "0                NaN               -           0            0   \n",
       "1                NaN               -           0            0   \n",
       "2              owned             Yes       71308       291453   \n",
       "3                NaN               -           0            0   \n",
       "4          crosspost               -     2029258      2327626   \n",
       "\n",
       "   Total Views For All Crossposts Video Length  \\\n",
       "0                               0          NaN   \n",
       "1                               0          NaN   \n",
       "2                               0     00:02:49   \n",
       "3                               0          NaN   \n",
       "4                         2326973     00:15:50   \n",
       "\n",
       "                                                 URL  \\\n",
       "0  https://www.facebook.com/92723147978/posts/101...   \n",
       "1  https://www.facebook.com/217613252021047/posts...   \n",
       "2  https://www.facebook.com/686924954713065/posts...   \n",
       "3  https://www.facebook.com/162271687230474/posts...   \n",
       "4  https://www.facebook.com/517303605133886/posts...   \n",
       "\n",
       "                                             Message  \\\n",
       "0  „Wir brauchen einen Stammzellspender für unser...   \n",
       "1  Zum Nachdenken! Irgendwo da draußen gibt es ei...   \n",
       "2  „Wenn die Menschen nichts mehr zu essen haben,...   \n",
       "3  Kommentar von Friedrich Von zwei Leben, drei G...   \n",
       "4  Eine Geburt ohne Hebamme - alleine irgendwo in...   \n",
       "\n",
       "                                                Link Final Link Image Text  \\\n",
       "0  https://www.facebook.com/92723147978/photos/a....        NaN        NaN   \n",
       "1  https://www.facebook.com/217613252021047/photo...        NaN        NaN   \n",
       "2  https://www.facebook.com/GeraldGroszOfficial/v...        NaN        NaN   \n",
       "3  https://www.facebook.com/sokotierschutz.ev/pho...        NaN        NaN   \n",
       "4                                                NaN        NaN        NaN   \n",
       "\n",
       "                            Link Text Description  Sponsor Id Sponsor Name  \\\n",
       "0                                 NaN         NaN         NaN          NaN   \n",
       "1                                 NaN         NaN         NaN          NaN   \n",
       "2                                 NaN         NaN         NaN          NaN   \n",
       "3  Photos from SOKO Tierschutz's post         NaN         NaN          NaN   \n",
       "4                                 NaN         NaN         NaN          NaN   \n",
       "\n",
       "  Sponsor Category  \\\n",
       "0              NaN   \n",
       "1              NaN   \n",
       "2              NaN   \n",
       "3              NaN   \n",
       "4              NaN   \n",
       "\n",
       "   Total Interactions (weighted  —  Likes 1x Shares 1x Comments 1x Love 1x Wow 1x Haha 1x Sad 1x Angry 1x Care 1x )  \\\n",
       "0                                             37.019                                                                  \n",
       "1                                             30.917                                                                  \n",
       "2                                             18.292                                                                  \n",
       "3                                             14.080                                                                  \n",
       "4                                             10.464                                                                  \n",
       "\n",
       "  Overperforming Score  \n",
       "0                 8,71  \n",
       "1               220,84  \n",
       "2                 4,82  \n",
       "3                 9,64  \n",
       "4                58,13  "
      ]
     },
     "execution_count": 61,
     "metadata": {},
     "output_type": "execute_result"
    }
   ],
   "source": [
    "#pd.set_option('display.max_columns', None)\n",
    "data_total.head()"
   ]
  },
  {
   "cell_type": "code",
   "execution_count": 62,
   "metadata": {},
   "outputs": [
    {
     "data": {
      "text/plain": [
       "Index(['Page Name', 'User Name', 'Facebook Id', 'Page Category',\n",
       "       'Page Admin Top Country', 'Page Description', 'Page Created',\n",
       "       'Likes at Posting', 'Followers at Posting', 'Post Created',\n",
       "       'Post Created Date', 'Post Created Time', 'Type', 'Total Interactions',\n",
       "       'Likes', 'Comments', 'Shares', 'Love', 'Wow', 'Haha', 'Sad', 'Angry',\n",
       "       'Care', 'Video Share Status', 'Is Video Owner?', 'Post Views',\n",
       "       'Total Views', 'Total Views For All Crossposts', 'Video Length', 'URL',\n",
       "       'Message', 'Link', 'Final Link', 'Image Text', 'Link Text',\n",
       "       'Description', 'Sponsor Id', 'Sponsor Name', 'Sponsor Category',\n",
       "       'Total Interactions (weighted  —  Likes 1x Shares 1x Comments 1x Love 1x Wow 1x Haha 1x Sad 1x Angry 1x Care 1x )',\n",
       "       'Overperforming Score'],\n",
       "      dtype='object')"
      ]
     },
     "execution_count": 62,
     "metadata": {},
     "output_type": "execute_result"
    }
   ],
   "source": [
    "data_total.columns"
   ]
  },
  {
   "cell_type": "code",
   "execution_count": 63,
   "metadata": {},
   "outputs": [
    {
     "data": {
      "text/html": [
       "<div>\n",
       "<style scoped>\n",
       "    .dataframe tbody tr th:only-of-type {\n",
       "        vertical-align: middle;\n",
       "    }\n",
       "\n",
       "    .dataframe tbody tr th {\n",
       "        vertical-align: top;\n",
       "    }\n",
       "\n",
       "    .dataframe thead th {\n",
       "        text-align: right;\n",
       "    }\n",
       "</style>\n",
       "<table border=\"1\" class=\"dataframe\">\n",
       "  <thead>\n",
       "    <tr style=\"text-align: right;\">\n",
       "      <th></th>\n",
       "      <th>Message</th>\n",
       "      <th>Link Text</th>\n",
       "    </tr>\n",
       "  </thead>\n",
       "  <tbody>\n",
       "    <tr>\n",
       "      <th>192287</th>\n",
       "      <td>Seht ihr es auch? 😱 Mutter entdeckt unbekannte...</td>\n",
       "      <td>Timeline photos</td>\n",
       "    </tr>\n",
       "    <tr>\n",
       "      <th>192288</th>\n",
       "      <td>Ab dem 11. Oktober werden die kostenlosen Coro...</td>\n",
       "      <td>Corona: Müssen Frauen, die ihre Babys stillen,...</td>\n",
       "    </tr>\n",
       "    <tr>\n",
       "      <th>192289</th>\n",
       "      <td>Geburtswehen leiten, wie der Name schon sagt, ...</td>\n",
       "      <td>Was löst Geburtswehen aus und was hilft bei Sc...</td>\n",
       "    </tr>\n",
       "    <tr>\n",
       "      <th>192290</th>\n",
       "      <td>Brustkrebs kann jeden treffen – auch Schwanger...</td>\n",
       "      <td>Brustkrebs in der Schwangerschaft – was bedeut...</td>\n",
       "    </tr>\n",
       "    <tr>\n",
       "      <th>192291</th>\n",
       "      <td>Das diesjährige Motto der Met Gala lautete „In...</td>\n",
       "      <td>Met Gala: Das sind die 5 weirdesten und 5 best...</td>\n",
       "    </tr>\n",
       "    <tr>\n",
       "      <th>192292</th>\n",
       "      <td>Im aktuellen Song „Range Brothers“ mit Baby Ke...</td>\n",
       "      <td>Kendrick Lamar verwirrt mit Ad-Libs</td>\n",
       "    </tr>\n",
       "    <tr>\n",
       "      <th>192293</th>\n",
       "      <td>Die Rapperin verkündete auf Instagram die Gebu...</td>\n",
       "      <td>Cardi B ist erneut Mutter geworden</td>\n",
       "    </tr>\n",
       "    <tr>\n",
       "      <th>192294</th>\n",
       "      <td>Der Rapper veranstaltete einen Back to School ...</td>\n",
       "      <td>Lil Baby spendet an seine Heimatstadt</td>\n",
       "    </tr>\n",
       "    <tr>\n",
       "      <th>192295</th>\n",
       "      <td>Lil Nas X veröffentlicht seine neue Videosingl...</td>\n",
       "      <td>Lil Nas X geht für sein neues Musikvideo ins G...</td>\n",
       "    </tr>\n",
       "    <tr>\n",
       "      <th>192296</th>\n",
       "      <td>🎧 Neue Folge von The Real Word Podcast: Mit de...</td>\n",
       "      <td>The Real Word - der ehrliche Podcast: Was Frau...</td>\n",
       "    </tr>\n",
       "    <tr>\n",
       "      <th>192297</th>\n",
       "      <td>Zur einer Babyshower sollte man nie ohne Präse...</td>\n",
       "      <td>Baby-Shopping: Die besten Geschenke zur Geburt...</td>\n",
       "    </tr>\n",
       "    <tr>\n",
       "      <th>192298</th>\n",
       "      <td>Wie tragisch! 😟 Wie wird es wohl weitergehen...?</td>\n",
       "      <td>Funkuhr</td>\n",
       "    </tr>\n",
       "    <tr>\n",
       "      <th>192299</th>\n",
       "      <td>\"Wisst ihr, was sich mir wirklich nie erschlos...</td>\n",
       "      <td>\"Von Lust und Liebe\"-Kolumne, Teil 38: Mütter ...</td>\n",
       "    </tr>\n",
       "    <tr>\n",
       "      <th>192300</th>\n",
       "      <td>[Anzeige] Mit #ElternhelfenEltern von Pampers ...</td>\n",
       "      <td>Timeline Photos</td>\n",
       "    </tr>\n",
       "    <tr>\n",
       "      <th>192301</th>\n",
       "      <td>[Anzeige] Mit der #monacobaby #juviacollection...</td>\n",
       "      <td>Timeline Photos</td>\n",
       "    </tr>\n",
       "    <tr>\n",
       "      <th>192302</th>\n",
       "      <td>Mit der Geburt eines Kindes ändert sich der Al...</td>\n",
       "      <td>Eltern erzählen: Das würde ich tun, wenn ich 2...</td>\n",
       "    </tr>\n",
       "    <tr>\n",
       "      <th>192303</th>\n",
       "      <td>Viele Krefelder müssen an den Weihnachtsfeiert...</td>\n",
       "      <td>Wie Krefelder ihre Arbeit in der heiligen Nach...</td>\n",
       "    </tr>\n",
       "    <tr>\n",
       "      <th>192304</th>\n",
       "      <td>Wer ist wie stark gefährdet? In welchen Situat...</td>\n",
       "      <td>Corona-Pandemie: WHO empfiehlt Stillen trotz C...</td>\n",
       "    </tr>\n",
       "    <tr>\n",
       "      <th>192305</th>\n",
       "      <td>Du möchtest nicht nur Muskulatur aufbauen sond...</td>\n",
       "      <td>LIGHT WEIGHT BABY: So wirst du wirklich stark!</td>\n",
       "    </tr>\n",
       "    <tr>\n",
       "      <th>192306</th>\n",
       "      <td>Die Geburt eines Kindes löst bei vielen Eltern...</td>\n",
       "      <td>NaN</td>\n",
       "    </tr>\n",
       "  </tbody>\n",
       "</table>\n",
       "</div>"
      ],
      "text/plain": [
       "                                                  Message  \\\n",
       "192287  Seht ihr es auch? 😱 Mutter entdeckt unbekannte...   \n",
       "192288  Ab dem 11. Oktober werden die kostenlosen Coro...   \n",
       "192289  Geburtswehen leiten, wie der Name schon sagt, ...   \n",
       "192290  Brustkrebs kann jeden treffen – auch Schwanger...   \n",
       "192291  Das diesjährige Motto der Met Gala lautete „In...   \n",
       "192292  Im aktuellen Song „Range Brothers“ mit Baby Ke...   \n",
       "192293  Die Rapperin verkündete auf Instagram die Gebu...   \n",
       "192294  Der Rapper veranstaltete einen Back to School ...   \n",
       "192295  Lil Nas X veröffentlicht seine neue Videosingl...   \n",
       "192296  🎧 Neue Folge von The Real Word Podcast: Mit de...   \n",
       "192297  Zur einer Babyshower sollte man nie ohne Präse...   \n",
       "192298   Wie tragisch! 😟 Wie wird es wohl weitergehen...?   \n",
       "192299  \"Wisst ihr, was sich mir wirklich nie erschlos...   \n",
       "192300  [Anzeige] Mit #ElternhelfenEltern von Pampers ...   \n",
       "192301  [Anzeige] Mit der #monacobaby #juviacollection...   \n",
       "192302  Mit der Geburt eines Kindes ändert sich der Al...   \n",
       "192303  Viele Krefelder müssen an den Weihnachtsfeiert...   \n",
       "192304  Wer ist wie stark gefährdet? In welchen Situat...   \n",
       "192305  Du möchtest nicht nur Muskulatur aufbauen sond...   \n",
       "192306  Die Geburt eines Kindes löst bei vielen Eltern...   \n",
       "\n",
       "                                                Link Text  \n",
       "192287                                    Timeline photos  \n",
       "192288  Corona: Müssen Frauen, die ihre Babys stillen,...  \n",
       "192289  Was löst Geburtswehen aus und was hilft bei Sc...  \n",
       "192290  Brustkrebs in der Schwangerschaft – was bedeut...  \n",
       "192291  Met Gala: Das sind die 5 weirdesten und 5 best...  \n",
       "192292                Kendrick Lamar verwirrt mit Ad-Libs  \n",
       "192293                 Cardi B ist erneut Mutter geworden  \n",
       "192294              Lil Baby spendet an seine Heimatstadt  \n",
       "192295  Lil Nas X geht für sein neues Musikvideo ins G...  \n",
       "192296  The Real Word - der ehrliche Podcast: Was Frau...  \n",
       "192297  Baby-Shopping: Die besten Geschenke zur Geburt...  \n",
       "192298                                            Funkuhr  \n",
       "192299  \"Von Lust und Liebe\"-Kolumne, Teil 38: Mütter ...  \n",
       "192300                                    Timeline Photos  \n",
       "192301                                    Timeline Photos  \n",
       "192302  Eltern erzählen: Das würde ich tun, wenn ich 2...  \n",
       "192303  Wie Krefelder ihre Arbeit in der heiligen Nach...  \n",
       "192304  Corona-Pandemie: WHO empfiehlt Stillen trotz C...  \n",
       "192305     LIGHT WEIGHT BABY: So wirst du wirklich stark!  \n",
       "192306                                                NaN  "
      ]
     },
     "execution_count": 63,
     "metadata": {},
     "output_type": "execute_result"
    }
   ],
   "source": [
    "data_total[['Message','Link Text']].tail(20)"
   ]
  },
  {
   "cell_type": "code",
   "execution_count": 64,
   "metadata": {},
   "outputs": [],
   "source": [
    "data_total['Post Created'] = pd.to_datetime(data_total['Post Created'])"
   ]
  },
  {
   "cell_type": "code",
   "execution_count": 66,
   "metadata": {},
   "outputs": [
    {
     "name": "stderr",
     "output_type": "stream",
     "text": [
      "/Users/magdalena/opt/anaconda3/lib/python3.8/site-packages/pandas/core/arrays/datetimes.py:1162: UserWarning: Converting to PeriodArray/Index representation will drop timezone information.\n",
      "  warnings.warn(\n"
     ]
    },
    {
     "data": {
      "text/plain": [
       "<matplotlib.axes._subplots.AxesSubplot at 0x7fcb1f5f3af0>"
      ]
     },
     "execution_count": 66,
     "metadata": {},
     "output_type": "execute_result"
    },
    {
     "data": {
      "image/png": "[encoded data removed]",
      "text/plain": [
       "<Figure size 432x288 with 1 Axes>"
      ]
     },
     "metadata": {
      "needs_background": "light"
     },
     "output_type": "display_data"
    }
   ],
   "source": [
    "# number of posts per day\n",
    "data_total['Post Created - Day'] = data_total['Post Created'].dt.to_period('D')\n",
    "date_day_size = data_total.groupby(['Post Created - Day']).size()\n",
    "date_day_size.plot()"
   ]
  },
  {
   "cell_type": "code",
   "execution_count": 67,
   "metadata": {},
   "outputs": [
    {
     "name": "stderr",
     "output_type": "stream",
     "text": [
      "/Users/magdalena/opt/anaconda3/lib/python3.8/site-packages/pandas/core/arrays/datetimes.py:1162: UserWarning: Converting to PeriodArray/Index representation will drop timezone information.\n",
      "  warnings.warn(\n"
     ]
    }
   ],
   "source": [
    "data_total['Post Created - Year'] = data_total['Post Created'].dt.year\n",
    "data_total['Post Created - Month'] = data_total['Post Created'].dt.month\n",
    "data_total['Post Created - Year Month'] = data_total['Post Created'].dt.to_period('M')"
   ]
  },
  {
   "cell_type": "code",
   "execution_count": 68,
   "metadata": {},
   "outputs": [
    {
     "data": {
      "text/plain": [
       "<matplotlib.axes._subplots.AxesSubplot at 0x7fcb211a5610>"
      ]
     },
     "execution_count": 68,
     "metadata": {},
     "output_type": "execute_result"
    },
    {
     "data": {
      "image/png": "[encoded data removed]",
      "text/plain": [
       "<Figure size 432x288 with 1 Axes>"
      ]
     },
     "metadata": {
      "needs_background": "light"
     },
     "output_type": "display_data"
    }
   ],
   "source": [
    "# number of posts per month\n",
    "date_year_month_size = data_total.groupby(['Post Created - Year Month']).size()\n",
    "date_year_month_size.plot()"
   ]
  },
  {
   "cell_type": "code",
   "execution_count": 69,
   "metadata": {},
   "outputs": [
    {
     "data": {
      "text/plain": [
       "<matplotlib.axes._subplots.AxesSubplot at 0x7fcb218c9430>"
      ]
     },
     "execution_count": 69,
     "metadata": {},
     "output_type": "execute_result"
    },
    {
     "data": {
      "image/png": "[encoded data removed]",
      "text/plain": [
       "<Figure size 432x288 with 1 Axes>"
      ]
     },
     "metadata": {
      "needs_background": "light"
     },
     "output_type": "display_data"
    }
   ],
   "source": [
    "# number of posts per year\n",
    "date_year_size = data_total.groupby(['Post Created - Year']).size()\n",
    "date_year_size.plot()"
   ]
  },
  {
   "cell_type": "code",
   "execution_count": 70,
   "metadata": {},
   "outputs": [
    {
     "data": {
      "text/plain": [
       "Post Created - Year\n",
       "2019    57719\n",
       "2020    62850\n",
       "2021    71738\n",
       "dtype: int64"
      ]
     },
     "execution_count": 70,
     "metadata": {},
     "output_type": "execute_result"
    }
   ],
   "source": [
    "date_year_size"
   ]
  },
  {
   "cell_type": "code",
   "execution_count": 71,
   "metadata": {},
   "outputs": [
    {
     "data": {
      "text/plain": [
       "870.37"
      ]
     },
     "execution_count": 71,
     "metadata": {},
     "output_type": "execute_result"
    }
   ],
   "source": [
    "# average post length\n",
    "data_total['Post Length'] = [len(l) for l in data_total['Message']]\n",
    "round(statistics.mean(data_total['Post Length']),2)"
   ]
  },
  {
   "cell_type": "markdown",
   "metadata": {},
   "source": [
    "### Data Preprocessing\n",
    "\n",
    "We are intersted in the \"Message\" of the posts."
   ]
  },
  {
   "cell_type": "code",
   "execution_count": null,
   "metadata": {},
   "outputs": [],
   "source": [
    "df_message = pd.DataFrame({'sentences': data_total['Message']})"
   ]
  },
  {
   "cell_type": "code",
   "execution_count": 68,
   "metadata": {},
   "outputs": [],
   "source": [
    "# tokenization\n",
    "df_message['tokenized_sents'] = df_message['sentences'].apply(nltk.word_tokenize)"
   ]
  },
  {
   "cell_type": "code",
   "execution_count": 69,
   "metadata": {},
   "outputs": [],
   "source": [
    "# case folding\n",
    "df_message['lower_sents'] = [list(map(lambda x: x.lower(), w)) for w in df_message['tokenized_sents']]"
   ]
  },
  {
   "cell_type": "code",
   "execution_count": 70,
   "metadata": {},
   "outputs": [],
   "source": [
    "def remove_stop_words(text):\n",
    "    filtered_sentence = []\n",
    "    for w in text:\n",
    "        if w not in stopwords.words('german'):\n",
    "            filtered_sentence.append(w) \n",
    "    return filtered_sentence"
   ]
  },
  {
   "cell_type": "code",
   "execution_count": 71,
   "metadata": {},
   "outputs": [],
   "source": [
    "# stopwords filtering\n",
    "df_message['stopwords_removed'] = df_message['lower_sents'].apply(remove_stop_words)"
   ]
  },
  {
   "cell_type": "code",
   "execution_count": 73,
   "metadata": {},
   "outputs": [],
   "source": [
    "# join tokens to string to easily export and import data again\n",
    "df_message['stopwords_removed_as_string'] = df_message['stopwords_removed'].str.join(' ')\n",
    "df_message.to_csv('preprocessed_data_1.csv')"
   ]
  },
  {
   "cell_type": "code",
   "execution_count": 82,
   "metadata": {},
   "outputs": [],
   "source": [
    "# removing all forms of punctuation\n",
    "df_message['punctuation_removed'] = [[w for w in l if w not in string.punctuation] for l in df_message['stopwords_removed']]"
   ]
  },
  {
   "cell_type": "code",
   "execution_count": 83,
   "metadata": {},
   "outputs": [],
   "source": [
    "# removing all numbers\n",
    "match_digits = ('(\\d+)')\n",
    "df_message['numbers_removed'] = [[w for w in l if re.match(match_digits,w)==None] for l in df_message['punctuation_removed']]"
   ]
  },
  {
   "cell_type": "code",
   "execution_count": 84,
   "metadata": {},
   "outputs": [],
   "source": [
    "# removing all dashes\n",
    "df_message['dashes_removed'] = [[w for w in l if w!='–'] for l in df_message['numbers_removed']]"
   ]
  },
  {
   "cell_type": "code",
   "execution_count": 93,
   "metadata": {},
   "outputs": [],
   "source": [
    "# removing all quotes\n",
    "df_message['quotes_removed'] = [[w for w in l if w!='„'] for l in df_message['dashes_removed']]\n",
    "df_message['quotes_removed'] = [[w for w in l if w!='“'] for l in df_message['quotes_removed']]"
   ]
  },
  {
   "cell_type": "code",
   "execution_count": 94,
   "metadata": {},
   "outputs": [],
   "source": [
    "# stemming\n",
    "df_message['stemming'] = [[porter.stem(w) for w in l] for l in df_message['quotes_removed']]"
   ]
  },
  {
   "cell_type": "code",
   "execution_count": 95,
   "metadata": {},
   "outputs": [],
   "source": [
    "# join tokens to string to easily export and import data again\n",
    "df_message['dashes_removed_as_string'] = df_message['dashes_removed'].str.join(' ')\n",
    "df_message['quotes_removed_as_string'] = df_message['quotes_removed'].str.join(' ')\n",
    "df_message['stemming_as_string'] = df_message['stemming'].str.join(' ')"
   ]
  },
  {
   "cell_type": "code",
   "execution_count": 87,
   "metadata": {},
   "outputs": [],
   "source": [
    "# export data\n",
    "df_message.to_csv('preprocessed_data_2.csv')  "
   ]
  },
  {
   "cell_type": "code",
   "execution_count": 97,
   "metadata": {},
   "outputs": [],
   "source": [
    "# order columns of dataset\n",
    "df_message_ordered = df_message[[\"sentences\", \"tokenized_sents\", \"lower_sents\",\"stopwords_removed\",\"stopwords_removed_as_string\",\"punctuation_removed\",\"numbers_removed\",\"dashes_removed\",\"dashes_removed_as_string\",\"quotes_removed\",\"quotes_removed_as_string\",\"stemming\",\"stemming_as_string\"]]"
   ]
  },
  {
   "cell_type": "code",
   "execution_count": 98,
   "metadata": {},
   "outputs": [
    {
     "data": {
      "text/html": [
       "<div>\n",
       "<style scoped>\n",
       "    .dataframe tbody tr th:only-of-type {\n",
       "        vertical-align: middle;\n",
       "    }\n",
       "\n",
       "    .dataframe tbody tr th {\n",
       "        vertical-align: top;\n",
       "    }\n",
       "\n",
       "    .dataframe thead th {\n",
       "        text-align: right;\n",
       "    }\n",
       "</style>\n",
       "<table border=\"1\" class=\"dataframe\">\n",
       "  <thead>\n",
       "    <tr style=\"text-align: right;\">\n",
       "      <th></th>\n",
       "      <th>sentences</th>\n",
       "      <th>tokenized_sents</th>\n",
       "      <th>lower_sents</th>\n",
       "      <th>stopwords_removed</th>\n",
       "      <th>stopwords_removed_as_string</th>\n",
       "      <th>punctuation_removed</th>\n",
       "      <th>numbers_removed</th>\n",
       "      <th>dashes_removed</th>\n",
       "      <th>dashes_removed_as_string</th>\n",
       "      <th>quotes_removed</th>\n",
       "      <th>quotes_removed_as_string</th>\n",
       "      <th>stemming</th>\n",
       "      <th>stemming_as_string</th>\n",
       "    </tr>\n",
       "  </thead>\n",
       "  <tbody>\n",
       "    <tr>\n",
       "      <th>0</th>\n",
       "      <td>„Wir brauchen einen Stammzellspender für unser...</td>\n",
       "      <td>[„, Wir, brauchen, einen, Stammzellspender, fü...</td>\n",
       "      <td>[„, wir, brauchen, einen, stammzellspender, fü...</td>\n",
       "      <td>[„, brauchen, stammzellspender, kleinen, junge...</td>\n",
       "      <td>„ brauchen stammzellspender kleinen jungen . j...</td>\n",
       "      <td>[„, brauchen, stammzellspender, kleinen, junge...</td>\n",
       "      <td>[„, brauchen, stammzellspender, kleinen, junge...</td>\n",
       "      <td>[„, brauchen, stammzellspender, kleinen, junge...</td>\n",
       "      <td>„ brauchen stammzellspender kleinen jungen jem...</td>\n",
       "      <td>[brauchen, stammzellspender, kleinen, jungen, ...</td>\n",
       "      <td>brauchen stammzellspender kleinen jungen jeman...</td>\n",
       "      <td>[brauchen, stammzellspend, kleinen, jungen, je...</td>\n",
       "      <td>brauchen stammzellspend kleinen jungen jemande...</td>\n",
       "    </tr>\n",
       "    <tr>\n",
       "      <th>1</th>\n",
       "      <td>Zum Nachdenken! Irgendwo da draußen gibt es ei...</td>\n",
       "      <td>[Zum, Nachdenken, !, Irgendwo, da, draußen, gi...</td>\n",
       "      <td>[zum, nachdenken, !, irgendwo, da, draußen, gi...</td>\n",
       "      <td>[nachdenken, !, irgendwo, draußen, gibt, frau,...</td>\n",
       "      <td>nachdenken ! irgendwo draußen gibt frau . 35 j...</td>\n",
       "      <td>[nachdenken, irgendwo, draußen, gibt, frau, 35...</td>\n",
       "      <td>[nachdenken, irgendwo, draußen, gibt, frau, ja...</td>\n",
       "      <td>[nachdenken, irgendwo, draußen, gibt, frau, ja...</td>\n",
       "      <td>nachdenken irgendwo draußen gibt frau jahre ki...</td>\n",
       "      <td>[nachdenken, irgendwo, draußen, gibt, frau, ja...</td>\n",
       "      <td>nachdenken irgendwo draußen gibt frau jahre ki...</td>\n",
       "      <td>[nachdenken, irgendwo, draußen, gibt, frau, ja...</td>\n",
       "      <td>nachdenken irgendwo draußen gibt frau jahr kin...</td>\n",
       "    </tr>\n",
       "    <tr>\n",
       "      <th>2</th>\n",
       "      <td>„Wenn die Menschen nichts mehr zu essen haben,...</td>\n",
       "      <td>[„, Wenn, die, Menschen, nichts, mehr, zu, ess...</td>\n",
       "      <td>[„, wenn, die, menschen, nichts, mehr, zu, ess...</td>\n",
       "      <td>[„, menschen, mehr, essen, ,, gebt, kuchen., “...</td>\n",
       "      <td>„ menschen mehr essen , gebt kuchen. “ österre...</td>\n",
       "      <td>[„, menschen, mehr, essen, gebt, kuchen., “, ö...</td>\n",
       "      <td>[„, menschen, mehr, essen, gebt, kuchen., “, ö...</td>\n",
       "      <td>[„, menschen, mehr, essen, gebt, kuchen., “, ö...</td>\n",
       "      <td>„ menschen mehr essen gebt kuchen. “ österreic...</td>\n",
       "      <td>[menschen, mehr, essen, gebt, kuchen., österre...</td>\n",
       "      <td>menschen mehr essen gebt kuchen. österreichisc...</td>\n",
       "      <td>[menschen, mehr, essen, gebt, kuchen., österre...</td>\n",
       "      <td>menschen mehr essen gebt kuchen. österreichisc...</td>\n",
       "    </tr>\n",
       "    <tr>\n",
       "      <th>3</th>\n",
       "      <td>Kommentar von Friedrich Von zwei Leben, drei G...</td>\n",
       "      <td>[Kommentar, von, Friedrich, Von, zwei, Leben, ...</td>\n",
       "      <td>[kommentar, von, friedrich, von, zwei, leben, ...</td>\n",
       "      <td>[kommentar, friedrich, zwei, leben, ,, drei, g...</td>\n",
       "      <td>kommentar friedrich zwei leben , drei gewissen...</td>\n",
       "      <td>[kommentar, friedrich, zwei, leben, drei, gewi...</td>\n",
       "      <td>[kommentar, friedrich, zwei, leben, drei, gewi...</td>\n",
       "      <td>[kommentar, friedrich, zwei, leben, drei, gewi...</td>\n",
       "      <td>kommentar friedrich zwei leben drei gewissenlo...</td>\n",
       "      <td>[kommentar, friedrich, zwei, leben, drei, gewi...</td>\n",
       "      <td>kommentar friedrich zwei leben drei gewissenlo...</td>\n",
       "      <td>[kommentar, friedrich, zwei, leben, drei, gewi...</td>\n",
       "      <td>kommentar friedrich zwei leben drei gewissenlo...</td>\n",
       "    </tr>\n",
       "    <tr>\n",
       "      <th>4</th>\n",
       "      <td>Eine Geburt ohne Hebamme - alleine irgendwo in...</td>\n",
       "      <td>[Eine, Geburt, ohne, Hebamme, -, alleine, irge...</td>\n",
       "      <td>[eine, geburt, ohne, hebamme, -, alleine, irge...</td>\n",
       "      <td>[geburt, hebamme, -, alleine, irgendwo, natur,...</td>\n",
       "      <td>geburt hebamme - alleine irgendwo natur . alle...</td>\n",
       "      <td>[geburt, hebamme, alleine, irgendwo, natur, al...</td>\n",
       "      <td>[geburt, hebamme, alleine, irgendwo, natur, al...</td>\n",
       "      <td>[geburt, hebamme, alleine, irgendwo, natur, al...</td>\n",
       "      <td>geburt hebamme alleine irgendwo natur alleinge...</td>\n",
       "      <td>[geburt, hebamme, alleine, irgendwo, natur, al...</td>\n",
       "      <td>geburt hebamme alleine irgendwo natur alleinge...</td>\n",
       "      <td>[geburt, hebamm, allein, irgendwo, natur, alle...</td>\n",
       "      <td>geburt hebamm allein irgendwo natur alleingebu...</td>\n",
       "    </tr>\n",
       "    <tr>\n",
       "      <th>...</th>\n",
       "      <td>...</td>\n",
       "      <td>...</td>\n",
       "      <td>...</td>\n",
       "      <td>...</td>\n",
       "      <td>...</td>\n",
       "      <td>...</td>\n",
       "      <td>...</td>\n",
       "      <td>...</td>\n",
       "      <td>...</td>\n",
       "      <td>...</td>\n",
       "      <td>...</td>\n",
       "      <td>...</td>\n",
       "      <td>...</td>\n",
       "    </tr>\n",
       "    <tr>\n",
       "      <th>192302</th>\n",
       "      <td>Mit der Geburt eines Kindes ändert sich der Al...</td>\n",
       "      <td>[Mit, der, Geburt, eines, Kindes, ändert, sich...</td>\n",
       "      <td>[mit, der, geburt, eines, kindes, ändert, sich...</td>\n",
       "      <td>[geburt, kindes, ändert, alltag, schlagartig, ...</td>\n",
       "      <td>geburt kindes ändert alltag schlagartig . scho...</td>\n",
       "      <td>[geburt, kindes, ändert, alltag, schlagartig, ...</td>\n",
       "      <td>[geburt, kindes, ändert, alltag, schlagartig, ...</td>\n",
       "      <td>[geburt, kindes, ändert, alltag, schlagartig, ...</td>\n",
       "      <td>geburt kindes ändert alltag schlagartig schon ...</td>\n",
       "      <td>[geburt, kindes, ändert, alltag, schlagartig, ...</td>\n",
       "      <td>geburt kindes ändert alltag schlagartig schon ...</td>\n",
       "      <td>[geburt, kind, ändert, alltag, schlagartig, sc...</td>\n",
       "      <td>geburt kind ändert alltag schlagartig schon ma...</td>\n",
       "    </tr>\n",
       "    <tr>\n",
       "      <th>192303</th>\n",
       "      <td>Viele Krefelder müssen an den Weihnachtsfeiert...</td>\n",
       "      <td>[Viele, Krefelder, müssen, an, den, Weihnachts...</td>\n",
       "      <td>[viele, krefelder, müssen, an, den, weihnachts...</td>\n",
       "      <td>[viele, krefelder, müssen, weihnachtsfeiertage...</td>\n",
       "      <td>viele krefelder müssen weihnachtsfeiertagen ar...</td>\n",
       "      <td>[viele, krefelder, müssen, weihnachtsfeiertage...</td>\n",
       "      <td>[viele, krefelder, müssen, weihnachtsfeiertage...</td>\n",
       "      <td>[viele, krefelder, müssen, weihnachtsfeiertage...</td>\n",
       "      <td>viele krefelder müssen weihnachtsfeiertagen ar...</td>\n",
       "      <td>[viele, krefelder, müssen, weihnachtsfeiertage...</td>\n",
       "      <td>viele krefelder müssen weihnachtsfeiertagen ar...</td>\n",
       "      <td>[viel, krefeld, müssen, weihnachtsfeiertagen, ...</td>\n",
       "      <td>viel krefeld müssen weihnachtsfeiertagen arbei...</td>\n",
       "    </tr>\n",
       "    <tr>\n",
       "      <th>192304</th>\n",
       "      <td>Wer ist wie stark gefährdet? In welchen Situat...</td>\n",
       "      <td>[Wer, ist, wie, stark, gefährdet, ?, In, welch...</td>\n",
       "      <td>[wer, ist, wie, stark, gefährdet, ?, in, welch...</td>\n",
       "      <td>[wer, stark, gefährdet, ?, situationen, anstec...</td>\n",
       "      <td>wer stark gefährdet ? situationen ansteckungsg...</td>\n",
       "      <td>[wer, stark, gefährdet, situationen, ansteckun...</td>\n",
       "      <td>[wer, stark, gefährdet, situationen, ansteckun...</td>\n",
       "      <td>[wer, stark, gefährdet, situationen, ansteckun...</td>\n",
       "      <td>wer stark gefährdet situationen ansteckungsgef...</td>\n",
       "      <td>[wer, stark, gefährdet, situationen, ansteckun...</td>\n",
       "      <td>wer stark gefährdet situationen ansteckungsgef...</td>\n",
       "      <td>[wer, stark, gefährdet, situationen, ansteckun...</td>\n",
       "      <td>wer stark gefährdet situationen ansteckungsgef...</td>\n",
       "    </tr>\n",
       "    <tr>\n",
       "      <th>192305</th>\n",
       "      <td>Du möchtest nicht nur Muskulatur aufbauen sond...</td>\n",
       "      <td>[Du, möchtest, nicht, nur, Muskulatur, aufbaue...</td>\n",
       "      <td>[du, möchtest, nicht, nur, muskulatur, aufbaue...</td>\n",
       "      <td>[möchtest, muskulatur, aufbauen, stark, ?, heu...</td>\n",
       "      <td>möchtest muskulatur aufbauen stark ? heutiger ...</td>\n",
       "      <td>[möchtest, muskulatur, aufbauen, stark, heutig...</td>\n",
       "      <td>[möchtest, muskulatur, aufbauen, stark, heutig...</td>\n",
       "      <td>[möchtest, muskulatur, aufbauen, stark, heutig...</td>\n",
       "      <td>möchtest muskulatur aufbauen stark heutiger bl...</td>\n",
       "      <td>[möchtest, muskulatur, aufbauen, stark, heutig...</td>\n",
       "      <td>möchtest muskulatur aufbauen stark heutiger bl...</td>\n",
       "      <td>[möchtest, muskulatur, aufbauen, stark, heutig...</td>\n",
       "      <td>möchtest muskulatur aufbauen stark heutig blog...</td>\n",
       "    </tr>\n",
       "    <tr>\n",
       "      <th>192306</th>\n",
       "      <td>Die Geburt eines Kindes löst bei vielen Eltern...</td>\n",
       "      <td>[Die, Geburt, eines, Kindes, löst, bei, vielen...</td>\n",
       "      <td>[die, geburt, eines, kindes, löst, bei, vielen...</td>\n",
       "      <td>[geburt, kindes, löst, vielen, eltern, freude,...</td>\n",
       "      <td>geburt kindes löst vielen eltern freude , sorg...</td>\n",
       "      <td>[geburt, kindes, löst, vielen, eltern, freude,...</td>\n",
       "      <td>[geburt, kindes, löst, vielen, eltern, freude,...</td>\n",
       "      <td>[geburt, kindes, löst, vielen, eltern, freude,...</td>\n",
       "      <td>geburt kindes löst vielen eltern freude sorgen...</td>\n",
       "      <td>[geburt, kindes, löst, vielen, eltern, freude,...</td>\n",
       "      <td>geburt kindes löst vielen eltern freude sorgen...</td>\n",
       "      <td>[geburt, kind, löst, vielen, eltern, freud, so...</td>\n",
       "      <td>geburt kind löst vielen eltern freud sorgen ki...</td>\n",
       "    </tr>\n",
       "  </tbody>\n",
       "</table>\n",
       "<p>192307 rows × 13 columns</p>\n",
       "</div>"
      ],
      "text/plain": [
       "                                                sentences  \\\n",
       "0       „Wir brauchen einen Stammzellspender für unser...   \n",
       "1       Zum Nachdenken! Irgendwo da draußen gibt es ei...   \n",
       "2       „Wenn die Menschen nichts mehr zu essen haben,...   \n",
       "3       Kommentar von Friedrich Von zwei Leben, drei G...   \n",
       "4       Eine Geburt ohne Hebamme - alleine irgendwo in...   \n",
       "...                                                   ...   \n",
       "192302  Mit der Geburt eines Kindes ändert sich der Al...   \n",
       "192303  Viele Krefelder müssen an den Weihnachtsfeiert...   \n",
       "192304  Wer ist wie stark gefährdet? In welchen Situat...   \n",
       "192305  Du möchtest nicht nur Muskulatur aufbauen sond...   \n",
       "192306  Die Geburt eines Kindes löst bei vielen Eltern...   \n",
       "\n",
       "                                          tokenized_sents  \\\n",
       "0       [„, Wir, brauchen, einen, Stammzellspender, fü...   \n",
       "1       [Zum, Nachdenken, !, Irgendwo, da, draußen, gi...   \n",
       "2       [„, Wenn, die, Menschen, nichts, mehr, zu, ess...   \n",
       "3       [Kommentar, von, Friedrich, Von, zwei, Leben, ...   \n",
       "4       [Eine, Geburt, ohne, Hebamme, -, alleine, irge...   \n",
       "...                                                   ...   \n",
       "192302  [Mit, der, Geburt, eines, Kindes, ändert, sich...   \n",
       "192303  [Viele, Krefelder, müssen, an, den, Weihnachts...   \n",
       "192304  [Wer, ist, wie, stark, gefährdet, ?, In, welch...   \n",
       "192305  [Du, möchtest, nicht, nur, Muskulatur, aufbaue...   \n",
       "192306  [Die, Geburt, eines, Kindes, löst, bei, vielen...   \n",
       "\n",
       "                                              lower_sents  \\\n",
       "0       [„, wir, brauchen, einen, stammzellspender, fü...   \n",
       "1       [zum, nachdenken, !, irgendwo, da, draußen, gi...   \n",
       "2       [„, wenn, die, menschen, nichts, mehr, zu, ess...   \n",
       "3       [kommentar, von, friedrich, von, zwei, leben, ...   \n",
       "4       [eine, geburt, ohne, hebamme, -, alleine, irge...   \n",
       "...                                                   ...   \n",
       "192302  [mit, der, geburt, eines, kindes, ändert, sich...   \n",
       "192303  [viele, krefelder, müssen, an, den, weihnachts...   \n",
       "192304  [wer, ist, wie, stark, gefährdet, ?, in, welch...   \n",
       "192305  [du, möchtest, nicht, nur, muskulatur, aufbaue...   \n",
       "192306  [die, geburt, eines, kindes, löst, bei, vielen...   \n",
       "\n",
       "                                        stopwords_removed  \\\n",
       "0       [„, brauchen, stammzellspender, kleinen, junge...   \n",
       "1       [nachdenken, !, irgendwo, draußen, gibt, frau,...   \n",
       "2       [„, menschen, mehr, essen, ,, gebt, kuchen., “...   \n",
       "3       [kommentar, friedrich, zwei, leben, ,, drei, g...   \n",
       "4       [geburt, hebamme, -, alleine, irgendwo, natur,...   \n",
       "...                                                   ...   \n",
       "192302  [geburt, kindes, ändert, alltag, schlagartig, ...   \n",
       "192303  [viele, krefelder, müssen, weihnachtsfeiertage...   \n",
       "192304  [wer, stark, gefährdet, ?, situationen, anstec...   \n",
       "192305  [möchtest, muskulatur, aufbauen, stark, ?, heu...   \n",
       "192306  [geburt, kindes, löst, vielen, eltern, freude,...   \n",
       "\n",
       "                              stopwords_removed_as_string  \\\n",
       "0       „ brauchen stammzellspender kleinen jungen . j...   \n",
       "1       nachdenken ! irgendwo draußen gibt frau . 35 j...   \n",
       "2       „ menschen mehr essen , gebt kuchen. “ österre...   \n",
       "3       kommentar friedrich zwei leben , drei gewissen...   \n",
       "4       geburt hebamme - alleine irgendwo natur . alle...   \n",
       "...                                                   ...   \n",
       "192302  geburt kindes ändert alltag schlagartig . scho...   \n",
       "192303  viele krefelder müssen weihnachtsfeiertagen ar...   \n",
       "192304  wer stark gefährdet ? situationen ansteckungsg...   \n",
       "192305  möchtest muskulatur aufbauen stark ? heutiger ...   \n",
       "192306  geburt kindes löst vielen eltern freude , sorg...   \n",
       "\n",
       "                                      punctuation_removed  \\\n",
       "0       [„, brauchen, stammzellspender, kleinen, junge...   \n",
       "1       [nachdenken, irgendwo, draußen, gibt, frau, 35...   \n",
       "2       [„, menschen, mehr, essen, gebt, kuchen., “, ö...   \n",
       "3       [kommentar, friedrich, zwei, leben, drei, gewi...   \n",
       "4       [geburt, hebamme, alleine, irgendwo, natur, al...   \n",
       "...                                                   ...   \n",
       "192302  [geburt, kindes, ändert, alltag, schlagartig, ...   \n",
       "192303  [viele, krefelder, müssen, weihnachtsfeiertage...   \n",
       "192304  [wer, stark, gefährdet, situationen, ansteckun...   \n",
       "192305  [möchtest, muskulatur, aufbauen, stark, heutig...   \n",
       "192306  [geburt, kindes, löst, vielen, eltern, freude,...   \n",
       "\n",
       "                                          numbers_removed  \\\n",
       "0       [„, brauchen, stammzellspender, kleinen, junge...   \n",
       "1       [nachdenken, irgendwo, draußen, gibt, frau, ja...   \n",
       "2       [„, menschen, mehr, essen, gebt, kuchen., “, ö...   \n",
       "3       [kommentar, friedrich, zwei, leben, drei, gewi...   \n",
       "4       [geburt, hebamme, alleine, irgendwo, natur, al...   \n",
       "...                                                   ...   \n",
       "192302  [geburt, kindes, ändert, alltag, schlagartig, ...   \n",
       "192303  [viele, krefelder, müssen, weihnachtsfeiertage...   \n",
       "192304  [wer, stark, gefährdet, situationen, ansteckun...   \n",
       "192305  [möchtest, muskulatur, aufbauen, stark, heutig...   \n",
       "192306  [geburt, kindes, löst, vielen, eltern, freude,...   \n",
       "\n",
       "                                           dashes_removed  \\\n",
       "0       [„, brauchen, stammzellspender, kleinen, junge...   \n",
       "1       [nachdenken, irgendwo, draußen, gibt, frau, ja...   \n",
       "2       [„, menschen, mehr, essen, gebt, kuchen., “, ö...   \n",
       "3       [kommentar, friedrich, zwei, leben, drei, gewi...   \n",
       "4       [geburt, hebamme, alleine, irgendwo, natur, al...   \n",
       "...                                                   ...   \n",
       "192302  [geburt, kindes, ändert, alltag, schlagartig, ...   \n",
       "192303  [viele, krefelder, müssen, weihnachtsfeiertage...   \n",
       "192304  [wer, stark, gefährdet, situationen, ansteckun...   \n",
       "192305  [möchtest, muskulatur, aufbauen, stark, heutig...   \n",
       "192306  [geburt, kindes, löst, vielen, eltern, freude,...   \n",
       "\n",
       "                                 dashes_removed_as_string  \\\n",
       "0       „ brauchen stammzellspender kleinen jungen jem...   \n",
       "1       nachdenken irgendwo draußen gibt frau jahre ki...   \n",
       "2       „ menschen mehr essen gebt kuchen. “ österreic...   \n",
       "3       kommentar friedrich zwei leben drei gewissenlo...   \n",
       "4       geburt hebamme alleine irgendwo natur alleinge...   \n",
       "...                                                   ...   \n",
       "192302  geburt kindes ändert alltag schlagartig schon ...   \n",
       "192303  viele krefelder müssen weihnachtsfeiertagen ar...   \n",
       "192304  wer stark gefährdet situationen ansteckungsgef...   \n",
       "192305  möchtest muskulatur aufbauen stark heutiger bl...   \n",
       "192306  geburt kindes löst vielen eltern freude sorgen...   \n",
       "\n",
       "                                           quotes_removed  \\\n",
       "0       [brauchen, stammzellspender, kleinen, jungen, ...   \n",
       "1       [nachdenken, irgendwo, draußen, gibt, frau, ja...   \n",
       "2       [menschen, mehr, essen, gebt, kuchen., österre...   \n",
       "3       [kommentar, friedrich, zwei, leben, drei, gewi...   \n",
       "4       [geburt, hebamme, alleine, irgendwo, natur, al...   \n",
       "...                                                   ...   \n",
       "192302  [geburt, kindes, ändert, alltag, schlagartig, ...   \n",
       "192303  [viele, krefelder, müssen, weihnachtsfeiertage...   \n",
       "192304  [wer, stark, gefährdet, situationen, ansteckun...   \n",
       "192305  [möchtest, muskulatur, aufbauen, stark, heutig...   \n",
       "192306  [geburt, kindes, löst, vielen, eltern, freude,...   \n",
       "\n",
       "                                 quotes_removed_as_string  \\\n",
       "0       brauchen stammzellspender kleinen jungen jeman...   \n",
       "1       nachdenken irgendwo draußen gibt frau jahre ki...   \n",
       "2       menschen mehr essen gebt kuchen. österreichisc...   \n",
       "3       kommentar friedrich zwei leben drei gewissenlo...   \n",
       "4       geburt hebamme alleine irgendwo natur alleinge...   \n",
       "...                                                   ...   \n",
       "192302  geburt kindes ändert alltag schlagartig schon ...   \n",
       "192303  viele krefelder müssen weihnachtsfeiertagen ar...   \n",
       "192304  wer stark gefährdet situationen ansteckungsgef...   \n",
       "192305  möchtest muskulatur aufbauen stark heutiger bl...   \n",
       "192306  geburt kindes löst vielen eltern freude sorgen...   \n",
       "\n",
       "                                                 stemming  \\\n",
       "0       [brauchen, stammzellspend, kleinen, jungen, je...   \n",
       "1       [nachdenken, irgendwo, draußen, gibt, frau, ja...   \n",
       "2       [menschen, mehr, essen, gebt, kuchen., österre...   \n",
       "3       [kommentar, friedrich, zwei, leben, drei, gewi...   \n",
       "4       [geburt, hebamm, allein, irgendwo, natur, alle...   \n",
       "...                                                   ...   \n",
       "192302  [geburt, kind, ändert, alltag, schlagartig, sc...   \n",
       "192303  [viel, krefeld, müssen, weihnachtsfeiertagen, ...   \n",
       "192304  [wer, stark, gefährdet, situationen, ansteckun...   \n",
       "192305  [möchtest, muskulatur, aufbauen, stark, heutig...   \n",
       "192306  [geburt, kind, löst, vielen, eltern, freud, so...   \n",
       "\n",
       "                                       stemming_as_string  \n",
       "0       brauchen stammzellspend kleinen jungen jemande...  \n",
       "1       nachdenken irgendwo draußen gibt frau jahr kin...  \n",
       "2       menschen mehr essen gebt kuchen. österreichisc...  \n",
       "3       kommentar friedrich zwei leben drei gewissenlo...  \n",
       "4       geburt hebamm allein irgendwo natur alleingebu...  \n",
       "...                                                   ...  \n",
       "192302  geburt kind ändert alltag schlagartig schon ma...  \n",
       "192303  viel krefeld müssen weihnachtsfeiertagen arbei...  \n",
       "192304  wer stark gefährdet situationen ansteckungsgef...  \n",
       "192305  möchtest muskulatur aufbauen stark heutig blog...  \n",
       "192306  geburt kind löst vielen eltern freud sorgen ki...  \n",
       "\n",
       "[192307 rows x 13 columns]"
      ]
     },
     "execution_count": 98,
     "metadata": {},
     "output_type": "execute_result"
    }
   ],
   "source": [
    "df_message_ordered"
   ]
  },
  {
   "cell_type": "code",
   "execution_count": 99,
   "metadata": {},
   "outputs": [],
   "source": [
    "# export data\n",
    "df_message_ordered.to_csv('preprocessed_data_3.csv')  "
   ]
  },
  {
   "cell_type": "markdown",
   "metadata": {},
   "source": [
    "### Import already preprocessed Data:"
   ]
  },
  {
   "cell_type": "code",
   "execution_count": 201,
   "metadata": {},
   "outputs": [],
   "source": [
    "df_message = pd.read_csv('preprocessed_data_3.csv',low_memory=False)"
   ]
  },
  {
   "cell_type": "code",
   "execution_count": 202,
   "metadata": {},
   "outputs": [],
   "source": [
    "df_message_new = pd.DataFrame({'stemming_as_string': df_message['stemming_as_string']})"
   ]
  },
  {
   "cell_type": "code",
   "execution_count": 203,
   "metadata": {},
   "outputs": [],
   "source": [
    "df_message_new['stemming_as_tokens'] = df_message_new['stemming_as_string'].str.split(\"\\\\s\")"
   ]
  },
  {
   "cell_type": "code",
   "execution_count": 204,
   "metadata": {},
   "outputs": [],
   "source": [
    "df_message_new = df_message_new.dropna()"
   ]
  },
  {
   "cell_type": "code",
   "execution_count": 205,
   "metadata": {},
   "outputs": [
    {
     "data": {
      "text/plain": [
       "(192273, 2)"
      ]
     },
     "execution_count": 205,
     "metadata": {},
     "output_type": "execute_result"
    }
   ],
   "source": [
    "df_message_new.shape"
   ]
  },
  {
   "cell_type": "markdown",
   "metadata": {},
   "source": [
    "#### Additional Preprocessing steps after looking at the output of the LDA"
   ]
  },
  {
   "cell_type": "code",
   "execution_count": 206,
   "metadata": {},
   "outputs": [],
   "source": [
    "df_message_new['preprocessed'] = [[w for w in l if w!='–-'] for l in df_message_new['stemming_as_tokens']]"
   ]
  },
  {
   "cell_type": "code",
   "execution_count": 207,
   "metadata": {},
   "outputs": [],
   "source": [
    "df_message_new['preprocessed'] = [[w for w in l if w!='...'] for l in df_message_new['preprocessed']]"
   ]
  },
  {
   "cell_type": "code",
   "execution_count": 208,
   "metadata": {},
   "outputs": [],
   "source": [
    "df_message_new['preprocessed'] = [[w for w in l if w!='http'] for l in df_message_new['preprocessed']]"
   ]
  },
  {
   "cell_type": "code",
   "execution_count": 209,
   "metadata": {},
   "outputs": [],
   "source": [
    "df_message_new['preprocessed'] = [[w for w in l if w!='..'] for l in df_message_new['preprocessed']]"
   ]
  },
  {
   "cell_type": "code",
   "execution_count": 210,
   "metadata": {},
   "outputs": [],
   "source": [
    "df_message_new['preprocessed'] = [[w for w in l if w!='”'] for l in df_message_new['preprocessed']]"
   ]
  },
  {
   "cell_type": "code",
   "execution_count": 211,
   "metadata": {},
   "outputs": [],
   "source": [
    "df_message_new['preprocessed'] = [[w for w in l if w!='``'] for l in df_message_new['preprocessed']]"
   ]
  },
  {
   "cell_type": "code",
   "execution_count": 212,
   "metadata": {},
   "outputs": [],
   "source": [
    "df_message_new['preprocessed'] = [[w for w in l if w!='●'] for l in df_message_new['preprocessed']]"
   ]
  },
  {
   "cell_type": "code",
   "execution_count": 213,
   "metadata": {},
   "outputs": [],
   "source": [
    "df_message_new['preprocessed'] = [[w for w in l if w!='\\'s'] for l in df_message_new['preprocessed']]"
   ]
  },
  {
   "cell_type": "code",
   "execution_count": 214,
   "metadata": {},
   "outputs": [],
   "source": [
    "df_message_new['preprocessed'] = [[w for w in l if w!='\\'\\''] for l in df_message_new['preprocessed']]"
   ]
  },
  {
   "cell_type": "code",
   "execution_count": 215,
   "metadata": {},
   "outputs": [],
   "source": [
    "df_message_new['preprocessed'] = [[w for w in l if w!=' '] for l in df_message_new['preprocessed']]"
   ]
  },
  {
   "cell_type": "code",
   "execution_count": 216,
   "metadata": {},
   "outputs": [],
   "source": [
    "df_message_new['preprocessed'] = [[w for w in l if w!='•'] for l in df_message_new['preprocessed']]"
   ]
  },
  {
   "cell_type": "code",
   "execution_count": 217,
   "metadata": {},
   "outputs": [],
   "source": [
    "df_message_new['preprocessed'] = [[w for w in l if w!='⠀⠀⠀⠀⠀⠀⠀⠀⠀'] for l in df_message_new['preprocessed']]"
   ]
  },
  {
   "cell_type": "code",
   "execution_count": 218,
   "metadata": {},
   "outputs": [],
   "source": [
    "df_message_new['preprocessed'] = [[w for w in l if w!='--'] for l in df_message_new['preprocessed']]"
   ]
  },
  {
   "cell_type": "code",
   "execution_count": 219,
   "metadata": {},
   "outputs": [],
   "source": [
    "df_message_new['preprocessed'] = [[w for w in l if w!='»'] for l in df_message_new['preprocessed']]"
   ]
  },
  {
   "cell_type": "code",
   "execution_count": 220,
   "metadata": {},
   "outputs": [],
   "source": [
    "df_message_new['preprocessed'] = [[w for w in l if w!='«'] for l in df_message_new['preprocessed']]"
   ]
  },
  {
   "cell_type": "code",
   "execution_count": 221,
   "metadata": {},
   "outputs": [],
   "source": [
    "df_message_new['preprocessed'] = [[w for w in l if w!='//www.youtube.com/watch'] for l in df_message_new['preprocessed']]"
   ]
  },
  {
   "cell_type": "code",
   "execution_count": 222,
   "metadata": {},
   "outputs": [],
   "source": [
    "df_message_new['preprocessed'] = [[w for w in l if w!='+++'] for l in df_message_new['preprocessed']]"
   ]
  },
  {
   "cell_type": "code",
   "execution_count": 223,
   "metadata": {},
   "outputs": [],
   "source": [
    "df_message_new['preprocessed'] = [[w for w in l if w!='►'] for l in df_message_new['preprocessed']]"
   ]
  },
  {
   "cell_type": "code",
   "execution_count": 224,
   "metadata": {},
   "outputs": [],
   "source": [
    "df_message_new['preprocessed'] = [[w for w in l if w!='✅'] for l in df_message_new['preprocessed']]"
   ]
  },
  {
   "cell_type": "code",
   "execution_count": 225,
   "metadata": {},
   "outputs": [],
   "source": [
    "df_message_new['preprocessed'] = [[w for w in l if w!='’'] for l in df_message_new['preprocessed']]"
   ]
  },
  {
   "cell_type": "code",
   "execution_count": 226,
   "metadata": {},
   "outputs": [],
   "source": [
    "df_message_new['preprocessed'] = [[w for w in l if w!='➡️'] for l in df_message_new['preprocessed']]"
   ]
  },
  {
   "cell_type": "code",
   "execution_count": 227,
   "metadata": {},
   "outputs": [],
   "source": [
    "df_message_new['preprocessed'] = [[w for w in l if w!='✨'] for l in df_message_new['preprocessed']]"
   ]
  },
  {
   "cell_type": "code",
   "execution_count": 228,
   "metadata": {},
   "outputs": [],
   "source": [
    "df_message_new['preprocessed'] = [[w for w in l if w!='language=de_d'] for l in df_message_new['preprocessed']]"
   ]
  },
  {
   "cell_type": "code",
   "execution_count": 229,
   "metadata": {},
   "outputs": [],
   "source": [
    "df_message_new['preprocessed'] = [[w for w in l if w!='linkcode=sl1'] for l in df_message_new['preprocessed']]"
   ]
  },
  {
   "cell_type": "code",
   "execution_count": 230,
   "metadata": {},
   "outputs": [],
   "source": [
    "df_message_new['preprocessed'] = [[w for w in l if w!='__mk_de_de='] for l in df_message_new['preprocessed']]"
   ]
  },
  {
   "cell_type": "code",
   "execution_count": 231,
   "metadata": {},
   "outputs": [],
   "source": [
    "df_message_new['preprocessed'] = [[w for w in l if w!='☀️'] for l in df_message_new['preprocessed']]"
   ]
  },
  {
   "cell_type": "code",
   "execution_count": 232,
   "metadata": {},
   "outputs": [],
   "source": [
    "df_message_new['preprocessed'] = [[w for w in l if w!='ie=utf8'] for l in df_message_new['preprocessed']]"
   ]
  },
  {
   "cell_type": "code",
   "execution_count": 233,
   "metadata": {},
   "outputs": [],
   "source": [
    "df_message_new['preprocessed'] = [[w for w in l if w!='⭐'] for l in df_message_new['preprocessed']]"
   ]
  },
  {
   "cell_type": "code",
   "execution_count": 234,
   "metadata": {},
   "outputs": [],
   "source": [
    "df_message_new['preprocessed'] = [[w for w in l if w!='❤️'] for l in df_message_new['preprocessed']]"
   ]
  },
  {
   "cell_type": "code",
   "execution_count": 235,
   "metadata": {},
   "outputs": [],
   "source": [
    "df_message_new['preprocessed'] = [[w for w in l if w!='utm_medium=soci'] for l in df_message_new['preprocessed']]"
   ]
  },
  {
   "cell_type": "code",
   "execution_count": 236,
   "metadata": {},
   "outputs": [],
   "source": [
    "df_message_new['preprocessed'] = [[w for w in l if w!='epa=hashtag'] for l in df_message_new['preprocessed']]"
   ]
  },
  {
   "cell_type": "code",
   "execution_count": 237,
   "metadata": {},
   "outputs": [],
   "source": [
    "df_message_new['preprocessed'] = [[w for w in l if w!='source=feed_text'] for l in df_message_new['preprocessed']]"
   ]
  },
  {
   "cell_type": "code",
   "execution_count": 238,
   "metadata": {},
   "outputs": [],
   "source": [
    "df_message_new['preprocessed'] = [[w for w in l if w!='💗'] for l in df_message_new['preprocessed']]"
   ]
  },
  {
   "cell_type": "code",
   "execution_count": 239,
   "metadata": {},
   "outputs": [],
   "source": [
    "df_message_new['preprocessed'] = [[w for w in l if w!='💜'] for l in df_message_new['preprocessed']]"
   ]
  },
  {
   "cell_type": "code",
   "execution_count": 240,
   "metadata": {},
   "outputs": [
    {
     "data": {
      "text/html": [
       "<div>\n",
       "<style scoped>\n",
       "    .dataframe tbody tr th:only-of-type {\n",
       "        vertical-align: middle;\n",
       "    }\n",
       "\n",
       "    .dataframe tbody tr th {\n",
       "        vertical-align: top;\n",
       "    }\n",
       "\n",
       "    .dataframe thead th {\n",
       "        text-align: right;\n",
       "    }\n",
       "</style>\n",
       "<table border=\"1\" class=\"dataframe\">\n",
       "  <thead>\n",
       "    <tr style=\"text-align: right;\">\n",
       "      <th></th>\n",
       "      <th>stemming_as_string</th>\n",
       "      <th>stemming_as_tokens</th>\n",
       "      <th>preprocessed</th>\n",
       "    </tr>\n",
       "  </thead>\n",
       "  <tbody>\n",
       "    <tr>\n",
       "      <th>0</th>\n",
       "      <td>brauchen stammzellspend kleinen jungen jemande...</td>\n",
       "      <td>[brauchen, stammzellspend, kleinen, jungen, je...</td>\n",
       "      <td>[brauchen, stammzellspend, kleinen, jungen, je...</td>\n",
       "    </tr>\n",
       "    <tr>\n",
       "      <th>1</th>\n",
       "      <td>nachdenken irgendwo draußen gibt frau jahr kin...</td>\n",
       "      <td>[nachdenken, irgendwo, draußen, gibt, frau, ja...</td>\n",
       "      <td>[nachdenken, irgendwo, draußen, gibt, frau, ja...</td>\n",
       "    </tr>\n",
       "    <tr>\n",
       "      <th>2</th>\n",
       "      <td>menschen mehr essen gebt kuchen. österreichisc...</td>\n",
       "      <td>[menschen, mehr, essen, gebt, kuchen., österre...</td>\n",
       "      <td>[menschen, mehr, essen, gebt, kuchen., österre...</td>\n",
       "    </tr>\n",
       "    <tr>\n",
       "      <th>3</th>\n",
       "      <td>kommentar friedrich zwei leben drei gewissenlo...</td>\n",
       "      <td>[kommentar, friedrich, zwei, leben, drei, gewi...</td>\n",
       "      <td>[kommentar, friedrich, zwei, leben, drei, gewi...</td>\n",
       "    </tr>\n",
       "    <tr>\n",
       "      <th>4</th>\n",
       "      <td>geburt hebamm allein irgendwo natur alleingebu...</td>\n",
       "      <td>[geburt, hebamm, allein, irgendwo, natur, alle...</td>\n",
       "      <td>[geburt, hebamm, allein, irgendwo, natur, alle...</td>\n",
       "    </tr>\n",
       "  </tbody>\n",
       "</table>\n",
       "</div>"
      ],
      "text/plain": [
       "                                  stemming_as_string  \\\n",
       "0  brauchen stammzellspend kleinen jungen jemande...   \n",
       "1  nachdenken irgendwo draußen gibt frau jahr kin...   \n",
       "2  menschen mehr essen gebt kuchen. österreichisc...   \n",
       "3  kommentar friedrich zwei leben drei gewissenlo...   \n",
       "4  geburt hebamm allein irgendwo natur alleingebu...   \n",
       "\n",
       "                                  stemming_as_tokens  \\\n",
       "0  [brauchen, stammzellspend, kleinen, jungen, je...   \n",
       "1  [nachdenken, irgendwo, draußen, gibt, frau, ja...   \n",
       "2  [menschen, mehr, essen, gebt, kuchen., österre...   \n",
       "3  [kommentar, friedrich, zwei, leben, drei, gewi...   \n",
       "4  [geburt, hebamm, allein, irgendwo, natur, alle...   \n",
       "\n",
       "                                        preprocessed  \n",
       "0  [brauchen, stammzellspend, kleinen, jungen, je...  \n",
       "1  [nachdenken, irgendwo, draußen, gibt, frau, ja...  \n",
       "2  [menschen, mehr, essen, gebt, kuchen., österre...  \n",
       "3  [kommentar, friedrich, zwei, leben, drei, gewi...  \n",
       "4  [geburt, hebamm, allein, irgendwo, natur, alle...  "
      ]
     },
     "execution_count": 240,
     "metadata": {},
     "output_type": "execute_result"
    }
   ],
   "source": [
    "df_message_new.head()"
   ]
  },
  {
   "cell_type": "code",
   "execution_count": 241,
   "metadata": {},
   "outputs": [],
   "source": [
    "df_message_new['preprocessed_as_string'] = df_message_new['preprocessed'].str.join(' ')"
   ]
  },
  {
   "cell_type": "code",
   "execution_count": 242,
   "metadata": {},
   "outputs": [],
   "source": [
    "# export data\n",
    "df_message_new.to_csv('preprocessed_data_4.csv')  "
   ]
  },
  {
   "cell_type": "markdown",
   "metadata": {},
   "source": [
    "#### Filtering out English text"
   ]
  },
  {
   "cell_type": "code",
   "execution_count": 243,
   "metadata": {},
   "outputs": [],
   "source": [
    "import fasttext"
   ]
  },
  {
   "cell_type": "code",
   "execution_count": 244,
   "metadata": {},
   "outputs": [
    {
     "name": "stderr",
     "output_type": "stream",
     "text": [
      "Warning : `load_model` does not return WordVectorModel or SupervisedModel any more, but a `FastText` object which is very similar.\n"
     ]
    }
   ],
   "source": [
    "model = fasttext.load_model('lid.176.bin')"
   ]
  },
  {
   "cell_type": "code",
   "execution_count": 245,
   "metadata": {},
   "outputs": [],
   "source": [
    "df_message_new['language'] = df_message_new['preprocessed_as_string'].apply(model.predict)"
   ]
  },
  {
   "cell_type": "code",
   "execution_count": 246,
   "metadata": {},
   "outputs": [],
   "source": [
    "df_message_new['language_label'] = [a_tuple[0] for a_tuple in df_message_new['language']]"
   ]
  },
  {
   "cell_type": "code",
   "execution_count": 247,
   "metadata": {},
   "outputs": [],
   "source": [
    "df_message_new['language_acc'] = [a_tuple[1] for a_tuple in df_message_new['language']]"
   ]
  },
  {
   "cell_type": "code",
   "execution_count": 248,
   "metadata": {},
   "outputs": [
    {
     "data": {
      "text/html": [
       "<div>\n",
       "<style scoped>\n",
       "    .dataframe tbody tr th:only-of-type {\n",
       "        vertical-align: middle;\n",
       "    }\n",
       "\n",
       "    .dataframe tbody tr th {\n",
       "        vertical-align: top;\n",
       "    }\n",
       "\n",
       "    .dataframe thead th {\n",
       "        text-align: right;\n",
       "    }\n",
       "</style>\n",
       "<table border=\"1\" class=\"dataframe\">\n",
       "  <thead>\n",
       "    <tr style=\"text-align: right;\">\n",
       "      <th></th>\n",
       "      <th>stemming_as_string</th>\n",
       "      <th>stemming_as_tokens</th>\n",
       "      <th>preprocessed</th>\n",
       "      <th>preprocessed_as_string</th>\n",
       "      <th>language</th>\n",
       "      <th>language_label</th>\n",
       "      <th>language_acc</th>\n",
       "    </tr>\n",
       "  </thead>\n",
       "  <tbody>\n",
       "    <tr>\n",
       "      <th>0</th>\n",
       "      <td>brauchen stammzellspend kleinen jungen jemande...</td>\n",
       "      <td>[brauchen, stammzellspend, kleinen, jungen, je...</td>\n",
       "      <td>[brauchen, stammzellspend, kleinen, jungen, je...</td>\n",
       "      <td>brauchen stammzellspend kleinen jungen jemande...</td>\n",
       "      <td>((__label__de,), [0.9400924444198608])</td>\n",
       "      <td>(__label__de,)</td>\n",
       "      <td>[0.9400924444198608]</td>\n",
       "    </tr>\n",
       "    <tr>\n",
       "      <th>1</th>\n",
       "      <td>nachdenken irgendwo draußen gibt frau jahr kin...</td>\n",
       "      <td>[nachdenken, irgendwo, draußen, gibt, frau, ja...</td>\n",
       "      <td>[nachdenken, irgendwo, draußen, gibt, frau, ja...</td>\n",
       "      <td>nachdenken irgendwo draußen gibt frau jahr kin...</td>\n",
       "      <td>((__label__de,), [0.9671519994735718])</td>\n",
       "      <td>(__label__de,)</td>\n",
       "      <td>[0.9671519994735718]</td>\n",
       "    </tr>\n",
       "    <tr>\n",
       "      <th>2</th>\n",
       "      <td>menschen mehr essen gebt kuchen. österreichisc...</td>\n",
       "      <td>[menschen, mehr, essen, gebt, kuchen., österre...</td>\n",
       "      <td>[menschen, mehr, essen, gebt, kuchen., österre...</td>\n",
       "      <td>menschen mehr essen gebt kuchen. österreichisc...</td>\n",
       "      <td>((__label__de,), [0.9720797538757324])</td>\n",
       "      <td>(__label__de,)</td>\n",
       "      <td>[0.9720797538757324]</td>\n",
       "    </tr>\n",
       "    <tr>\n",
       "      <th>3</th>\n",
       "      <td>kommentar friedrich zwei leben drei gewissenlo...</td>\n",
       "      <td>[kommentar, friedrich, zwei, leben, drei, gewi...</td>\n",
       "      <td>[kommentar, friedrich, zwei, leben, drei, gewi...</td>\n",
       "      <td>kommentar friedrich zwei leben drei gewissenlo...</td>\n",
       "      <td>((__label__de,), [0.9775356650352478])</td>\n",
       "      <td>(__label__de,)</td>\n",
       "      <td>[0.9775356650352478]</td>\n",
       "    </tr>\n",
       "    <tr>\n",
       "      <th>4</th>\n",
       "      <td>geburt hebamm allein irgendwo natur alleingebu...</td>\n",
       "      <td>[geburt, hebamm, allein, irgendwo, natur, alle...</td>\n",
       "      <td>[geburt, hebamm, allein, irgendwo, natur, alle...</td>\n",
       "      <td>geburt hebamm allein irgendwo natur alleingebu...</td>\n",
       "      <td>((__label__de,), [0.9440410733222961])</td>\n",
       "      <td>(__label__de,)</td>\n",
       "      <td>[0.9440410733222961]</td>\n",
       "    </tr>\n",
       "    <tr>\n",
       "      <th>...</th>\n",
       "      <td>...</td>\n",
       "      <td>...</td>\n",
       "      <td>...</td>\n",
       "      <td>...</td>\n",
       "      <td>...</td>\n",
       "      <td>...</td>\n",
       "      <td>...</td>\n",
       "    </tr>\n",
       "    <tr>\n",
       "      <th>192302</th>\n",
       "      <td>geburt kind ändert alltag schlagartig schon ma...</td>\n",
       "      <td>[geburt, kind, ändert, alltag, schlagartig, sc...</td>\n",
       "      <td>[geburt, kind, ändert, alltag, schlagartig, sc...</td>\n",
       "      <td>geburt kind ändert alltag schlagartig schon ma...</td>\n",
       "      <td>((__label__de,), [0.986617922782898])</td>\n",
       "      <td>(__label__de,)</td>\n",
       "      <td>[0.986617922782898]</td>\n",
       "    </tr>\n",
       "    <tr>\n",
       "      <th>192303</th>\n",
       "      <td>viel krefeld müssen weihnachtsfeiertagen arbei...</td>\n",
       "      <td>[viel, krefeld, müssen, weihnachtsfeiertagen, ...</td>\n",
       "      <td>[viel, krefeld, müssen, weihnachtsfeiertagen, ...</td>\n",
       "      <td>viel krefeld müssen weihnachtsfeiertagen arbei...</td>\n",
       "      <td>((__label__de,), [0.9846705198287964])</td>\n",
       "      <td>(__label__de,)</td>\n",
       "      <td>[0.9846705198287964]</td>\n",
       "    </tr>\n",
       "    <tr>\n",
       "      <th>192304</th>\n",
       "      <td>wer stark gefährdet situationen ansteckungsgef...</td>\n",
       "      <td>[wer, stark, gefährdet, situationen, ansteckun...</td>\n",
       "      <td>[wer, stark, gefährdet, situationen, ansteckun...</td>\n",
       "      <td>wer stark gefährdet situationen ansteckungsgef...</td>\n",
       "      <td>((__label__de,), [0.9650313258171082])</td>\n",
       "      <td>(__label__de,)</td>\n",
       "      <td>[0.9650313258171082]</td>\n",
       "    </tr>\n",
       "    <tr>\n",
       "      <th>192305</th>\n",
       "      <td>möchtest muskulatur aufbauen stark heutig blog...</td>\n",
       "      <td>[möchtest, muskulatur, aufbauen, stark, heutig...</td>\n",
       "      <td>[möchtest, muskulatur, aufbauen, stark, heutig...</td>\n",
       "      <td>möchtest muskulatur aufbauen stark heutig blog...</td>\n",
       "      <td>((__label__de,), [0.8154775500297546])</td>\n",
       "      <td>(__label__de,)</td>\n",
       "      <td>[0.8154775500297546]</td>\n",
       "    </tr>\n",
       "    <tr>\n",
       "      <th>192306</th>\n",
       "      <td>geburt kind löst vielen eltern freud sorgen ki...</td>\n",
       "      <td>[geburt, kind, löst, vielen, eltern, freud, so...</td>\n",
       "      <td>[geburt, kind, löst, vielen, eltern, freud, so...</td>\n",
       "      <td>geburt kind löst vielen eltern freud sorgen ki...</td>\n",
       "      <td>((__label__de,), [0.8407396674156189])</td>\n",
       "      <td>(__label__de,)</td>\n",
       "      <td>[0.8407396674156189]</td>\n",
       "    </tr>\n",
       "  </tbody>\n",
       "</table>\n",
       "<p>192273 rows × 7 columns</p>\n",
       "</div>"
      ],
      "text/plain": [
       "                                       stemming_as_string  \\\n",
       "0       brauchen stammzellspend kleinen jungen jemande...   \n",
       "1       nachdenken irgendwo draußen gibt frau jahr kin...   \n",
       "2       menschen mehr essen gebt kuchen. österreichisc...   \n",
       "3       kommentar friedrich zwei leben drei gewissenlo...   \n",
       "4       geburt hebamm allein irgendwo natur alleingebu...   \n",
       "...                                                   ...   \n",
       "192302  geburt kind ändert alltag schlagartig schon ma...   \n",
       "192303  viel krefeld müssen weihnachtsfeiertagen arbei...   \n",
       "192304  wer stark gefährdet situationen ansteckungsgef...   \n",
       "192305  möchtest muskulatur aufbauen stark heutig blog...   \n",
       "192306  geburt kind löst vielen eltern freud sorgen ki...   \n",
       "\n",
       "                                       stemming_as_tokens  \\\n",
       "0       [brauchen, stammzellspend, kleinen, jungen, je...   \n",
       "1       [nachdenken, irgendwo, draußen, gibt, frau, ja...   \n",
       "2       [menschen, mehr, essen, gebt, kuchen., österre...   \n",
       "3       [kommentar, friedrich, zwei, leben, drei, gewi...   \n",
       "4       [geburt, hebamm, allein, irgendwo, natur, alle...   \n",
       "...                                                   ...   \n",
       "192302  [geburt, kind, ändert, alltag, schlagartig, sc...   \n",
       "192303  [viel, krefeld, müssen, weihnachtsfeiertagen, ...   \n",
       "192304  [wer, stark, gefährdet, situationen, ansteckun...   \n",
       "192305  [möchtest, muskulatur, aufbauen, stark, heutig...   \n",
       "192306  [geburt, kind, löst, vielen, eltern, freud, so...   \n",
       "\n",
       "                                             preprocessed  \\\n",
       "0       [brauchen, stammzellspend, kleinen, jungen, je...   \n",
       "1       [nachdenken, irgendwo, draußen, gibt, frau, ja...   \n",
       "2       [menschen, mehr, essen, gebt, kuchen., österre...   \n",
       "3       [kommentar, friedrich, zwei, leben, drei, gewi...   \n",
       "4       [geburt, hebamm, allein, irgendwo, natur, alle...   \n",
       "...                                                   ...   \n",
       "192302  [geburt, kind, ändert, alltag, schlagartig, sc...   \n",
       "192303  [viel, krefeld, müssen, weihnachtsfeiertagen, ...   \n",
       "192304  [wer, stark, gefährdet, situationen, ansteckun...   \n",
       "192305  [möchtest, muskulatur, aufbauen, stark, heutig...   \n",
       "192306  [geburt, kind, löst, vielen, eltern, freud, so...   \n",
       "\n",
       "                                   preprocessed_as_string  \\\n",
       "0       brauchen stammzellspend kleinen jungen jemande...   \n",
       "1       nachdenken irgendwo draußen gibt frau jahr kin...   \n",
       "2       menschen mehr essen gebt kuchen. österreichisc...   \n",
       "3       kommentar friedrich zwei leben drei gewissenlo...   \n",
       "4       geburt hebamm allein irgendwo natur alleingebu...   \n",
       "...                                                   ...   \n",
       "192302  geburt kind ändert alltag schlagartig schon ma...   \n",
       "192303  viel krefeld müssen weihnachtsfeiertagen arbei...   \n",
       "192304  wer stark gefährdet situationen ansteckungsgef...   \n",
       "192305  möchtest muskulatur aufbauen stark heutig blog...   \n",
       "192306  geburt kind löst vielen eltern freud sorgen ki...   \n",
       "\n",
       "                                      language  language_label  \\\n",
       "0       ((__label__de,), [0.9400924444198608])  (__label__de,)   \n",
       "1       ((__label__de,), [0.9671519994735718])  (__label__de,)   \n",
       "2       ((__label__de,), [0.9720797538757324])  (__label__de,)   \n",
       "3       ((__label__de,), [0.9775356650352478])  (__label__de,)   \n",
       "4       ((__label__de,), [0.9440410733222961])  (__label__de,)   \n",
       "...                                        ...             ...   \n",
       "192302   ((__label__de,), [0.986617922782898])  (__label__de,)   \n",
       "192303  ((__label__de,), [0.9846705198287964])  (__label__de,)   \n",
       "192304  ((__label__de,), [0.9650313258171082])  (__label__de,)   \n",
       "192305  ((__label__de,), [0.8154775500297546])  (__label__de,)   \n",
       "192306  ((__label__de,), [0.8407396674156189])  (__label__de,)   \n",
       "\n",
       "                language_acc  \n",
       "0       [0.9400924444198608]  \n",
       "1       [0.9671519994735718]  \n",
       "2       [0.9720797538757324]  \n",
       "3       [0.9775356650352478]  \n",
       "4       [0.9440410733222961]  \n",
       "...                      ...  \n",
       "192302   [0.986617922782898]  \n",
       "192303  [0.9846705198287964]  \n",
       "192304  [0.9650313258171082]  \n",
       "192305  [0.8154775500297546]  \n",
       "192306  [0.8407396674156189]  \n",
       "\n",
       "[192273 rows x 7 columns]"
      ]
     },
     "execution_count": 248,
     "metadata": {},
     "output_type": "execute_result"
    }
   ],
   "source": [
    "df_message_new"
   ]
  },
  {
   "cell_type": "code",
   "execution_count": 263,
   "metadata": {},
   "outputs": [
    {
     "name": "stdout",
     "output_type": "stream",
     "text": [
      "459\n"
     ]
    }
   ],
   "source": [
    "df1 = df_message_new.loc[((df_message_new['language_acc'] > 0.6) & (df_message_new['language_label']==('__label__en',)))]\n",
    "ind = df1.index\n",
    "print(len(ind))"
   ]
  },
  {
   "cell_type": "code",
   "execution_count": 264,
   "metadata": {},
   "outputs": [
    {
     "data": {
      "text/plain": [
       "Int64Index([   655,   1090,   2423,   2850,   6532,   8505,   8856,   9583,\n",
       "             12908,  13027,\n",
       "            ...\n",
       "            183756, 183760, 183761, 183763, 183766, 184081, 185383, 185523,\n",
       "            187478, 190421],\n",
       "           dtype='int64', length=459)"
      ]
     },
     "execution_count": 264,
     "metadata": {},
     "output_type": "execute_result"
    }
   ],
   "source": [
    "ind"
   ]
  },
  {
   "cell_type": "code",
   "execution_count": 265,
   "metadata": {},
   "outputs": [
    {
     "data": {
      "text/html": [
       "<div>\n",
       "<style scoped>\n",
       "    .dataframe tbody tr th:only-of-type {\n",
       "        vertical-align: middle;\n",
       "    }\n",
       "\n",
       "    .dataframe tbody tr th {\n",
       "        vertical-align: top;\n",
       "    }\n",
       "\n",
       "    .dataframe thead th {\n",
       "        text-align: right;\n",
       "    }\n",
       "</style>\n",
       "<table border=\"1\" class=\"dataframe\">\n",
       "  <thead>\n",
       "    <tr style=\"text-align: right;\">\n",
       "      <th></th>\n",
       "      <th>stemming_as_string</th>\n",
       "      <th>stemming_as_tokens</th>\n",
       "      <th>preprocessed</th>\n",
       "      <th>preprocessed_as_string</th>\n",
       "      <th>language</th>\n",
       "      <th>language_label</th>\n",
       "      <th>language_acc</th>\n",
       "    </tr>\n",
       "  </thead>\n",
       "  <tbody>\n",
       "    <tr>\n",
       "      <th>655</th>\n",
       "      <td>wahnsinn zeit fliegt schon monat her tag gebur...</td>\n",
       "      <td>[wahnsinn, zeit, fliegt, schon, monat, her, ta...</td>\n",
       "      <td>[wahnsinn, zeit, fliegt, schon, monat, her, ta...</td>\n",
       "      <td>wahnsinn zeit fliegt schon monat her tag gebur...</td>\n",
       "      <td>((__label__en,), [0.507649302482605])</td>\n",
       "      <td>(__label__en,)</td>\n",
       "      <td>[0.507649302482605]</td>\n",
       "    </tr>\n",
       "    <tr>\n",
       "      <th>1090</th>\n",
       "      <td>babi schlafen coachen</td>\n",
       "      <td>[babi, schlafen, coachen]</td>\n",
       "      <td>[babi, schlafen, coachen]</td>\n",
       "      <td>babi schlafen coachen</td>\n",
       "      <td>((__label__en,), [0.575350284576416])</td>\n",
       "      <td>(__label__en,)</td>\n",
       "      <td>[0.575350284576416]</td>\n",
       "    </tr>\n",
       "    <tr>\n",
       "      <th>2423</th>\n",
       "      <td>werbung more day to go and we are readi for th...</td>\n",
       "      <td>[werbung, more, day, to, go, and, we, are, rea...</td>\n",
       "      <td>[werbung, more, day, to, go, and, we, are, rea...</td>\n",
       "      <td>werbung more day to go and we are readi for th...</td>\n",
       "      <td>((__label__en,), [0.5066161155700684])</td>\n",
       "      <td>(__label__en,)</td>\n",
       "      <td>[0.5066161155700684]</td>\n",
       "    </tr>\n",
       "    <tr>\n",
       "      <th>2850</th>\n",
       "      <td>bitt 😳 method gar unnorm ...</td>\n",
       "      <td>[bitt, 😳, method, gar, unnorm, ...]</td>\n",
       "      <td>[bitt, 😳, method, gar, unnorm]</td>\n",
       "      <td>bitt 😳 method gar unnorm</td>\n",
       "      <td>((__label__en,), [0.5428992509841919])</td>\n",
       "      <td>(__label__en,)</td>\n",
       "      <td>[0.5428992509841919]</td>\n",
       "    </tr>\n",
       "    <tr>\n",
       "      <th>6532</th>\n",
       "      <td>kennt schon cocoo•m tragetüch handmad austria ...</td>\n",
       "      <td>[kennt, schon, cocoo•m, tragetüch, handmad, au...</td>\n",
       "      <td>[kennt, schon, cocoo•m, tragetüch, handmad, au...</td>\n",
       "      <td>kennt schon cocoo•m tragetüch handmad austria ...</td>\n",
       "      <td>((__label__en,), [0.5257049798965454])</td>\n",
       "      <td>(__label__en,)</td>\n",
       "      <td>[0.5257049798965454]</td>\n",
       "    </tr>\n",
       "    <tr>\n",
       "      <th>...</th>\n",
       "      <td>...</td>\n",
       "      <td>...</td>\n",
       "      <td>...</td>\n",
       "      <td>...</td>\n",
       "      <td>...</td>\n",
       "      <td>...</td>\n",
       "      <td>...</td>\n",
       "    </tr>\n",
       "    <tr>\n",
       "      <th>184081</th>\n",
       "      <td>materi http //www.farmville2gifthouse.com/farm...</td>\n",
       "      <td>[materi, http, //www.farmville2gifthouse.com/f...</td>\n",
       "      <td>[materi, //www.farmville2gifthouse.com/farmvil...</td>\n",
       "      <td>materi //www.farmville2gifthouse.com/farmville...</td>\n",
       "      <td>((__label__en,), [0.5259086489677429])</td>\n",
       "      <td>(__label__en,)</td>\n",
       "      <td>[0.5259086489677429]</td>\n",
       "    </tr>\n",
       "    <tr>\n",
       "      <th>185383</th>\n",
       "      <td>stylisch unterweg tragen inzwischen mehr trans...</td>\n",
       "      <td>[stylisch, unterweg, tragen, inzwischen, mehr,...</td>\n",
       "      <td>[stylisch, unterweg, tragen, inzwischen, mehr,...</td>\n",
       "      <td>stylisch unterweg tragen inzwischen mehr trans...</td>\n",
       "      <td>((__label__en,), [0.5367388129234314])</td>\n",
       "      <td>(__label__en,)</td>\n",
       "      <td>[0.5367388129234314]</td>\n",
       "    </tr>\n",
       "    <tr>\n",
       "      <th>185523</th>\n",
       "      <td>grati huggies® blackweek deal sichern http //b...</td>\n",
       "      <td>[grati, huggies®, blackweek, deal, sichern, ht...</td>\n",
       "      <td>[grati, huggies®, blackweek, deal, sichern, //...</td>\n",
       "      <td>grati huggies® blackweek deal sichern //bit.ly...</td>\n",
       "      <td>((__label__en,), [0.5023903250694275])</td>\n",
       "      <td>(__label__en,)</td>\n",
       "      <td>[0.5023903250694275]</td>\n",
       "    </tr>\n",
       "    <tr>\n",
       "      <th>187478</th>\n",
       "      <td>materi http //www.farmville2gifthouse.com/farm...</td>\n",
       "      <td>[materi, http, //www.farmville2gifthouse.com/f...</td>\n",
       "      <td>[materi, //www.farmville2gifthouse.com/farmvil...</td>\n",
       "      <td>materi //www.farmville2gifthouse.com/farmville...</td>\n",
       "      <td>((__label__en,), [0.5259086489677429])</td>\n",
       "      <td>(__label__en,)</td>\n",
       "      <td>[0.5259086489677429]</td>\n",
       "    </tr>\n",
       "    <tr>\n",
       "      <th>190421</th>\n",
       "      <td>besten babi deal black week findest 😍 👉http //...</td>\n",
       "      <td>[besten, babi, deal, black, week, findest, 😍, ...</td>\n",
       "      <td>[besten, babi, deal, black, week, findest, 😍, ...</td>\n",
       "      <td>besten babi deal black week findest 😍 👉http //...</td>\n",
       "      <td>((__label__en,), [0.5387800335884094])</td>\n",
       "      <td>(__label__en,)</td>\n",
       "      <td>[0.5387800335884094]</td>\n",
       "    </tr>\n",
       "  </tbody>\n",
       "</table>\n",
       "<p>459 rows × 7 columns</p>\n",
       "</div>"
      ],
      "text/plain": [
       "                                       stemming_as_string  \\\n",
       "655     wahnsinn zeit fliegt schon monat her tag gebur...   \n",
       "1090                                babi schlafen coachen   \n",
       "2423    werbung more day to go and we are readi for th...   \n",
       "2850                         bitt 😳 method gar unnorm ...   \n",
       "6532    kennt schon cocoo•m tragetüch handmad austria ...   \n",
       "...                                                   ...   \n",
       "184081  materi http //www.farmville2gifthouse.com/farm...   \n",
       "185383  stylisch unterweg tragen inzwischen mehr trans...   \n",
       "185523  grati huggies® blackweek deal sichern http //b...   \n",
       "187478  materi http //www.farmville2gifthouse.com/farm...   \n",
       "190421  besten babi deal black week findest 😍 👉http //...   \n",
       "\n",
       "                                       stemming_as_tokens  \\\n",
       "655     [wahnsinn, zeit, fliegt, schon, monat, her, ta...   \n",
       "1090                            [babi, schlafen, coachen]   \n",
       "2423    [werbung, more, day, to, go, and, we, are, rea...   \n",
       "2850                  [bitt, 😳, method, gar, unnorm, ...]   \n",
       "6532    [kennt, schon, cocoo•m, tragetüch, handmad, au...   \n",
       "...                                                   ...   \n",
       "184081  [materi, http, //www.farmville2gifthouse.com/f...   \n",
       "185383  [stylisch, unterweg, tragen, inzwischen, mehr,...   \n",
       "185523  [grati, huggies®, blackweek, deal, sichern, ht...   \n",
       "187478  [materi, http, //www.farmville2gifthouse.com/f...   \n",
       "190421  [besten, babi, deal, black, week, findest, 😍, ...   \n",
       "\n",
       "                                             preprocessed  \\\n",
       "655     [wahnsinn, zeit, fliegt, schon, monat, her, ta...   \n",
       "1090                            [babi, schlafen, coachen]   \n",
       "2423    [werbung, more, day, to, go, and, we, are, rea...   \n",
       "2850                       [bitt, 😳, method, gar, unnorm]   \n",
       "6532    [kennt, schon, cocoo•m, tragetüch, handmad, au...   \n",
       "...                                                   ...   \n",
       "184081  [materi, //www.farmville2gifthouse.com/farmvil...   \n",
       "185383  [stylisch, unterweg, tragen, inzwischen, mehr,...   \n",
       "185523  [grati, huggies®, blackweek, deal, sichern, //...   \n",
       "187478  [materi, //www.farmville2gifthouse.com/farmvil...   \n",
       "190421  [besten, babi, deal, black, week, findest, 😍, ...   \n",
       "\n",
       "                                   preprocessed_as_string  \\\n",
       "655     wahnsinn zeit fliegt schon monat her tag gebur...   \n",
       "1090                                babi schlafen coachen   \n",
       "2423    werbung more day to go and we are readi for th...   \n",
       "2850                             bitt 😳 method gar unnorm   \n",
       "6532    kennt schon cocoo•m tragetüch handmad austria ...   \n",
       "...                                                   ...   \n",
       "184081  materi //www.farmville2gifthouse.com/farmville...   \n",
       "185383  stylisch unterweg tragen inzwischen mehr trans...   \n",
       "185523  grati huggies® blackweek deal sichern //bit.ly...   \n",
       "187478  materi //www.farmville2gifthouse.com/farmville...   \n",
       "190421  besten babi deal black week findest 😍 👉http //...   \n",
       "\n",
       "                                      language  language_label  \\\n",
       "655      ((__label__en,), [0.507649302482605])  (__label__en,)   \n",
       "1090     ((__label__en,), [0.575350284576416])  (__label__en,)   \n",
       "2423    ((__label__en,), [0.5066161155700684])  (__label__en,)   \n",
       "2850    ((__label__en,), [0.5428992509841919])  (__label__en,)   \n",
       "6532    ((__label__en,), [0.5257049798965454])  (__label__en,)   \n",
       "...                                        ...             ...   \n",
       "184081  ((__label__en,), [0.5259086489677429])  (__label__en,)   \n",
       "185383  ((__label__en,), [0.5367388129234314])  (__label__en,)   \n",
       "185523  ((__label__en,), [0.5023903250694275])  (__label__en,)   \n",
       "187478  ((__label__en,), [0.5259086489677429])  (__label__en,)   \n",
       "190421  ((__label__en,), [0.5387800335884094])  (__label__en,)   \n",
       "\n",
       "                language_acc  \n",
       "655      [0.507649302482605]  \n",
       "1090     [0.575350284576416]  \n",
       "2423    [0.5066161155700684]  \n",
       "2850    [0.5428992509841919]  \n",
       "6532    [0.5257049798965454]  \n",
       "...                      ...  \n",
       "184081  [0.5259086489677429]  \n",
       "185383  [0.5367388129234314]  \n",
       "185523  [0.5023903250694275]  \n",
       "187478  [0.5259086489677429]  \n",
       "190421  [0.5387800335884094]  \n",
       "\n",
       "[459 rows x 7 columns]"
      ]
     },
     "execution_count": 265,
     "metadata": {},
     "output_type": "execute_result"
    }
   ],
   "source": [
    "df_message_new.loc[ind]"
   ]
  },
  {
   "cell_type": "code",
   "execution_count": 258,
   "metadata": {},
   "outputs": [
    {
     "data": {
      "text/plain": [
       "(192273, 7)"
      ]
     },
     "execution_count": 258,
     "metadata": {},
     "output_type": "execute_result"
    }
   ],
   "source": [
    "df_message_new.shape"
   ]
  },
  {
   "cell_type": "code",
   "execution_count": 259,
   "metadata": {},
   "outputs": [],
   "source": [
    "df_message_new = df_message_new.drop(ind)"
   ]
  },
  {
   "cell_type": "code",
   "execution_count": 261,
   "metadata": {},
   "outputs": [],
   "source": [
    "# reset index\n",
    "df_message_new = df_message_new.reset_index(drop=True)"
   ]
  },
  {
   "cell_type": "code",
   "execution_count": 262,
   "metadata": {},
   "outputs": [],
   "source": [
    "# export data\n",
    "df_message_new.to_csv('preprocessed_data_5.csv')"
   ]
  },
  {
   "cell_type": "code",
   "execution_count": null,
   "metadata": {},
   "outputs": [],
   "source": []
  }
 ],
 "metadata": {
  "kernelspec": {
   "display_name": "Python 3",
   "language": "python",
   "name": "python3"
  },
  "language_info": {
   "codemirror_mode": {
    "name": "ipython",
    "version": 3
   },
   "file_extension": ".py",
   "mimetype": "text/x-python",
   "name": "python",
   "nbconvert_exporter": "python",
   "pygments_lexer": "ipython3",
   "version": "3.8.3"
  }
 },
 "nbformat": 4,
 "nbformat_minor": 4
}
